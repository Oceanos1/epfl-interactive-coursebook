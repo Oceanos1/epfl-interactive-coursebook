{
 "cells": [
  {
   "cell_type": "code",
   "execution_count": 1,
   "metadata": {},
   "outputs": [],
   "source": [
    "import json\n",
    "import numpy as np\n",
    "import pandas as pd\n",
    "from IPython.display import JSON"
   ]
  },
  {
   "cell_type": "code",
   "execution_count": 2,
   "metadata": {},
   "outputs": [],
   "source": [
    "def read_raw(filename, subdir='raw'):\n",
    "    \"\"\"Reads the raw json data file @filename and returns it as a dict\"\"\"\n",
    "    with open(f'../data/{subdir}/{filename}.json') as file:\n",
    "        return json.load(file)\n",
    "    \n",
    "def write_processed_df(filename, dataframe, orient='index'):\n",
    "    \"\"\"Writes the @dataframe to a processed json data file @filename\"\"\"\n",
    "    dataframe.to_json(f'../data/processed/{filename}.json', orient=orient, indent=4)\n",
    "\n",
    "def write_processed_dict(filename, dictionary):\n",
    "    \"\"\"Writes the @dictionary to a processed json data file @filename\"\"\"\n",
    "    with open(f'../data/processed/{filename}.json', 'w') as json_file:\n",
    "        json.dump(dictionary, json_file, indent=4)"
   ]
  },
  {
   "cell_type": "code",
   "execution_count": 3,
   "metadata": {},
   "outputs": [],
   "source": [
    "epfl = read_raw('epfl')\n",
    "epfl_masterspecs = read_raw('epfl_master_specs')\n",
    "epfl_studyplans = read_raw('epfl_studyplans')\n",
    "isa = read_raw('isa_registrations')"
   ]
  },
  {
   "cell_type": "markdown",
   "metadata": {},
   "source": [
    "Snapshots from the json objects:"
   ]
  },
  {
   "cell_type": "code",
   "execution_count": 4,
   "metadata": {},
   "outputs": [
    {
     "data": {
      "application/json": {
       "concepts": [
        "Being autonomous is a prerequisite, we don't offer office hours and we won't have enough teaching assistants (you've been warned!).",
        "Knowledge of one of the following progrmaming language such as C++, Python, Scala.",
        "Familiarity with web-development (you already have a blog, host a webiste). Experience with HTML5, Javascript is a strong plus for the course."
       ],
       "credits": "4",
       "exam_form": "During the semester",
       "in_the_programs": [
        [
         "Communication Systems - master program",
         "Master semester 2"
        ],
        [
         "Communication Systems - master program",
         "Master semester 4"
        ],
        [
         "Computer Science - Cybersecurity",
         "Master semester 2"
        ],
        [
         "Computer Science - Cybersecurity",
         "Master semester 4"
        ],
        [
         "Computer Science",
         "Master semester 2"
        ],
        [
         "Computer Science",
         "Master semester 4"
        ],
        [
         "Data Science",
         "Master semester 2"
        ],
        [
         "Data Science",
         "Master semester 4"
        ],
        [
         "Digital Humanities",
         "Master semester 2"
        ],
        [
         "Digital Humanities",
         "Master semester 4"
        ],
        [
         "Electrical and Electronics Engineering",
         "Master semester 2"
        ],
        [
         "Electrical and Electronics Engineering",
         "Master semester 4"
        ],
        [
         "Data science minor",
         "Spring semester"
        ],
        [
         "Electrical Engineering (edoc)",
         ""
        ]
       ],
       "language": "English",
       "lecture": "2 Hour(s) per week x 14 weeks",
       "lecturers": [
        [
         "Vuillon Laurent Gilles Marie",
         "http://people.epfl.ch/319954"
        ]
       ],
       "name": "Data visualization",
       "note": "",
       "path": "/coursebook/en/data-visualization-COM-480?cb_cycle=bama_cyclemaster&cb_section=sc_ds",
       "prerequisite_for": [],
       "project": "2 Hour(s) per week x 14 weeks",
       "recommended": [
        "EE-558 A Network Tour of Data Science (MA)",
        "CS-486 Human computer interaction (MA)",
        "CS-210 Functional programming (BA)"
       ],
       "required": [
        "CS-305 Software engineering (BA)",
        "CS-250 Algorithms (BA)",
        "CS-401 Applied data analysis (MA)"
       ],
       "section": "SC",
       "semester": "Spring",
       "subject_examined": "Data visualization"
      },
      "text/plain": [
       "<IPython.core.display.JSON object>"
      ]
     },
     "execution_count": 4,
     "metadata": {
      "application/json": {
       "expanded": false,
       "root": "root"
      }
     },
     "output_type": "execute_result"
    }
   ],
   "source": [
    "JSON(epfl['master']['Data Science']['COM-480'])"
   ]
  },
  {
   "cell_type": "code",
   "execution_count": 5,
   "metadata": {},
   "outputs": [
    {
     "data": {
      "application/json": {
       "courses": {
        "AR-535": [
         "d"
        ],
        "CIVIL-369": [
         "d"
        ],
        "CIVIL-402": [
         "b"
        ],
        "CIVIL-403": [
         "b",
         "e"
        ],
        "CIVIL-404": [
         "b",
         "e"
        ],
        "CIVIL-410": [
         "b",
         "e"
        ],
        "CIVIL-411": [
         "b",
         "d",
         "e"
        ],
        "CIVIL-412": [
         "e"
        ],
        "CIVIL-413": [
         "e"
        ],
        "CIVIL-414": [
         "d"
        ],
        "CIVIL-420": [
         "d"
        ],
        "CIVIL-422": [
         "b",
         "d"
        ],
        "CIVIL-423": [
         "b"
        ],
        "CIVIL-424": [
         "b",
         "c",
         "d",
         "e"
        ],
        "CIVIL-428": [
         "b"
        ],
        "CIVIL-430": [
         "d"
        ],
        "CIVIL-433": [
         "d"
        ],
        "CIVIL-434": [
         "d"
        ],
        "CIVIL-435": [
         "d"
        ],
        "CIVIL-436": [
         "b",
         "d",
         "e"
        ],
        "CIVIL-437": [
         "b",
         "d",
         "e"
        ],
        "CIVIL-438": [
         "b",
         "d",
         "e"
        ],
        "CIVIL-441": [
         "e"
        ],
        "CIVIL-442": [
         "e"
        ],
        "CIVIL-443": [
         "d"
        ],
        "CIVIL-444": [
         "b",
         "d",
         "e"
        ],
        "CIVIL-447": [
         "c",
         "e"
        ],
        "CIVIL-448": [
         "b"
        ],
        "CIVIL-449": [
         "d"
        ],
        "CIVIL-450": [
         "e"
        ],
        "CIVIL-451": [
         "b",
         "c"
        ],
        "CIVIL-454": [
         "b",
         "c"
        ],
        "CIVIL-455": [
         "c"
        ],
        "CIVIL-457": [
         "c"
        ],
        "CIVIL-459": [
         "c"
        ],
        "CIVIL-460": [],
        "CIVIL-461": [
         "c"
        ],
        "CIVIL-462": [
         "c"
        ],
        "CIVIL-463": [
         "b",
         "c"
        ],
        "CIVIL-474": [],
        "CIVIL-476": [
         "d"
        ],
        "CIVIL-490": [],
        "CIVIL-491": [],
        "CIVIL-492": [],
        "CIVIL-493": [],
        "CIVIL-515": [
         "e"
        ],
        "CIVIL-522": [
         "b",
         "d",
         "e"
        ],
        "CIVIL-525": [
         "d"
        ],
        "CIVIL-526": [
         "d"
        ],
        "CIVIL-527": [
         "b",
         "d"
        ],
        "CIVIL-530": [
         "b"
        ],
        "CIVIL-532": [
         "d"
        ],
        "CIVIL-557": [
         "c"
        ],
        "CIVIL-597": [],
        "CIVIL-598": [],
        "CIVIL-599": [],
        "ENG-445": [],
        "ENG-466": [],
        "ENG-470": [
         "b",
         "d",
         "e"
        ],
        "ENG-471": [
         "b",
         "d",
         "e"
        ],
        "ENG-474": [
         "b",
         "e"
        ],
        "ENV-418": [],
        "ENV-508": [],
        "MATH-458": [
         "b"
        ],
        "MGT-416": [
         "c"
        ],
        "MGT-427": [
         "c"
        ],
        "PENS-490": [],
        "PENS-491": []
       },
       "spec_key": {
        "b": "Geotechnical Engineering",
        "c": "Transportation",
        "d": "Structural Engineering",
        "e": "Hydraulic Engineering and Energy"
       }
      },
      "text/plain": [
       "<IPython.core.display.JSON object>"
      ]
     },
     "execution_count": 5,
     "metadata": {
      "application/json": {
       "expanded": false,
       "root": "root"
      }
     },
     "output_type": "execute_result"
    }
   ],
   "source": [
    "JSON(epfl_masterspecs['Civil Engineering'])"
   ]
  },
  {
   "cell_type": "code",
   "execution_count": 6,
   "metadata": {},
   "outputs": [
    {
     "data": {
      "text/plain": [
       "'/studyplan/en/master/data-science'"
      ]
     },
     "execution_count": 6,
     "metadata": {},
     "output_type": "execute_result"
    }
   ],
   "source": [
    "epfl_studyplans['master']['Data Science']"
   ]
  },
  {
   "cell_type": "code",
   "execution_count": 7,
   "metadata": {},
   "outputs": [
    {
     "data": {
      "application/json": {
       "2017-2018": {
        "Communication Systems - master program, Master semester 1, 3": 30,
        "Computer Science, Master semester 1, 3": 94,
        "Data Science, Master semester 1": 34,
        "total": 158
       },
       "2018-2019": {
        "Communication Systems - master program, Master semester 1, 3": 11,
        "Computer Science, Master semester 1, 3": 66,
        "Data Science, Master semester 1, 3": 26,
        "Data science minor, Autumn semester": 2,
        "Digital Humanities, Master semester 1, 3": 1,
        "Electrical Engineering (edoc)": 4,
        "Electrical and Electronics Engineering, Master semester 1, 3": 2,
        "total": 112
       },
       "2019-2020": {
        "Communication Systems - master program, Master semester 2, 4": 6,
        "Computer Science - Cybersecurity, Master semester 2, 4": 4,
        "Computer Science, Master semester 2, 4": 66,
        "Data Science, Master semester 2, 4": 49,
        "Data science minor, Spring semester": 14,
        "Digital Humanities, Master semester 2, 4": 6,
        "Electrical and Electronics Engineering, Master semester 2, 4": 9,
        "total": 154
       }
      },
      "text/plain": [
       "<IPython.core.display.JSON object>"
      ]
     },
     "execution_count": 7,
     "metadata": {
      "application/json": {
       "expanded": false,
       "root": "root"
      }
     },
     "output_type": "execute_result"
    }
   ],
   "source": [
    "JSON(isa['Data visualization'])"
   ]
  },
  {
   "cell_type": "markdown",
   "metadata": {},
   "source": [
    "Let's start with noting that only 25 master's programs are currently offered at EPFL and only 13 bachelor programs. So, we have some outdated programs in our database. Let's remove them."
   ]
  },
  {
   "cell_type": "code",
   "execution_count": 8,
   "metadata": {},
   "outputs": [
    {
     "data": {
      "text/plain": [
       "{'propedeutics': 14,\n",
       " 'bachelor': 17,\n",
       " 'master': 29,\n",
       " 'minor': 20,\n",
       " 'doctoral_school': 22}"
      ]
     },
     "execution_count": 8,
     "metadata": {},
     "output_type": "execute_result"
    }
   ],
   "source": [
    "{level: len(programs) for level, programs in epfl.items()}"
   ]
  },
  {
   "cell_type": "code",
   "execution_count": 9,
   "metadata": {},
   "outputs": [],
   "source": [
    "# Only 13 bachelor programs are currently offered\n",
    "# + Humanities and Social Sciences Program\n",
    "# + Design Together ENAC\n",
    "# https://www.epfl.ch/education/bachelor/programs/\n",
    "bachelor_not_current = ['Chemistry', 'Chemical Engineering']\n",
    "\n",
    "# Only 25 master's programs are currently offered\n",
    "# + Humanities and Social Sciences Program\n",
    "# https://www.epfl.ch/education/master/programs/\n",
    "master_not_current = [\n",
    "    'Bioengineering',\n",
    "    'Life Sciences and Technologies - master program',\n",
    "    'Micro- and Nanotechnologies for Integrated Systems'\n",
    "]\n",
    "\n",
    "# The following minors are missing, among possibly others:\n",
    "#   Computational science and engineering\n",
    "#   Mechanical engineering\n",
    "# We do not take any action for now\n",
    "\n",
    "# we can concatenate the lists because these program names are unique across all levels\n",
    "# note: we can't use this concatenation below if the condition breaks, and need to distinguish between levels\n",
    "not_current = bachelor_not_current + master_not_current"
   ]
  },
  {
   "cell_type": "code",
   "execution_count": 10,
   "metadata": {},
   "outputs": [],
   "source": [
    "# remove programs not currently offered, everywhere they occur\n",
    "for level_name in list(epfl):\n",
    "    for program_name in list(epfl[level_name]):\n",
    "        if program_name in not_current:\n",
    "            del epfl[level_name][program_name]\n",
    "            del epfl_studyplans[level_name][program_name]\n",
    "            if level_name == 'master' and program_name in epfl_masterspecs:\n",
    "                # remove program from the list of programs with specializations\n",
    "                del epfl_masterspecs[program_name]\n",
    "                \n",
    "        # remove entries from `in_the_programs` field\n",
    "        if program_name in epfl[level_name]:\n",
    "            for course_code in list(epfl[level_name][program_name]):\n",
    "                in_the_programs = epfl[level_name][program_name][course_code]['in_the_programs']\n",
    "                # in-place modification\n",
    "                in_the_programs[:] = (item for item in in_the_programs if item[0] not in not_current)"
   ]
  },
  {
   "cell_type": "code",
   "execution_count": 11,
   "metadata": {},
   "outputs": [],
   "source": [
    "write_processed_dict('epfl_studyplans', epfl_studyplans)"
   ]
  },
  {
   "cell_type": "markdown",
   "metadata": {},
   "source": [
    "Let's now analyze master's specializations (no specializations at other levels) and evaluate data accuracy. We compare the data source (studyplan pages) with the studyplan brochures. We have created a separate json object `epfl_master_specs` to store information about specializations."
   ]
  },
  {
   "cell_type": "code",
   "execution_count": 12,
   "metadata": {},
   "outputs": [],
   "source": [
    "\"\"\"\n",
    "The studyplan page sometimes differs greatly from the up-to-date studyplan brochure\n",
    "which might indicate that the studyplan page hasn't been updated.\n",
    "We skip these specializations for now (we would have to manually type them in):\n",
    "\n",
    "Architecture\n",
    "https://www.epfl.ch/education/master/wp-content/uploads/2018/08/ENAC_ARCHI_MA-1.pdf\n",
    "vs.\n",
    "https://edu.epfl.ch/studyplan/en/master/architecture\n",
    "\"\"\"\n",
    "specs_to_remove = ['Architecture']\n",
    "\n",
    "\"\"\"\n",
    "The specializations legend on studyplan pages is sometimes obsolete (hasn't been removed)\n",
    "We remove these programs from the list of specialization programs\n",
    "\n",
    "Materials Science and Engineering (only one specialization now)\n",
    "https://www.epfl.ch/education/master/wp-content/uploads/2018/08/STI_MX_MA-1.pdf\n",
    "vs.\n",
    "https://edu.epfl.ch/studyplan/en/master/materials-science-and-engineering\n",
    "\n",
    "Microengineering\n",
    "https://www.epfl.ch/education/master/wp-content/uploads/2018/08/STI_SMT_MA_RV-1.pdf\n",
    "vs.\n",
    "https://edu.epfl.ch/studyplan/en/master/microengineering\n",
    "\"\"\"\n",
    "specs_to_remove.extend(['Materials Science and Engineering', 'Microengineering'])\n",
    "\n",
    "\"\"\"\n",
    "The specializations legend on studyplan pages is sometimes obsolete, but the studyplan itself\n",
    "contains references to specializations that correctly correspond to the the studyplan brochure\n",
    "In this case, we update the legend manually and fix the data\n",
    "\n",
    "Electrical and Electronics Engineering\n",
    "https://www.epfl.ch/education/master/wp-content/uploads/2018/08/STI_EL_MA-1.pdf\n",
    "vs.\n",
    "https://edu.epfl.ch/studyplan/en/master/electrical-and-electronics-engineering\n",
    "\"\"\"\n",
    "electrical_electronics_eng_specs = {\n",
    "    \"a\": \"Microelectronics circuits and systems\",\n",
    "    \"b\": \"Electronic technologies and device-circuit interactions\",\n",
    "    \"c\": \"Bioelectronics\",\n",
    "    \"d\": \"Internet of Things (IoT)\",\n",
    "    \"e\": \"Data Science and Systems\",\n",
    "    \"f\": \"Signal, Image, Video and Communication\",\n",
    "    \"g\": \"Wireless and Photonics Circuits and Systems\",\n",
    "}"
   ]
  },
  {
   "cell_type": "markdown",
   "metadata": {},
   "source": [
    "We remove all programs in `specs_to_remove`:"
   ]
  },
  {
   "cell_type": "code",
   "execution_count": 13,
   "metadata": {},
   "outputs": [],
   "source": [
    "for program in specs_to_remove:\n",
    "    del epfl_masterspecs[program]"
   ]
  },
  {
   "cell_type": "markdown",
   "metadata": {},
   "source": [
    "... and fix \"Electrical and Electronics Engineering\" specializations key:"
   ]
  },
  {
   "cell_type": "code",
   "execution_count": 14,
   "metadata": {},
   "outputs": [],
   "source": [
    "epfl_masterspecs['Electrical and Electronics Engineering']['spec_key'] = electrical_electronics_eng_specs"
   ]
  },
  {
   "cell_type": "markdown",
   "metadata": {},
   "source": [
    "We observe that some courses have listed specializations not present in the `spec_key` for the given program. We remove these references:"
   ]
  },
  {
   "cell_type": "code",
   "execution_count": 15,
   "metadata": {},
   "outputs": [
    {
     "name": "stdout",
     "output_type": "stream",
     "text": [
      "Electrical and Electronics Engineering, spec key: ['a', 'b', 'c', 'd', 'e', 'f', 'g'], EE-588: ['h']\n",
      "Course spec changed from ['h'] to []\n",
      "Electrical and Electronics Engineering, spec key: ['a', 'b', 'c', 'd', 'e', 'f', 'g'], MATH-261: ['d', 'e', 'h']\n",
      "Course spec changed from ['d', 'e', 'h'] to ['d', 'e']\n",
      "Electrical and Electronics Engineering, spec key: ['a', 'b', 'c', 'd', 'e', 'f', 'g'], CS-423: ['d', 'f', 'h']\n",
      "Course spec changed from ['d', 'f', 'h'] to ['d', 'f']\n",
      "Electrical and Electronics Engineering, spec key: ['a', 'b', 'c', 'd', 'e', 'f', 'g'], EE-576: ['h']\n",
      "Course spec changed from ['h'] to []\n",
      "Electrical and Electronics Engineering, spec key: ['a', 'b', 'c', 'd', 'e', 'f', 'g'], ME-409: ['h']\n",
      "Course spec changed from ['h'] to []\n",
      "Electrical and Electronics Engineering, spec key: ['a', 'b', 'c', 'd', 'e', 'f', 'g'], EE-466: ['h']\n",
      "Course spec changed from ['h'] to []\n",
      "Electrical and Electronics Engineering, spec key: ['a', 'b', 'c', 'd', 'e', 'f', 'g'], MICRO-565: ['h']\n",
      "Course spec changed from ['h'] to []\n",
      "Electrical and Electronics Engineering, spec key: ['a', 'b', 'c', 'd', 'e', 'f', 'g'], EE-456: ['h']\n",
      "Course spec changed from ['h'] to []\n",
      "Electrical and Electronics Engineering, spec key: ['a', 'b', 'c', 'd', 'e', 'f', 'g'], CS-487: ['h']\n",
      "Course spec changed from ['h'] to []\n",
      "Electrical and Electronics Engineering, spec key: ['a', 'b', 'c', 'd', 'e', 'f', 'g'], EE-465: ['h']\n",
      "Course spec changed from ['h'] to []\n",
      "Electrical and Electronics Engineering, spec key: ['a', 'b', 'c', 'd', 'e', 'f', 'g'], EE-565: ['h']\n",
      "Course spec changed from ['h'] to []\n",
      "Electrical and Electronics Engineering, spec key: ['a', 'b', 'c', 'd', 'e', 'f', 'g'], ME-425: ['d', 'h']\n",
      "Course spec changed from ['d', 'h'] to ['d']\n",
      "Electrical and Electronics Engineering, spec key: ['a', 'b', 'c', 'd', 'e', 'f', 'g'], EE-477: ['h']\n",
      "Course spec changed from ['h'] to []\n",
      "Electrical and Electronics Engineering, spec key: ['a', 'b', 'c', 'd', 'e', 'f', 'g'], ME-427: ['d', 'h']\n",
      "Course spec changed from ['d', 'h'] to ['d']\n",
      "Electrical and Electronics Engineering, spec key: ['a', 'b', 'c', 'd', 'e', 'f', 'g'], MGT-483: ['d', 'h']\n",
      "Course spec changed from ['d', 'h'] to ['d']\n",
      "Electrical and Electronics Engineering, spec key: ['a', 'b', 'c', 'd', 'e', 'f', 'g'], EE-570: ['h']\n",
      "Course spec changed from ['h'] to []\n",
      "Electrical and Electronics Engineering, spec key: ['a', 'b', 'c', 'd', 'e', 'f', 'g'], EE-470: ['h']\n",
      "Course spec changed from ['h'] to []\n",
      "Electrical and Electronics Engineering, spec key: ['a', 'b', 'c', 'd', 'e', 'f', 'g'], EE-491: ['a', 'c', 'd', 'e', 'f', 'g', 'h']\n",
      "Course spec changed from ['a', 'c', 'd', 'e', 'f', 'g', 'h'] to ['a', 'c', 'd', 'e', 'f', 'g']\n",
      "Electrical and Electronics Engineering, spec key: ['a', 'b', 'c', 'd', 'e', 'f', 'g'], COM-407: ['h']\n",
      "Course spec changed from ['h'] to []\n",
      "Electrical and Electronics Engineering, spec key: ['a', 'b', 'c', 'd', 'e', 'f', 'g'], EE-575: ['f', 'h']\n",
      "Course spec changed from ['f', 'h'] to ['f']\n",
      "Electrical and Electronics Engineering, spec key: ['a', 'b', 'c', 'd', 'e', 'f', 'g'], EE-492(h): ['h']\n",
      "Course spec changed from ['h'] to []\n",
      "Management, Technology and Entrepreneurship, spec key: ['a', 'b', 'c'], MATH-413: ['c', 'd']\n",
      "Course spec changed from ['c', 'd'] to ['c']\n"
     ]
    }
   ],
   "source": [
    "for program_name, program_spec in epfl_masterspecs.items():\n",
    "    for code, course_spec in program_spec['courses'].items():\n",
    "        if (any(spec not in program_spec['spec_key'] for spec in course_spec)):\n",
    "            print(f\"{program_name}, spec key: {list(program_spec['spec_key'].keys())}, {code}: {course_spec}\")\n",
    "            \n",
    "            new_course_spec = [spec for spec in course_spec if spec in program_spec['spec_key']]\n",
    "            epfl_masterspecs[program_name]['courses'][code] = new_course_spec\n",
    "            \n",
    "            print(f\"Course spec changed from {course_spec} to {new_course_spec}\")"
   ]
  },
  {
   "cell_type": "markdown",
   "metadata": {},
   "source": [
    "Next, we add a `specs` dictionary to each program in `epfl_masterspecs` with keys and values switching roles compared to the `courses` property. This will make it easier to look up all courses with a given specialization."
   ]
  },
  {
   "cell_type": "code",
   "execution_count": 16,
   "metadata": {},
   "outputs": [
    {
     "data": {
      "text/plain": [
       "[('CS-595', []),\n",
       " ('CS-599', []),\n",
       " ('CS-450', ['b', 'c', 'd', 'e', 'i']),\n",
       " ('CS-470', ['a', 'd', 'g']),\n",
       " ('CS-442', ['f']),\n",
       " ('COM-401', ['d', 'e', 'g', 'j']),\n",
       " ('CS-422', ['b', 'c', 'g', 'j']),\n",
       " ('CS-438', ['g']),\n",
       " ('CS-451', ['c', 'g', 'i', 'j']),\n",
       " ('CS-452', ['c', 'g'])]"
      ]
     },
     "execution_count": 16,
     "metadata": {},
     "output_type": "execute_result"
    }
   ],
   "source": [
    "# courses property\n",
    "list(epfl_masterspecs['Computer Science']['courses'].items())[:10]"
   ]
  },
  {
   "cell_type": "code",
   "execution_count": 17,
   "metadata": {},
   "outputs": [],
   "source": [
    "for program_name, program_spec in epfl_masterspecs.items():\n",
    "    # initialize dictionary with empty list values\n",
    "    epfl_masterspecs[program_name]['specs'] = {k: [] for k in epfl_masterspecs[program_name]['spec_key']}\n",
    "    \n",
    "    for course_code, course_spec in program_spec['courses'].items():\n",
    "        # iterate over all specialization codes for each course, and add the course code to the specs dictionary\n",
    "        for k in course_spec:\n",
    "            epfl_masterspecs[program_name]['specs'][k].append(course_code)"
   ]
  },
  {
   "cell_type": "code",
   "execution_count": 18,
   "metadata": {},
   "outputs": [
    {
     "data": {
      "text/plain": [
       "{'g': ['CS-470',\n",
       "  'COM-401',\n",
       "  'CS-422',\n",
       "  'CS-438',\n",
       "  'CS-451',\n",
       "  'CS-452',\n",
       "  'COM-407',\n",
       "  'CS-420',\n",
       "  'CS-471',\n",
       "  'CS-453',\n",
       "  'COM-405',\n",
       "  'COM-503',\n",
       "  'CS-522']}"
      ]
     },
     "execution_count": 18,
     "metadata": {},
     "output_type": "execute_result"
    }
   ],
   "source": [
    "# specs property\n",
    "{'g': epfl_masterspecs['Computer Science']['specs']['g']}"
   ]
  },
  {
   "cell_type": "code",
   "execution_count": 19,
   "metadata": {},
   "outputs": [],
   "source": [
    "write_processed_dict('epfl_master_specs', epfl_masterspecs)"
   ]
  },
  {
   "cell_type": "markdown",
   "metadata": {},
   "source": [
    "Now, we have processed the specializations and can move on.\n",
    "\n",
    "Next step is to create two new json objects by transforming the `epfl` object. The goal will be to remove redundancies in the original object, since it has many courses occuring repeatedly, and not only enable easy access to programs, but also _individual courses_. The idea is to create one object `epfl_courses` with all course details and another object `epfl_programs` which will only include course codes for each program."
   ]
  },
  {
   "cell_type": "code",
   "execution_count": 20,
   "metadata": {},
   "outputs": [],
   "source": [
    "epfl_courses = [\n",
    "    # for each program: ([code1, code2, ...], [course1, course2, ...])\n",
    "    ([*program.keys()], [*program.values()])\n",
    "    for level_name, level in epfl.items()\n",
    "    for program_name, program in level.items()\n",
    "]"
   ]
  },
  {
   "cell_type": "code",
   "execution_count": 21,
   "metadata": {},
   "outputs": [],
   "source": [
    "# all courses: [[code1, code2, ...], [course1, course2, ...]]\n",
    "epfl_courses = list(\n",
    "    map(\n",
    "        lambda x: sum(x, []),\n",
    "        zip(*epfl_courses)\n",
    "    )\n",
    ")"
   ]
  },
  {
   "cell_type": "markdown",
   "metadata": {},
   "source": [
    "Let's analyze the list of courses for all programs. Let's use pandas to help us with that:"
   ]
  },
  {
   "cell_type": "code",
   "execution_count": 22,
   "metadata": {},
   "outputs": [],
   "source": [
    "courses_df = pd.DataFrame(index=epfl_courses[0], data=epfl_courses[1])"
   ]
  },
  {
   "cell_type": "code",
   "execution_count": 23,
   "metadata": {},
   "outputs": [
    {
     "data": {
      "text/plain": [
       "Index(['name', 'section', 'language', 'note', 'path', 'semester', 'exam_form',\n",
       "       'coefficient', 'subject_examined', 'lecture', 'exercises', 'lecturers',\n",
       "       'required', 'recommended', 'concepts', 'in_the_programs',\n",
       "       'prerequisite_for', 'project', 'number_of_places', 'practical_work',\n",
       "       'credits', '', 'labs'],\n",
       "      dtype='object')"
      ]
     },
     "execution_count": 23,
     "metadata": {},
     "output_type": "execute_result"
    }
   ],
   "source": [
    "courses_df.columns"
   ]
  },
  {
   "cell_type": "markdown",
   "metadata": {},
   "source": [
    "We observe there are a couple of fields we don't recognize, `coefficient` and `''`. Let's analyze those first."
   ]
  },
  {
   "cell_type": "code",
   "execution_count": 24,
   "metadata": {},
   "outputs": [
    {
     "data": {
      "text/plain": [
       "array([nan, ''], dtype=object)"
      ]
     },
     "execution_count": 24,
     "metadata": {},
     "output_type": "execute_result"
    }
   ],
   "source": [
    "# the '' column has all values either as NaN or '', so we can safely delete the column\n",
    "courses_df[''].unique()"
   ]
  },
  {
   "cell_type": "code",
   "execution_count": 25,
   "metadata": {},
   "outputs": [],
   "source": [
    "courses_df.drop('', axis=1, inplace=True)"
   ]
  },
  {
   "cell_type": "markdown",
   "metadata": {},
   "source": [
    "We observed that the _five_ rows having `''` field as the empty string are exactly the ones that don't have the number of credits listed, but we shall fix this soon (corresponding html element is empty)."
   ]
  },
  {
   "cell_type": "markdown",
   "metadata": {},
   "source": [
    "The `coefficient` column is an alias for `credits`"
   ]
  },
  {
   "cell_type": "code",
   "execution_count": 26,
   "metadata": {},
   "outputs": [
    {
     "data": {
      "text/plain": [
       "3443"
      ]
     },
     "execution_count": 26,
     "metadata": {},
     "output_type": "execute_result"
    }
   ],
   "source": [
    "len(courses_df)"
   ]
  },
  {
   "cell_type": "code",
   "execution_count": 27,
   "metadata": {},
   "outputs": [
    {
     "data": {
      "text/plain": [
       "3205"
      ]
     },
     "execution_count": 27,
     "metadata": {},
     "output_type": "execute_result"
    }
   ],
   "source": [
    "courses_df.coefficient.isna().sum()"
   ]
  },
  {
   "cell_type": "code",
   "execution_count": 28,
   "metadata": {},
   "outputs": [
    {
     "data": {
      "text/plain": [
       "243"
      ]
     },
     "execution_count": 28,
     "metadata": {},
     "output_type": "execute_result"
    }
   ],
   "source": [
    "courses_df.credits.isna().sum()"
   ]
  },
  {
   "cell_type": "code",
   "execution_count": 29,
   "metadata": {},
   "outputs": [
    {
     "data": {
      "text/plain": [
       "False"
      ]
     },
     "execution_count": 29,
     "metadata": {},
     "output_type": "execute_result"
    }
   ],
   "source": [
    "(courses_df.credits == courses_df.coefficient).any()"
   ]
  },
  {
   "cell_type": "markdown",
   "metadata": {},
   "source": [
    "No rows have both `credits` and `coefficient`, and there are 5 rows which have neither. Let's first merge the columns and then manually fill in the 5 gaps if possible"
   ]
  },
  {
   "cell_type": "code",
   "execution_count": 30,
   "metadata": {},
   "outputs": [],
   "source": [
    "courses_df.credits.fillna(courses_df.coefficient, inplace=True)\n",
    "courses_df.drop('coefficient', axis=1, inplace=True)"
   ]
  },
  {
   "cell_type": "markdown",
   "metadata": {},
   "source": [
    "Let's now see the reason behind the 5 gaps:"
   ]
  },
  {
   "cell_type": "code",
   "execution_count": 31,
   "metadata": {},
   "outputs": [
    {
     "data": {
      "text/plain": [
       "Index(['ENG-274', 'CH-361', 'CH-361', 'PENS-200', 'PHYS-300(a)'], dtype='object')"
      ]
     },
     "execution_count": 31,
     "metadata": {},
     "output_type": "execute_result"
    }
   ],
   "source": [
    "courses_df[courses_df.credits.isna()].index"
   ]
  },
  {
   "cell_type": "markdown",
   "metadata": {},
   "source": [
    "We can safely fill the gaps with 0 credits since:\n",
    "* ENG-274 is without credits\n",
    "* CH-361 is an optional course, pointing to one of the advanced general chemistry courses\n",
    "* PENS-200 Ground control in Swiss law, credits are included in the ENAC week\n",
    "* PHYS-300(a) is also without credits"
   ]
  },
  {
   "cell_type": "code",
   "execution_count": 32,
   "metadata": {},
   "outputs": [],
   "source": [
    "courses_df.fillna(value={'credits': '0'}, inplace=True)"
   ]
  },
  {
   "cell_type": "markdown",
   "metadata": {},
   "source": [
    "Let's also remove the field `subject_examined` since in most cases it contains the same information as the `name` field, and the name column is always more specific and doesn't contain any gaps."
   ]
  },
  {
   "cell_type": "code",
   "execution_count": 33,
   "metadata": {},
   "outputs": [
    {
     "data": {
      "text/html": [
       "<div>\n",
       "<style scoped>\n",
       "    .dataframe tbody tr th:only-of-type {\n",
       "        vertical-align: middle;\n",
       "    }\n",
       "\n",
       "    .dataframe tbody tr th {\n",
       "        vertical-align: top;\n",
       "    }\n",
       "\n",
       "    .dataframe thead th {\n",
       "        text-align: right;\n",
       "    }\n",
       "</style>\n",
       "<table border=\"1\" class=\"dataframe\">\n",
       "  <thead>\n",
       "    <tr style=\"text-align: right;\">\n",
       "      <th></th>\n",
       "      <th>name</th>\n",
       "      <th>subject_examined</th>\n",
       "    </tr>\n",
       "  </thead>\n",
       "  <tbody>\n",
       "    <tr>\n",
       "      <th>PHYS-118</th>\n",
       "      <td>Building physics</td>\n",
       "      <td>Building physics</td>\n",
       "    </tr>\n",
       "    <tr>\n",
       "      <th>MATH-189</th>\n",
       "      <td>Mathematics</td>\n",
       "      <td>Mathematics</td>\n",
       "    </tr>\n",
       "    <tr>\n",
       "      <th>AR-113</th>\n",
       "      <td>Graphic figuration\\n</td>\n",
       "      <td>Graphic figuration</td>\n",
       "    </tr>\n",
       "    <tr>\n",
       "      <th>AR-101</th>\n",
       "      <td>Studio BA1</td>\n",
       "      <td>Studio BA1, BA2</td>\n",
       "    </tr>\n",
       "    <tr>\n",
       "      <th>AR-102</th>\n",
       "      <td>Studio BA2</td>\n",
       "      <td>Studio BA1, BA2</td>\n",
       "    </tr>\n",
       "  </tbody>\n",
       "</table>\n",
       "</div>"
      ],
      "text/plain": [
       "                          name    subject_examined\n",
       "PHYS-118     Building physics     Building physics\n",
       "MATH-189          Mathematics          Mathematics\n",
       "AR-113    Graphic figuration\\n  Graphic figuration\n",
       "AR-101              Studio BA1     Studio BA1, BA2\n",
       "AR-102              Studio BA2     Studio BA1, BA2"
      ]
     },
     "execution_count": 33,
     "metadata": {},
     "output_type": "execute_result"
    }
   ],
   "source": [
    "courses_df[['name', 'subject_examined']][~(courses_df['name'] == courses_df.subject_examined)].head()"
   ]
  },
  {
   "cell_type": "code",
   "execution_count": 34,
   "metadata": {},
   "outputs": [],
   "source": [
    "courses_df.drop('subject_examined', axis=1, inplace=True)"
   ]
  },
  {
   "cell_type": "markdown",
   "metadata": {},
   "source": [
    "We know that courses are repeated in the dataframe (row indices), but we need to check if the information is the same when course codes match. It is likely that they are the same, but we can't be sure because of the way the coursebooks were harvested (using program-specific query string parameters for fields in the right column of the page)."
   ]
  },
  {
   "cell_type": "code",
   "execution_count": 35,
   "metadata": {},
   "outputs": [
    {
     "data": {
      "text/plain": [
       "'1886 unique courses and 3443 courses with duplicates'"
      ]
     },
     "execution_count": 35,
     "metadata": {},
     "output_type": "execute_result"
    }
   ],
   "source": [
    "f\"{courses_df.index.nunique()} unique courses and {len(courses_df)} courses with duplicates\""
   ]
  },
  {
   "cell_type": "markdown",
   "metadata": {},
   "source": [
    "Before moving on, we clean the coursebook paths by removing query parameters (`cb_cycle` and `cb_section`) from them, since they are different for each level and program and don't seem to provide additional information."
   ]
  },
  {
   "cell_type": "code",
   "execution_count": 36,
   "metadata": {},
   "outputs": [],
   "source": [
    "courses_df['path'] = courses_df.path.str.split('?').str[0]"
   ]
  },
  {
   "cell_type": "markdown",
   "metadata": {},
   "source": [
    "Let's see if we have a unique row count of 1 for each course code:"
   ]
  },
  {
   "cell_type": "code",
   "execution_count": 37,
   "metadata": {},
   "outputs": [],
   "source": [
    "# Convert list columns to tuple to avoid this error when calling nunique():\n",
    "# TypeError: unhashable type: 'list'\n",
    "list_columns = ['lecturers', 'required', 'recommended', 'concepts', 'prerequisite_for', 'in_the_programs']"
   ]
  },
  {
   "cell_type": "code",
   "execution_count": 38,
   "metadata": {},
   "outputs": [],
   "source": [
    "courses_df[list_columns] = courses_df[list_columns].applymap(tuple)\n",
    "# lecturers and in_the_programs field is a list of lists\n",
    "courses_df['lecturers'] = courses_df.lecturers.apply(lambda x: tuple(map(tuple, x)))\n",
    "courses_df['in_the_programs'] = courses_df.in_the_programs.apply(lambda x: tuple(map(tuple, x)))"
   ]
  },
  {
   "cell_type": "code",
   "execution_count": 39,
   "metadata": {},
   "outputs": [],
   "source": [
    "# path is still sometimes different, because of alias paths which point to the same coursebook (although the pages might differ slightly).\n",
    "# We will not make sure paths point to pages with correct information unless there are\n",
    "# inconsistencies and one path is more up-to-date than others.\n",
    "group = courses_df.drop('path', axis=1).groupby(courses_df.index)"
   ]
  },
  {
   "cell_type": "code",
   "execution_count": 40,
   "metadata": {},
   "outputs": [
    {
     "data": {
      "text/html": [
       "<div>\n",
       "<style scoped>\n",
       "    .dataframe tbody tr th:only-of-type {\n",
       "        vertical-align: middle;\n",
       "    }\n",
       "\n",
       "    .dataframe tbody tr th {\n",
       "        vertical-align: top;\n",
       "    }\n",
       "\n",
       "    .dataframe thead th {\n",
       "        text-align: right;\n",
       "    }\n",
       "</style>\n",
       "<table border=\"1\" class=\"dataframe\">\n",
       "  <thead>\n",
       "    <tr style=\"text-align: right;\">\n",
       "      <th></th>\n",
       "      <th>note</th>\n",
       "      <th>semester</th>\n",
       "      <th>lecturers</th>\n",
       "      <th>in_the_programs</th>\n",
       "    </tr>\n",
       "  </thead>\n",
       "  <tbody>\n",
       "    <tr>\n",
       "      <th>BIO-502</th>\n",
       "      <td>1</td>\n",
       "      <td>1</td>\n",
       "      <td>1</td>\n",
       "      <td>2</td>\n",
       "    </tr>\n",
       "    <tr>\n",
       "      <th>BIOENG-404</th>\n",
       "      <td>1</td>\n",
       "      <td>1</td>\n",
       "      <td>1</td>\n",
       "      <td>2</td>\n",
       "    </tr>\n",
       "    <tr>\n",
       "      <th>CH-361</th>\n",
       "      <td>2</td>\n",
       "      <td>1</td>\n",
       "      <td>1</td>\n",
       "      <td>2</td>\n",
       "    </tr>\n",
       "    <tr>\n",
       "      <th>COM-208</th>\n",
       "      <td>1</td>\n",
       "      <td>1</td>\n",
       "      <td>1</td>\n",
       "      <td>2</td>\n",
       "    </tr>\n",
       "    <tr>\n",
       "      <th>COM-480</th>\n",
       "      <td>1</td>\n",
       "      <td>2</td>\n",
       "      <td>1</td>\n",
       "      <td>1</td>\n",
       "    </tr>\n",
       "    <tr>\n",
       "      <th>CS-433</th>\n",
       "      <td>2</td>\n",
       "      <td>1</td>\n",
       "      <td>1</td>\n",
       "      <td>1</td>\n",
       "    </tr>\n",
       "    <tr>\n",
       "      <th>EE-111</th>\n",
       "      <td>2</td>\n",
       "      <td>2</td>\n",
       "      <td>1</td>\n",
       "      <td>1</td>\n",
       "    </tr>\n",
       "    <tr>\n",
       "      <th>EE-492(d)</th>\n",
       "      <td>2</td>\n",
       "      <td>1</td>\n",
       "      <td>1</td>\n",
       "      <td>2</td>\n",
       "    </tr>\n",
       "    <tr>\n",
       "      <th>EE-727</th>\n",
       "      <td>1</td>\n",
       "      <td>2</td>\n",
       "      <td>1</td>\n",
       "      <td>1</td>\n",
       "    </tr>\n",
       "    <tr>\n",
       "      <th>ENG-704</th>\n",
       "      <td>2</td>\n",
       "      <td>1</td>\n",
       "      <td>1</td>\n",
       "      <td>1</td>\n",
       "    </tr>\n",
       "    <tr>\n",
       "      <th>ENV-342</th>\n",
       "      <td>1</td>\n",
       "      <td>1</td>\n",
       "      <td>2</td>\n",
       "      <td>2</td>\n",
       "    </tr>\n",
       "    <tr>\n",
       "      <th>ENV-510</th>\n",
       "      <td>1</td>\n",
       "      <td>2</td>\n",
       "      <td>1</td>\n",
       "      <td>1</td>\n",
       "    </tr>\n",
       "    <tr>\n",
       "      <th>MATH-498</th>\n",
       "      <td>1</td>\n",
       "      <td>1</td>\n",
       "      <td>1</td>\n",
       "      <td>2</td>\n",
       "    </tr>\n",
       "    <tr>\n",
       "      <th>MATH-599</th>\n",
       "      <td>1</td>\n",
       "      <td>1</td>\n",
       "      <td>1</td>\n",
       "      <td>2</td>\n",
       "    </tr>\n",
       "    <tr>\n",
       "      <th>ME-467</th>\n",
       "      <td>1</td>\n",
       "      <td>2</td>\n",
       "      <td>1</td>\n",
       "      <td>1</td>\n",
       "    </tr>\n",
       "    <tr>\n",
       "      <th>MGT-418</th>\n",
       "      <td>2</td>\n",
       "      <td>1</td>\n",
       "      <td>1</td>\n",
       "      <td>1</td>\n",
       "    </tr>\n",
       "    <tr>\n",
       "      <th>MICRO-452</th>\n",
       "      <td>1</td>\n",
       "      <td>1</td>\n",
       "      <td>1</td>\n",
       "      <td>2</td>\n",
       "    </tr>\n",
       "    <tr>\n",
       "      <th>MICRO-455</th>\n",
       "      <td>1</td>\n",
       "      <td>1</td>\n",
       "      <td>2</td>\n",
       "      <td>3</td>\n",
       "    </tr>\n",
       "    <tr>\n",
       "      <th>MICRO-513</th>\n",
       "      <td>1</td>\n",
       "      <td>1</td>\n",
       "      <td>1</td>\n",
       "      <td>2</td>\n",
       "    </tr>\n",
       "    <tr>\n",
       "      <th>MICRO-597</th>\n",
       "      <td>1</td>\n",
       "      <td>2</td>\n",
       "      <td>1</td>\n",
       "      <td>2</td>\n",
       "    </tr>\n",
       "    <tr>\n",
       "      <th>MICRO-723</th>\n",
       "      <td>1</td>\n",
       "      <td>2</td>\n",
       "      <td>1</td>\n",
       "      <td>1</td>\n",
       "    </tr>\n",
       "    <tr>\n",
       "      <th>PENS-491</th>\n",
       "      <td>1</td>\n",
       "      <td>1</td>\n",
       "      <td>1</td>\n",
       "      <td>2</td>\n",
       "    </tr>\n",
       "    <tr>\n",
       "      <th>PHYS-201(e)</th>\n",
       "      <td>1</td>\n",
       "      <td>1</td>\n",
       "      <td>1</td>\n",
       "      <td>2</td>\n",
       "    </tr>\n",
       "  </tbody>\n",
       "</table>\n",
       "</div>"
      ],
      "text/plain": [
       "             note  semester  lecturers  in_the_programs\n",
       "BIO-502         1         1          1                2\n",
       "BIOENG-404      1         1          1                2\n",
       "CH-361          2         1          1                2\n",
       "COM-208         1         1          1                2\n",
       "COM-480         1         2          1                1\n",
       "CS-433          2         1          1                1\n",
       "EE-111          2         2          1                1\n",
       "EE-492(d)       2         1          1                2\n",
       "EE-727          1         2          1                1\n",
       "ENG-704         2         1          1                1\n",
       "ENV-342         1         1          2                2\n",
       "ENV-510         1         2          1                1\n",
       "MATH-498        1         1          1                2\n",
       "MATH-599        1         1          1                2\n",
       "ME-467          1         2          1                1\n",
       "MGT-418         2         1          1                1\n",
       "MICRO-452       1         1          1                2\n",
       "MICRO-455       1         1          2                3\n",
       "MICRO-513       1         1          1                2\n",
       "MICRO-597       1         2          1                2\n",
       "MICRO-723       1         2          1                1\n",
       "PENS-491        1         1          1                2\n",
       "PHYS-201(e)     1         1          1                2"
      ]
     },
     "execution_count": 40,
     "metadata": {},
     "output_type": "execute_result"
    }
   ],
   "source": [
    "exceptions = group.nunique().loc[(group.nunique() > 1).any(axis=1)]\n",
    "exceptions[exceptions.columns[exceptions.gt(1).any()]]"
   ]
  },
  {
   "cell_type": "code",
   "execution_count": 41,
   "metadata": {},
   "outputs": [],
   "source": [
    "from operator import add\n",
    "\n",
    "courses_df.loc['BIO-502', 'path'] = courses_df.loc['BIO-502', 'path'][1]\n",
    "courses_df.loc['BIO-502', 'in_the_programs'] = [courses_df.loc['BIO-502', 'in_the_programs'][1]] * 2\n",
    "\n",
    "courses_df.loc['BIOENG-404', 'path'] = courses_df.loc['BIOENG-404', 'path'][0]\n",
    "courses_df.loc['BIOENG-404', 'in_the_programs'] = [add(*courses_df.loc['BIOENG-404', 'in_the_programs'][1:3])] * 3\n",
    "\n",
    "courses_df.loc['CH-361', 'path'] = courses_df.loc['CH-361', 'path'][1]\n",
    "courses_df.loc['CH-361', 'in_the_programs'] = [add(*courses_df.loc['CH-361', 'in_the_programs'])] * 2\n",
    "courses_df.loc['CH-361', 'note'] = courses_df.loc['CH-361', 'note'][0]  # the content of the notes are the same, just written differently\n",
    "\n",
    "courses_df.loc['COM-208', 'path'] = courses_df.loc['COM-208', 'path'][0]\n",
    "courses_df.loc['COM-208', 'in_the_programs'] = [add(*courses_df.loc['COM-208', 'in_the_programs'][3:5])] * 5\n",
    "\n",
    "courses_df.loc['COM-480', 'semester'] = courses_df.loc['COM-480', 'semester'][0]\n",
    "\n",
    "courses_df.loc['CS-401', 'path'] = courses_df.loc['CS-401', 'path'][0]\n",
    "courses_df.loc['CS-401', 'in_the_programs'] = [courses_df.loc['CS-401', 'in_the_programs'][1]] * 16\n",
    "\n",
    "courses_df.loc['CS-433', 'note'] = courses_df.loc['CS-433', 'note'][0]\n",
    "\n",
    "courses_df.loc['EE-111', 'semester'] = 'Fall/Spring'\n",
    "courses_df.loc['EE-111', 'note'] = courses_df.loc['EE-111', 'note'][1]\n",
    "\n",
    "courses_df.loc['EE-492(d)', 'in_the_programs'] = [add(*courses_df.loc['EE-492(d)', 'in_the_programs'])[::2]] * 2  # semester == 'Fall'\n",
    "courses_df.loc['EE-492(d)', 'note'] = courses_df.loc['EE-492(d)', 'note'][0]\n",
    "\n",
    "courses_df.loc['EE-727', 'semester'] = courses_df.loc['EE-727', 'semester'][0]\n",
    "\n",
    "courses_df.loc['ENG-704', 'note'] = courses_df.loc['ENG-704', 'note'][0]\n",
    "\n",
    "courses_df.loc['ENV-342', 'in_the_programs'] = [courses_df.loc['ENV-342', 'in_the_programs'][0]] * 2\n",
    "courses_df.loc['ENV-342', 'path'] = courses_df.loc['ENV-342', 'path'][1]\n",
    "courses_df.loc['ENV-342', 'lecturers'] = [courses_df.loc['ENV-342', 'lecturers'][1]] * 2\n",
    "\n",
    "courses_df.loc['ENV-510', 'semester'] = courses_df.loc['ENV-510', 'semester'][0]\n",
    "\n",
    "courses_df.loc['MATH-498', 'in_the_programs'] = [add(*courses_df.loc['MATH-498', 'in_the_programs'])] * 2\n",
    "\n",
    "courses_df.loc['MATH-599', 'in_the_programs'] = [add(*courses_df.loc['MATH-599', 'in_the_programs'])] * 2\n",
    "\n",
    "courses_df.loc['ME-467', 'semester'] = courses_df.loc['ME-467', 'semester'][0]\n",
    "\n",
    "courses_df.loc['MGT-418', 'note'] = ''  # unclear if note applies anyway\n",
    "\n",
    "courses_df.loc['MICRO-452', 'path'] = courses_df.loc['MICRO-452', 'path'][0]\n",
    "courses_df.loc['MICRO-452', 'in_the_programs'] = [courses_df.loc['MICRO-452', 'in_the_programs'][0]] * 2\n",
    "\n",
    "courses_df.loc['MICRO-455', 'path'] = courses_df.loc['MICRO-455', 'path'][3]\n",
    "courses_df.loc['MICRO-455', 'in_the_programs'] = [courses_df.loc['MICRO-455', 'in_the_programs'][3]] * 8\n",
    "courses_df.loc['MICRO-455', 'lecturers'] = [courses_df.loc['MICRO-455', 'lecturers'][3]] * 8\n",
    "\n",
    "courses_df.loc['MICRO-513', 'path'] = courses_df.loc['MICRO-513', 'path'][1]\n",
    "courses_df.loc['MICRO-513', 'in_the_programs'] = [courses_df.loc['MICRO-513', 'in_the_programs'][1]] * 7\n",
    "\n",
    "courses_df.loc['MICRO-597', 'path'] = courses_df.loc['MICRO-597', 'path'][0]\n",
    "courses_df.loc['MICRO-597', 'in_the_programs'] = [tuple(sorted(courses_df.loc['MICRO-597', 'in_the_programs'][0] + (('Robotics', 'Master Project autumn'),)))] * 2\n",
    "\n",
    "courses_df.loc['MICRO-723', 'semester'] = courses_df.loc['MICRO-723', 'semester'][0]\n",
    "\n",
    "courses_df.loc['PENS-491', 'in_the_programs'] = [add(*courses_df.loc['PENS-491', 'in_the_programs'][1:3])] * 5\n",
    "\n",
    "courses_df.loc['PHYS-201(e)', 'in_the_programs'] = [add(*courses_df.loc['PHYS-201(e)', 'in_the_programs'])] * 2"
   ]
  },
  {
   "cell_type": "markdown",
   "metadata": {},
   "source": [
    "Now we can remove duplicate rows/indices from the dataframe"
   ]
  },
  {
   "cell_type": "code",
   "execution_count": 42,
   "metadata": {},
   "outputs": [
    {
     "data": {
      "text/plain": [
       "1886"
      ]
     },
     "execution_count": 42,
     "metadata": {},
     "output_type": "execute_result"
    }
   ],
   "source": [
    "courses_unique_df = courses_df.loc[~courses_df.index.duplicated()]\n",
    "len(courses_unique_df)"
   ]
  },
  {
   "cell_type": "markdown",
   "metadata": {},
   "source": [
    "Strip whitespace and newline characters from all strings"
   ]
  },
  {
   "cell_type": "code",
   "execution_count": 43,
   "metadata": {},
   "outputs": [],
   "source": [
    "courses_unique_df = courses_unique_df.applymap(lambda v: v.strip().replace('\\xa0', ' ') if type(v) == str else v)"
   ]
  },
  {
   "cell_type": "markdown",
   "metadata": {},
   "source": [
    "While dealing with the exceptions, we noticed that some courses might be given during both Spring and Fall semesters. Most of these must be internships and master's projects. Let's check them out and fix the `semester` field for those."
   ]
  },
  {
   "cell_type": "code",
   "execution_count": 44,
   "metadata": {},
   "outputs": [
    {
     "data": {
      "text/html": [
       "<div>\n",
       "<style scoped>\n",
       "    .dataframe tbody tr th:only-of-type {\n",
       "        vertical-align: middle;\n",
       "    }\n",
       "\n",
       "    .dataframe tbody tr th {\n",
       "        vertical-align: top;\n",
       "    }\n",
       "\n",
       "    .dataframe thead th {\n",
       "        text-align: right;\n",
       "    }\n",
       "</style>\n",
       "<table border=\"1\" class=\"dataframe\">\n",
       "  <thead>\n",
       "    <tr style=\"text-align: right;\">\n",
       "      <th></th>\n",
       "      <th>name</th>\n",
       "      <th>semester</th>\n",
       "      <th>credits</th>\n",
       "    </tr>\n",
       "  </thead>\n",
       "  <tbody>\n",
       "    <tr>\n",
       "      <th>MATH-597</th>\n",
       "      <td>Engineering internship credited with master pr...</td>\n",
       "      <td>Fall</td>\n",
       "      <td>0</td>\n",
       "    </tr>\n",
       "    <tr>\n",
       "      <th>MATH-599</th>\n",
       "      <td>Master project in Mathematics</td>\n",
       "      <td>Fall</td>\n",
       "      <td>30</td>\n",
       "    </tr>\n",
       "    <tr>\n",
       "      <th>PHYS-599(a)</th>\n",
       "      <td>Master project in Physics Engineering</td>\n",
       "      <td>Fall</td>\n",
       "      <td>30</td>\n",
       "    </tr>\n",
       "    <tr>\n",
       "      <th>AR-599</th>\n",
       "      <td>Master project in Architecture</td>\n",
       "      <td>Fall</td>\n",
       "      <td>30</td>\n",
       "    </tr>\n",
       "    <tr>\n",
       "      <th>ChE-599</th>\n",
       "      <td>Master project in Chemical Engineering &amp; Biote...</td>\n",
       "      <td>Fall</td>\n",
       "      <td>30</td>\n",
       "    </tr>\n",
       "    <tr>\n",
       "      <th>CIVIL-597</th>\n",
       "      <td>Engineering internship (master in Civil engine...</td>\n",
       "      <td>Fall</td>\n",
       "      <td>0</td>\n",
       "    </tr>\n",
       "    <tr>\n",
       "      <th>CIVIL-599</th>\n",
       "      <td>Master project in Civil Engineering</td>\n",
       "      <td>Fall</td>\n",
       "      <td>30</td>\n",
       "    </tr>\n",
       "    <tr>\n",
       "      <th>COM-597</th>\n",
       "      <td>Engineering internship credited with Master pr...</td>\n",
       "      <td>Fall</td>\n",
       "      <td>0</td>\n",
       "    </tr>\n",
       "    <tr>\n",
       "      <th>COM-599</th>\n",
       "      <td>Master project in Communication Systems</td>\n",
       "      <td>Fall</td>\n",
       "      <td>30</td>\n",
       "    </tr>\n",
       "    <tr>\n",
       "      <th>MATH-598</th>\n",
       "      <td>Projet de master en science et ingénierie comp...</td>\n",
       "      <td>Fall</td>\n",
       "      <td>30</td>\n",
       "    </tr>\n",
       "    <tr>\n",
       "      <th>MATH-595</th>\n",
       "      <td>Engineering internship (master in computationa...</td>\n",
       "      <td>Fall</td>\n",
       "      <td>8</td>\n",
       "    </tr>\n",
       "    <tr>\n",
       "      <th>CS-595</th>\n",
       "      <td>Internship credited with Master Project (maste...</td>\n",
       "      <td>Fall</td>\n",
       "      <td>0</td>\n",
       "    </tr>\n",
       "    <tr>\n",
       "      <th>CS-599</th>\n",
       "      <td>Master project in Computer Science</td>\n",
       "      <td>Fall</td>\n",
       "      <td>30</td>\n",
       "    </tr>\n",
       "    <tr>\n",
       "      <th>COM-596</th>\n",
       "      <td>Engineering internship credited with Master pr...</td>\n",
       "      <td>Fall</td>\n",
       "      <td>0</td>\n",
       "    </tr>\n",
       "    <tr>\n",
       "      <th>COM-598</th>\n",
       "      <td>Master project in Data science</td>\n",
       "      <td>Fall</td>\n",
       "      <td>30</td>\n",
       "    </tr>\n",
       "    <tr>\n",
       "      <th>DH-499</th>\n",
       "      <td>Master project in digital humanities</td>\n",
       "      <td>Fall</td>\n",
       "      <td>30</td>\n",
       "    </tr>\n",
       "    <tr>\n",
       "      <th>EE-597</th>\n",
       "      <td>Engineering internship credited with master pr...</td>\n",
       "      <td>Spring</td>\n",
       "      <td>0</td>\n",
       "    </tr>\n",
       "    <tr>\n",
       "      <th>EE-599</th>\n",
       "      <td>Master project in Electrical and Electronic En...</td>\n",
       "      <td>Fall</td>\n",
       "      <td>30</td>\n",
       "    </tr>\n",
       "    <tr>\n",
       "      <th>ENV-598</th>\n",
       "      <td>Engineering internship credited with master pr...</td>\n",
       "      <td>Fall</td>\n",
       "      <td>0</td>\n",
       "    </tr>\n",
       "    <tr>\n",
       "      <th>ENV-599</th>\n",
       "      <td>Master project in Environmental Sciences and E...</td>\n",
       "      <td>Fall</td>\n",
       "      <td>30</td>\n",
       "    </tr>\n",
       "    <tr>\n",
       "      <th>FIN-598</th>\n",
       "      <td>Engineering internship credited with master pr...</td>\n",
       "      <td>Fall</td>\n",
       "      <td>0</td>\n",
       "    </tr>\n",
       "    <tr>\n",
       "      <th>FIN-599</th>\n",
       "      <td>Master project in Financial Engineering</td>\n",
       "      <td>Fall</td>\n",
       "      <td>30</td>\n",
       "    </tr>\n",
       "    <tr>\n",
       "      <th>MGT-597</th>\n",
       "      <td>Engineering internship credited with master pr...</td>\n",
       "      <td>Fall</td>\n",
       "      <td>0</td>\n",
       "    </tr>\n",
       "    <tr>\n",
       "      <th>MGT-599</th>\n",
       "      <td>Master project in Management of Technology</td>\n",
       "      <td>Fall</td>\n",
       "      <td>30</td>\n",
       "    </tr>\n",
       "    <tr>\n",
       "      <th>MSE-597</th>\n",
       "      <td>Engineering internship credited with master pr...</td>\n",
       "      <td>Fall</td>\n",
       "      <td>0</td>\n",
       "    </tr>\n",
       "    <tr>\n",
       "      <th>MSE-599</th>\n",
       "      <td>Master project in Materials Science and Engine...</td>\n",
       "      <td>Fall</td>\n",
       "      <td>30</td>\n",
       "    </tr>\n",
       "    <tr>\n",
       "      <th>ME-597</th>\n",
       "      <td>Engineering internship credited with master pr...</td>\n",
       "      <td>Fall</td>\n",
       "      <td>0</td>\n",
       "    </tr>\n",
       "    <tr>\n",
       "      <th>ME-599</th>\n",
       "      <td>Master project in Mechanical Engineering</td>\n",
       "      <td>Fall</td>\n",
       "      <td>30</td>\n",
       "    </tr>\n",
       "    <tr>\n",
       "      <th>MICRO-597</th>\n",
       "      <td>Engineering internship credited with master pr...</td>\n",
       "      <td>Fall</td>\n",
       "      <td>0</td>\n",
       "    </tr>\n",
       "    <tr>\n",
       "      <th>MICRO-599</th>\n",
       "      <td>Master project in Microengineering</td>\n",
       "      <td>Fall</td>\n",
       "      <td>30</td>\n",
       "    </tr>\n",
       "    <tr>\n",
       "      <th>CH-599</th>\n",
       "      <td>Master project in Molecular &amp; Biological Chemi...</td>\n",
       "      <td>Fall</td>\n",
       "      <td>30</td>\n",
       "    </tr>\n",
       "    <tr>\n",
       "      <th>PHYS-598</th>\n",
       "      <td>Master project in Nuclear Engineering</td>\n",
       "      <td>Fall</td>\n",
       "      <td>30</td>\n",
       "    </tr>\n",
       "    <tr>\n",
       "      <th>PHYS-599(b)</th>\n",
       "      <td>Master project in Physics</td>\n",
       "      <td>Fall</td>\n",
       "      <td>30</td>\n",
       "    </tr>\n",
       "  </tbody>\n",
       "</table>\n",
       "</div>"
      ],
      "text/plain": [
       "                                                          name semester  \\\n",
       "MATH-597     Engineering internship credited with master pr...     Fall   \n",
       "MATH-599                         Master project in Mathematics     Fall   \n",
       "PHYS-599(a)              Master project in Physics Engineering     Fall   \n",
       "AR-599                          Master project in Architecture     Fall   \n",
       "ChE-599      Master project in Chemical Engineering & Biote...     Fall   \n",
       "CIVIL-597    Engineering internship (master in Civil engine...     Fall   \n",
       "CIVIL-599                  Master project in Civil Engineering     Fall   \n",
       "COM-597      Engineering internship credited with Master pr...     Fall   \n",
       "COM-599                Master project in Communication Systems     Fall   \n",
       "MATH-598     Projet de master en science et ingénierie comp...     Fall   \n",
       "MATH-595     Engineering internship (master in computationa...     Fall   \n",
       "CS-595       Internship credited with Master Project (maste...     Fall   \n",
       "CS-599                      Master project in Computer Science     Fall   \n",
       "COM-596      Engineering internship credited with Master pr...     Fall   \n",
       "COM-598                         Master project in Data science     Fall   \n",
       "DH-499                    Master project in digital humanities     Fall   \n",
       "EE-597       Engineering internship credited with master pr...   Spring   \n",
       "EE-599       Master project in Electrical and Electronic En...     Fall   \n",
       "ENV-598      Engineering internship credited with master pr...     Fall   \n",
       "ENV-599      Master project in Environmental Sciences and E...     Fall   \n",
       "FIN-598      Engineering internship credited with master pr...     Fall   \n",
       "FIN-599                Master project in Financial Engineering     Fall   \n",
       "MGT-597      Engineering internship credited with master pr...     Fall   \n",
       "MGT-599             Master project in Management of Technology     Fall   \n",
       "MSE-597      Engineering internship credited with master pr...     Fall   \n",
       "MSE-599      Master project in Materials Science and Engine...     Fall   \n",
       "ME-597       Engineering internship credited with master pr...     Fall   \n",
       "ME-599                Master project in Mechanical Engineering     Fall   \n",
       "MICRO-597    Engineering internship credited with master pr...     Fall   \n",
       "MICRO-599                   Master project in Microengineering     Fall   \n",
       "CH-599       Master project in Molecular & Biological Chemi...     Fall   \n",
       "PHYS-598                 Master project in Nuclear Engineering     Fall   \n",
       "PHYS-599(b)                          Master project in Physics     Fall   \n",
       "\n",
       "            credits  \n",
       "MATH-597          0  \n",
       "MATH-599         30  \n",
       "PHYS-599(a)      30  \n",
       "AR-599           30  \n",
       "ChE-599          30  \n",
       "CIVIL-597         0  \n",
       "CIVIL-599        30  \n",
       "COM-597           0  \n",
       "COM-599          30  \n",
       "MATH-598         30  \n",
       "MATH-595          8  \n",
       "CS-595            0  \n",
       "CS-599           30  \n",
       "COM-596           0  \n",
       "COM-598          30  \n",
       "DH-499           30  \n",
       "EE-597            0  \n",
       "EE-599           30  \n",
       "ENV-598           0  \n",
       "ENV-599          30  \n",
       "FIN-598           0  \n",
       "FIN-599          30  \n",
       "MGT-597           0  \n",
       "MGT-599          30  \n",
       "MSE-597           0  \n",
       "MSE-599          30  \n",
       "ME-597            0  \n",
       "ME-599           30  \n",
       "MICRO-597         0  \n",
       "MICRO-599        30  \n",
       "CH-599           30  \n",
       "PHYS-598         30  \n",
       "PHYS-599(b)      30  "
      ]
     },
     "execution_count": 44,
     "metadata": {},
     "output_type": "execute_result"
    }
   ],
   "source": [
    "def filter_fall_spring():\n",
    "    in_programs = courses_unique_df.in_the_programs\n",
    "    semester_str = in_programs.apply(lambda r: ''.join([i[1] for i in r]))\n",
    "    sem_fall_spring_idx = semester_str.index[semester_str.map(lambda sem: any(w in sem for w in ['fall', 'autumn']) and 'spring' in sem)]\n",
    "    return sem_fall_spring_idx\n",
    "\n",
    "\n",
    "fall_spring_idx = filter_fall_spring()\n",
    "courses_unique_df.loc[fall_spring_idx][['name', 'semester', 'credits']]"
   ]
  },
  {
   "cell_type": "markdown",
   "metadata": {},
   "source": [
    "We observe that all of those are Master's projects or internships. Let's set the `semester` as Fall/Spring for all of them."
   ]
  },
  {
   "cell_type": "code",
   "execution_count": 45,
   "metadata": {},
   "outputs": [],
   "source": [
    "courses_unique_df.loc[fall_spring_idx, 'semester'] = 'Fall/Spring'"
   ]
  },
  {
   "cell_type": "code",
   "execution_count": 46,
   "metadata": {},
   "outputs": [],
   "source": [
    "# Rest of the courses have unspecified semester info, in most cases those must be doctoral courses\n",
    "courses_unique_df.loc[courses_unique_df.semester == '', 'semester'] = 'Inapplicable'"
   ]
  },
  {
   "cell_type": "markdown",
   "metadata": {},
   "source": [
    "***\n",
    "Next step is to process the registration data and integrate it with `courses_unique_df`. We will also store it in separate json files."
   ]
  },
  {
   "cell_type": "code",
   "execution_count": 47,
   "metadata": {},
   "outputs": [],
   "source": [
    "# from_dict disregards keys with empty dictionaries as value\n",
    "isa_df = pd.DataFrame.from_dict(isa, orient='index')"
   ]
  },
  {
   "cell_type": "code",
   "execution_count": 48,
   "metadata": {},
   "outputs": [
    {
     "data": {
      "text/plain": [
       "194"
      ]
     },
     "execution_count": 48,
     "metadata": {},
     "output_type": "execute_result"
    }
   ],
   "source": [
    "sum(value == {} for value in isa.values())"
   ]
  },
  {
   "cell_type": "code",
   "execution_count": 49,
   "metadata": {},
   "outputs": [
    {
     "data": {
      "text/html": [
       "<div>\n",
       "<style scoped>\n",
       "    .dataframe tbody tr th:only-of-type {\n",
       "        vertical-align: middle;\n",
       "    }\n",
       "\n",
       "    .dataframe tbody tr th {\n",
       "        vertical-align: top;\n",
       "    }\n",
       "\n",
       "    .dataframe thead th {\n",
       "        text-align: right;\n",
       "    }\n",
       "</style>\n",
       "<table border=\"1\" class=\"dataframe\">\n",
       "  <thead>\n",
       "    <tr style=\"text-align: right;\">\n",
       "      <th></th>\n",
       "      <th>2018-2019</th>\n",
       "      <th>2015-2016</th>\n",
       "      <th>2013-2014</th>\n",
       "      <th>2017-2018</th>\n",
       "      <th>2012-2013</th>\n",
       "      <th>2016-2017</th>\n",
       "      <th>2014-2015</th>\n",
       "      <th>2011-2012</th>\n",
       "      <th>2019-2020</th>\n",
       "      <th>2010-2011</th>\n",
       "      <th>2008-2009</th>\n",
       "      <th>2009-2010</th>\n",
       "      <th>2007-2008</th>\n",
       "      <th>2006-2007</th>\n",
       "      <th>2005-2006</th>\n",
       "      <th>2004-2005</th>\n",
       "      <th>2020-2021</th>\n",
       "    </tr>\n",
       "  </thead>\n",
       "  <tbody>\n",
       "    <tr>\n",
       "      <th>Numerical approximation of PDE's II</th>\n",
       "      <td>{'Applied Mathematics, Master semester 1, 3': ...</td>\n",
       "      <td>{'Applied Mathematics, Master semester 2, 4': ...</td>\n",
       "      <td>{'Applied Mathematics, Master semester 2, 4': ...</td>\n",
       "      <td>{'Computational science and Engineering, Maste...</td>\n",
       "      <td>{'Applied Mathematics, Master semester 2': 11,...</td>\n",
       "      <td>{'Mathematics - master program, Master semeste...</td>\n",
       "      <td>{'Applied Mathematics, Master semester 2, 4': ...</td>\n",
       "      <td>NaN</td>\n",
       "      <td>NaN</td>\n",
       "      <td>NaN</td>\n",
       "      <td>NaN</td>\n",
       "      <td>NaN</td>\n",
       "      <td>NaN</td>\n",
       "      <td>NaN</td>\n",
       "      <td>NaN</td>\n",
       "      <td>NaN</td>\n",
       "      <td>NaN</td>\n",
       "    </tr>\n",
       "  </tbody>\n",
       "</table>\n",
       "</div>"
      ],
      "text/plain": [
       "                                                                             2018-2019  \\\n",
       "Numerical approximation of PDE's II  {'Applied Mathematics, Master semester 1, 3': ...   \n",
       "\n",
       "                                                                             2015-2016  \\\n",
       "Numerical approximation of PDE's II  {'Applied Mathematics, Master semester 2, 4': ...   \n",
       "\n",
       "                                                                             2013-2014  \\\n",
       "Numerical approximation of PDE's II  {'Applied Mathematics, Master semester 2, 4': ...   \n",
       "\n",
       "                                                                             2017-2018  \\\n",
       "Numerical approximation of PDE's II  {'Computational science and Engineering, Maste...   \n",
       "\n",
       "                                                                             2012-2013  \\\n",
       "Numerical approximation of PDE's II  {'Applied Mathematics, Master semester 2': 11,...   \n",
       "\n",
       "                                                                             2016-2017  \\\n",
       "Numerical approximation of PDE's II  {'Mathematics - master program, Master semeste...   \n",
       "\n",
       "                                                                             2014-2015  \\\n",
       "Numerical approximation of PDE's II  {'Applied Mathematics, Master semester 2, 4': ...   \n",
       "\n",
       "                                    2011-2012 2019-2020 2010-2011 2008-2009  \\\n",
       "Numerical approximation of PDE's II       NaN       NaN       NaN       NaN   \n",
       "\n",
       "                                    2009-2010 2007-2008 2006-2007 2005-2006  \\\n",
       "Numerical approximation of PDE's II       NaN       NaN       NaN       NaN   \n",
       "\n",
       "                                    2004-2005 2020-2021  \n",
       "Numerical approximation of PDE's II       NaN       NaN  "
      ]
     },
     "execution_count": 49,
     "metadata": {},
     "output_type": "execute_result"
    }
   ],
   "source": [
    "isa_df.head(1)"
   ]
  },
  {
   "cell_type": "markdown",
   "metadata": {},
   "source": [
    "Let's exchange the course name with the course code from `courses_unique_df`. This will drop unmatched courses from `isa_df`:"
   ]
  },
  {
   "cell_type": "code",
   "execution_count": 50,
   "metadata": {},
   "outputs": [],
   "source": [
    "isa_df = (\n",
    "    courses_unique_df.join(isa_df, on='name', how='inner')\n",
    "    .drop(courses_unique_df.columns, axis=1)\n",
    ")"
   ]
  },
  {
   "cell_type": "code",
   "execution_count": 51,
   "metadata": {},
   "outputs": [
    {
     "data": {
      "text/plain": [
       "Index(['CH-315', 'CH-361', 'HUM-383', 'MATH-476', 'AR-468', 'CH-428',\n",
       "       'CIVIL-422', 'DH-490', 'EE-520', 'AR-403', 'ME-468', 'CH-418',\n",
       "       'ETH-427', 'ETH-444', 'ETH-453', 'ETH-450', 'ETH-451', 'AR-804',\n",
       "       'ChE-607(1)', 'ChE-607(2)', 'ChE-608(1)', 'ChE-608(2)', 'MATH-801(2)',\n",
       "       'CS-803', 'ENG-627', 'ENG-637', 'ENG-800', 'ENG-630', 'MGT-641(a)',\n",
       "       'MGT-641(b)', 'MGT-642(a)', 'EE-609', 'MGT-693(E)', 'MGT-693(A)',\n",
       "       'MGT-693(I)', 'MSE-655', 'MSE-667', 'MSE-715', 'MSE-603', 'MATH-620(2)',\n",
       "       'ME-628', 'BIO-603(MS)', 'BIO-699(n)', 'PHYS-639'],\n",
       "      dtype='object')"
      ]
     },
     "execution_count": 51,
     "metadata": {},
     "output_type": "execute_result"
    }
   ],
   "source": [
    "# courses with no registration data\n",
    "courses_unique_df.index[~courses_unique_df.index.isin(isa_df.index)]"
   ]
  },
  {
   "cell_type": "code",
   "execution_count": 52,
   "metadata": {},
   "outputs": [],
   "source": [
    "# sort columns, academic years, in descending order\n",
    "isa_df = isa_df[isa_df.columns.sort_values()]"
   ]
  },
  {
   "cell_type": "code",
   "execution_count": 53,
   "metadata": {},
   "outputs": [
    {
     "data": {
      "text/html": [
       "<div>\n",
       "<style scoped>\n",
       "    .dataframe tbody tr th:only-of-type {\n",
       "        vertical-align: middle;\n",
       "    }\n",
       "\n",
       "    .dataframe tbody tr th {\n",
       "        vertical-align: top;\n",
       "    }\n",
       "\n",
       "    .dataframe thead th {\n",
       "        text-align: right;\n",
       "    }\n",
       "</style>\n",
       "<table border=\"1\" class=\"dataframe\">\n",
       "  <thead>\n",
       "    <tr style=\"text-align: right;\">\n",
       "      <th></th>\n",
       "      <th>2004-2005</th>\n",
       "      <th>2005-2006</th>\n",
       "      <th>2006-2007</th>\n",
       "      <th>2007-2008</th>\n",
       "      <th>2008-2009</th>\n",
       "      <th>2009-2010</th>\n",
       "      <th>2010-2011</th>\n",
       "      <th>2011-2012</th>\n",
       "      <th>2012-2013</th>\n",
       "      <th>2013-2014</th>\n",
       "      <th>2014-2015</th>\n",
       "      <th>2015-2016</th>\n",
       "      <th>2016-2017</th>\n",
       "      <th>2017-2018</th>\n",
       "      <th>2018-2019</th>\n",
       "      <th>2019-2020</th>\n",
       "      <th>2020-2021</th>\n",
       "    </tr>\n",
       "  </thead>\n",
       "  <tbody>\n",
       "    <tr>\n",
       "      <th>AR-126</th>\n",
       "      <td>NaN</td>\n",
       "      <td>NaN</td>\n",
       "      <td>NaN</td>\n",
       "      <td>NaN</td>\n",
       "      <td>NaN</td>\n",
       "      <td>NaN</td>\n",
       "      <td>NaN</td>\n",
       "      <td>NaN</td>\n",
       "      <td>NaN</td>\n",
       "      <td>NaN</td>\n",
       "      <td>NaN</td>\n",
       "      <td>NaN</td>\n",
       "      <td>NaN</td>\n",
       "      <td>NaN</td>\n",
       "      <td>{'Architecture, Bachelor semester 2': 136, 'to...</td>\n",
       "      <td>{'Architecture, Bachelor semester 2': 147, 'to...</td>\n",
       "      <td>NaN</td>\n",
       "    </tr>\n",
       "    <tr>\n",
       "      <th>MATH-126</th>\n",
       "      <td>NaN</td>\n",
       "      <td>NaN</td>\n",
       "      <td>NaN</td>\n",
       "      <td>NaN</td>\n",
       "      <td>NaN</td>\n",
       "      <td>NaN</td>\n",
       "      <td>NaN</td>\n",
       "      <td>NaN</td>\n",
       "      <td>NaN</td>\n",
       "      <td>NaN</td>\n",
       "      <td>{'Passerelle HES - AR, Spring semester': 1, 'A...</td>\n",
       "      <td>{'Passerelle HES - AR, Spring semester': 2, 'A...</td>\n",
       "      <td>{'Architecture, Bachelor semester 2': 240, 'Pa...</td>\n",
       "      <td>{'Passerelle HES - AR, Spring semester': 5, 'A...</td>\n",
       "      <td>{'Passerelle HES - AR, Spring semester': 5, 'A...</td>\n",
       "      <td>{'Passerelle HES - AR, Spring semester': 3, 'A...</td>\n",
       "      <td>NaN</td>\n",
       "    </tr>\n",
       "    <tr>\n",
       "      <th>CIVIL-123</th>\n",
       "      <td>{'Environmental Sciences and Engineering, Bach...</td>\n",
       "      <td>{'Environmental Sciences and Engineering, Bach...</td>\n",
       "      <td>{'Civil Engineering, Bachelor semester 2': 75,...</td>\n",
       "      <td>{'Civil Engineering, Bachelor semester 2': 69,...</td>\n",
       "      <td>{'Civil Engineering, Bachelor semester 2': 77,...</td>\n",
       "      <td>{'Architecture, Bachelor semester 2': 265, 'Ci...</td>\n",
       "      <td>{'Environmental Sciences and Engineering, Bach...</td>\n",
       "      <td>{'Civil Engineering, Bachelor semester 2': 174...</td>\n",
       "      <td>{'Civil Engineering, Bachelor semester 2': 178...</td>\n",
       "      <td>{'Civil Engineering, Bachelor semester 2': 157...</td>\n",
       "      <td>{'Architecture, Bachelor semester 2': 207, 'Ci...</td>\n",
       "      <td>{'Architecture, Bachelor semester 2': 217, 'Ci...</td>\n",
       "      <td>{'Architecture, Bachelor semester 2': 176, 'Ci...</td>\n",
       "      <td>{'Architecture, Bachelor semester 2': 166, 'Ci...</td>\n",
       "      <td>{'Architecture, Bachelor semester 2': 137, 'Ci...</td>\n",
       "      <td>{'Civil Engineering, Bachelor semester 2': 59,...</td>\n",
       "      <td>NaN</td>\n",
       "    </tr>\n",
       "    <tr>\n",
       "      <th>PHYS-118</th>\n",
       "      <td>NaN</td>\n",
       "      <td>NaN</td>\n",
       "      <td>NaN</td>\n",
       "      <td>NaN</td>\n",
       "      <td>NaN</td>\n",
       "      <td>NaN</td>\n",
       "      <td>NaN</td>\n",
       "      <td>NaN</td>\n",
       "      <td>NaN</td>\n",
       "      <td>NaN</td>\n",
       "      <td>NaN</td>\n",
       "      <td>NaN</td>\n",
       "      <td>NaN</td>\n",
       "      <td>NaN</td>\n",
       "      <td>{'Architecture, Bachelor semester 1': 218, 'to...</td>\n",
       "      <td>{'Architecture, Bachelor semester 1': 234, 'to...</td>\n",
       "      <td>NaN</td>\n",
       "    </tr>\n",
       "    <tr>\n",
       "      <th>AR-125</th>\n",
       "      <td>NaN</td>\n",
       "      <td>NaN</td>\n",
       "      <td>NaN</td>\n",
       "      <td>NaN</td>\n",
       "      <td>NaN</td>\n",
       "      <td>NaN</td>\n",
       "      <td>NaN</td>\n",
       "      <td>NaN</td>\n",
       "      <td>NaN</td>\n",
       "      <td>NaN</td>\n",
       "      <td>NaN</td>\n",
       "      <td>NaN</td>\n",
       "      <td>NaN</td>\n",
       "      <td>NaN</td>\n",
       "      <td>{'Architecture, Bachelor semester 1': 202, 'to...</td>\n",
       "      <td>{'Architecture, Bachelor semester 1': 236, 'to...</td>\n",
       "      <td>NaN</td>\n",
       "    </tr>\n",
       "  </tbody>\n",
       "</table>\n",
       "</div>"
      ],
      "text/plain": [
       "                                                   2004-2005  \\\n",
       "AR-126                                                   NaN   \n",
       "MATH-126                                                 NaN   \n",
       "CIVIL-123  {'Environmental Sciences and Engineering, Bach...   \n",
       "PHYS-118                                                 NaN   \n",
       "AR-125                                                   NaN   \n",
       "\n",
       "                                                   2005-2006  \\\n",
       "AR-126                                                   NaN   \n",
       "MATH-126                                                 NaN   \n",
       "CIVIL-123  {'Environmental Sciences and Engineering, Bach...   \n",
       "PHYS-118                                                 NaN   \n",
       "AR-125                                                   NaN   \n",
       "\n",
       "                                                   2006-2007  \\\n",
       "AR-126                                                   NaN   \n",
       "MATH-126                                                 NaN   \n",
       "CIVIL-123  {'Civil Engineering, Bachelor semester 2': 75,...   \n",
       "PHYS-118                                                 NaN   \n",
       "AR-125                                                   NaN   \n",
       "\n",
       "                                                   2007-2008  \\\n",
       "AR-126                                                   NaN   \n",
       "MATH-126                                                 NaN   \n",
       "CIVIL-123  {'Civil Engineering, Bachelor semester 2': 69,...   \n",
       "PHYS-118                                                 NaN   \n",
       "AR-125                                                   NaN   \n",
       "\n",
       "                                                   2008-2009  \\\n",
       "AR-126                                                   NaN   \n",
       "MATH-126                                                 NaN   \n",
       "CIVIL-123  {'Civil Engineering, Bachelor semester 2': 77,...   \n",
       "PHYS-118                                                 NaN   \n",
       "AR-125                                                   NaN   \n",
       "\n",
       "                                                   2009-2010  \\\n",
       "AR-126                                                   NaN   \n",
       "MATH-126                                                 NaN   \n",
       "CIVIL-123  {'Architecture, Bachelor semester 2': 265, 'Ci...   \n",
       "PHYS-118                                                 NaN   \n",
       "AR-125                                                   NaN   \n",
       "\n",
       "                                                   2010-2011  \\\n",
       "AR-126                                                   NaN   \n",
       "MATH-126                                                 NaN   \n",
       "CIVIL-123  {'Environmental Sciences and Engineering, Bach...   \n",
       "PHYS-118                                                 NaN   \n",
       "AR-125                                                   NaN   \n",
       "\n",
       "                                                   2011-2012  \\\n",
       "AR-126                                                   NaN   \n",
       "MATH-126                                                 NaN   \n",
       "CIVIL-123  {'Civil Engineering, Bachelor semester 2': 174...   \n",
       "PHYS-118                                                 NaN   \n",
       "AR-125                                                   NaN   \n",
       "\n",
       "                                                   2012-2013  \\\n",
       "AR-126                                                   NaN   \n",
       "MATH-126                                                 NaN   \n",
       "CIVIL-123  {'Civil Engineering, Bachelor semester 2': 178...   \n",
       "PHYS-118                                                 NaN   \n",
       "AR-125                                                   NaN   \n",
       "\n",
       "                                                   2013-2014  \\\n",
       "AR-126                                                   NaN   \n",
       "MATH-126                                                 NaN   \n",
       "CIVIL-123  {'Civil Engineering, Bachelor semester 2': 157...   \n",
       "PHYS-118                                                 NaN   \n",
       "AR-125                                                   NaN   \n",
       "\n",
       "                                                   2014-2015  \\\n",
       "AR-126                                                   NaN   \n",
       "MATH-126   {'Passerelle HES - AR, Spring semester': 1, 'A...   \n",
       "CIVIL-123  {'Architecture, Bachelor semester 2': 207, 'Ci...   \n",
       "PHYS-118                                                 NaN   \n",
       "AR-125                                                   NaN   \n",
       "\n",
       "                                                   2015-2016  \\\n",
       "AR-126                                                   NaN   \n",
       "MATH-126   {'Passerelle HES - AR, Spring semester': 2, 'A...   \n",
       "CIVIL-123  {'Architecture, Bachelor semester 2': 217, 'Ci...   \n",
       "PHYS-118                                                 NaN   \n",
       "AR-125                                                   NaN   \n",
       "\n",
       "                                                   2016-2017  \\\n",
       "AR-126                                                   NaN   \n",
       "MATH-126   {'Architecture, Bachelor semester 2': 240, 'Pa...   \n",
       "CIVIL-123  {'Architecture, Bachelor semester 2': 176, 'Ci...   \n",
       "PHYS-118                                                 NaN   \n",
       "AR-125                                                   NaN   \n",
       "\n",
       "                                                   2017-2018  \\\n",
       "AR-126                                                   NaN   \n",
       "MATH-126   {'Passerelle HES - AR, Spring semester': 5, 'A...   \n",
       "CIVIL-123  {'Architecture, Bachelor semester 2': 166, 'Ci...   \n",
       "PHYS-118                                                 NaN   \n",
       "AR-125                                                   NaN   \n",
       "\n",
       "                                                   2018-2019  \\\n",
       "AR-126     {'Architecture, Bachelor semester 2': 136, 'to...   \n",
       "MATH-126   {'Passerelle HES - AR, Spring semester': 5, 'A...   \n",
       "CIVIL-123  {'Architecture, Bachelor semester 2': 137, 'Ci...   \n",
       "PHYS-118   {'Architecture, Bachelor semester 1': 218, 'to...   \n",
       "AR-125     {'Architecture, Bachelor semester 1': 202, 'to...   \n",
       "\n",
       "                                                   2019-2020 2020-2021  \n",
       "AR-126     {'Architecture, Bachelor semester 2': 147, 'to...       NaN  \n",
       "MATH-126   {'Passerelle HES - AR, Spring semester': 3, 'A...       NaN  \n",
       "CIVIL-123  {'Civil Engineering, Bachelor semester 2': 59,...       NaN  \n",
       "PHYS-118   {'Architecture, Bachelor semester 1': 234, 'to...       NaN  \n",
       "AR-125     {'Architecture, Bachelor semester 1': 236, 'to...       NaN  "
      ]
     },
     "execution_count": 53,
     "metadata": {},
     "output_type": "execute_result"
    }
   ],
   "source": [
    "isa_df.head()"
   ]
  },
  {
   "cell_type": "markdown",
   "metadata": {},
   "source": [
    "Next we create a new dataframe for total registrations per course and per year, `isa_total_df`:"
   ]
  },
  {
   "cell_type": "code",
   "execution_count": 54,
   "metadata": {},
   "outputs": [],
   "source": [
    "isa_total_df = (\n",
    "    isa_df.stack()     # stack year columns on the index\n",
    "    .apply(pd.Series)  # expand each dictionary value into a Series\n",
    "    .total             # select the 'total' column\n",
    "    .unstack(level=1)  # unstack the year index level to the column axis\n",
    "    .fillna(0)         # fill NaN totals with 0\n",
    "    .astype(int)       # float --> int\n",
    ")"
   ]
  },
  {
   "cell_type": "code",
   "execution_count": 55,
   "metadata": {},
   "outputs": [
    {
     "data": {
      "text/html": [
       "<div>\n",
       "<style scoped>\n",
       "    .dataframe tbody tr th:only-of-type {\n",
       "        vertical-align: middle;\n",
       "    }\n",
       "\n",
       "    .dataframe tbody tr th {\n",
       "        vertical-align: top;\n",
       "    }\n",
       "\n",
       "    .dataframe thead th {\n",
       "        text-align: right;\n",
       "    }\n",
       "</style>\n",
       "<table border=\"1\" class=\"dataframe\">\n",
       "  <thead>\n",
       "    <tr style=\"text-align: right;\">\n",
       "      <th></th>\n",
       "      <th>2004-2005</th>\n",
       "      <th>2005-2006</th>\n",
       "      <th>2006-2007</th>\n",
       "      <th>2007-2008</th>\n",
       "      <th>2008-2009</th>\n",
       "      <th>2009-2010</th>\n",
       "      <th>2010-2011</th>\n",
       "      <th>2011-2012</th>\n",
       "      <th>2012-2013</th>\n",
       "      <th>2013-2014</th>\n",
       "      <th>2014-2015</th>\n",
       "      <th>2015-2016</th>\n",
       "      <th>2016-2017</th>\n",
       "      <th>2017-2018</th>\n",
       "      <th>2018-2019</th>\n",
       "      <th>2019-2020</th>\n",
       "      <th>2020-2021</th>\n",
       "    </tr>\n",
       "  </thead>\n",
       "  <tbody>\n",
       "    <tr>\n",
       "      <th>AR-126</th>\n",
       "      <td>0</td>\n",
       "      <td>0</td>\n",
       "      <td>0</td>\n",
       "      <td>0</td>\n",
       "      <td>0</td>\n",
       "      <td>0</td>\n",
       "      <td>0</td>\n",
       "      <td>0</td>\n",
       "      <td>0</td>\n",
       "      <td>0</td>\n",
       "      <td>0</td>\n",
       "      <td>0</td>\n",
       "      <td>0</td>\n",
       "      <td>0</td>\n",
       "      <td>136</td>\n",
       "      <td>147</td>\n",
       "      <td>0</td>\n",
       "    </tr>\n",
       "    <tr>\n",
       "      <th>MATH-126</th>\n",
       "      <td>0</td>\n",
       "      <td>0</td>\n",
       "      <td>0</td>\n",
       "      <td>0</td>\n",
       "      <td>0</td>\n",
       "      <td>0</td>\n",
       "      <td>0</td>\n",
       "      <td>0</td>\n",
       "      <td>0</td>\n",
       "      <td>0</td>\n",
       "      <td>277</td>\n",
       "      <td>258</td>\n",
       "      <td>249</td>\n",
       "      <td>171</td>\n",
       "      <td>145</td>\n",
       "      <td>151</td>\n",
       "      <td>0</td>\n",
       "    </tr>\n",
       "    <tr>\n",
       "      <th>CIVIL-123</th>\n",
       "      <td>255</td>\n",
       "      <td>272</td>\n",
       "      <td>237</td>\n",
       "      <td>208</td>\n",
       "      <td>258</td>\n",
       "      <td>373</td>\n",
       "      <td>426</td>\n",
       "      <td>437</td>\n",
       "      <td>428</td>\n",
       "      <td>388</td>\n",
       "      <td>309</td>\n",
       "      <td>317</td>\n",
       "      <td>231</td>\n",
       "      <td>232</td>\n",
       "      <td>197</td>\n",
       "      <td>206</td>\n",
       "      <td>0</td>\n",
       "    </tr>\n",
       "    <tr>\n",
       "      <th>PHYS-118</th>\n",
       "      <td>0</td>\n",
       "      <td>0</td>\n",
       "      <td>0</td>\n",
       "      <td>0</td>\n",
       "      <td>0</td>\n",
       "      <td>0</td>\n",
       "      <td>0</td>\n",
       "      <td>0</td>\n",
       "      <td>0</td>\n",
       "      <td>0</td>\n",
       "      <td>0</td>\n",
       "      <td>0</td>\n",
       "      <td>0</td>\n",
       "      <td>0</td>\n",
       "      <td>218</td>\n",
       "      <td>234</td>\n",
       "      <td>0</td>\n",
       "    </tr>\n",
       "    <tr>\n",
       "      <th>AR-125</th>\n",
       "      <td>0</td>\n",
       "      <td>0</td>\n",
       "      <td>0</td>\n",
       "      <td>0</td>\n",
       "      <td>0</td>\n",
       "      <td>0</td>\n",
       "      <td>0</td>\n",
       "      <td>0</td>\n",
       "      <td>0</td>\n",
       "      <td>0</td>\n",
       "      <td>0</td>\n",
       "      <td>0</td>\n",
       "      <td>0</td>\n",
       "      <td>0</td>\n",
       "      <td>202</td>\n",
       "      <td>236</td>\n",
       "      <td>0</td>\n",
       "    </tr>\n",
       "  </tbody>\n",
       "</table>\n",
       "</div>"
      ],
      "text/plain": [
       "           2004-2005  2005-2006  2006-2007  2007-2008  2008-2009  2009-2010  \\\n",
       "AR-126             0          0          0          0          0          0   \n",
       "MATH-126           0          0          0          0          0          0   \n",
       "CIVIL-123        255        272        237        208        258        373   \n",
       "PHYS-118           0          0          0          0          0          0   \n",
       "AR-125             0          0          0          0          0          0   \n",
       "\n",
       "           2010-2011  2011-2012  2012-2013  2013-2014  2014-2015  2015-2016  \\\n",
       "AR-126             0          0          0          0          0          0   \n",
       "MATH-126           0          0          0          0        277        258   \n",
       "CIVIL-123        426        437        428        388        309        317   \n",
       "PHYS-118           0          0          0          0          0          0   \n",
       "AR-125             0          0          0          0          0          0   \n",
       "\n",
       "           2016-2017  2017-2018  2018-2019  2019-2020  2020-2021  \n",
       "AR-126             0          0        136        147          0  \n",
       "MATH-126         249        171        145        151          0  \n",
       "CIVIL-123        231        232        197        206          0  \n",
       "PHYS-118           0          0        218        234          0  \n",
       "AR-125             0          0        202        236          0  "
      ]
     },
     "execution_count": 55,
     "metadata": {},
     "output_type": "execute_result"
    }
   ],
   "source": [
    "isa_total_df.head()"
   ]
  },
  {
   "cell_type": "markdown",
   "metadata": {},
   "source": [
    "We add `registrations` column to `courses_unique_df`"
   ]
  },
  {
   "cell_type": "code",
   "execution_count": 56,
   "metadata": {},
   "outputs": [
    {
     "data": {
      "text/html": [
       "<div>\n",
       "<style scoped>\n",
       "    .dataframe tbody tr th:only-of-type {\n",
       "        vertical-align: middle;\n",
       "    }\n",
       "\n",
       "    .dataframe tbody tr th {\n",
       "        vertical-align: top;\n",
       "    }\n",
       "\n",
       "    .dataframe thead th {\n",
       "        text-align: right;\n",
       "    }\n",
       "</style>\n",
       "<table border=\"1\" class=\"dataframe\">\n",
       "  <thead>\n",
       "    <tr style=\"text-align: right;\">\n",
       "      <th></th>\n",
       "      <th>registrations</th>\n",
       "    </tr>\n",
       "  </thead>\n",
       "  <tbody>\n",
       "    <tr>\n",
       "      <th>AR-126</th>\n",
       "      <td>{'2004-2005': 0, '2005-2006': 0, '2006-2007': ...</td>\n",
       "    </tr>\n",
       "    <tr>\n",
       "      <th>MATH-126</th>\n",
       "      <td>{'2004-2005': 0, '2005-2006': 0, '2006-2007': ...</td>\n",
       "    </tr>\n",
       "    <tr>\n",
       "      <th>CIVIL-123</th>\n",
       "      <td>{'2004-2005': 255, '2005-2006': 272, '2006-200...</td>\n",
       "    </tr>\n",
       "    <tr>\n",
       "      <th>PHYS-118</th>\n",
       "      <td>{'2004-2005': 0, '2005-2006': 0, '2006-2007': ...</td>\n",
       "    </tr>\n",
       "    <tr>\n",
       "      <th>AR-125</th>\n",
       "      <td>{'2004-2005': 0, '2005-2006': 0, '2006-2007': ...</td>\n",
       "    </tr>\n",
       "  </tbody>\n",
       "</table>\n",
       "</div>"
      ],
      "text/plain": [
       "                                               registrations\n",
       "AR-126     {'2004-2005': 0, '2005-2006': 0, '2006-2007': ...\n",
       "MATH-126   {'2004-2005': 0, '2005-2006': 0, '2006-2007': ...\n",
       "CIVIL-123  {'2004-2005': 255, '2005-2006': 272, '2006-200...\n",
       "PHYS-118   {'2004-2005': 0, '2005-2006': 0, '2006-2007': ...\n",
       "AR-125     {'2004-2005': 0, '2005-2006': 0, '2006-2007': ..."
      ]
     },
     "execution_count": 56,
     "metadata": {},
     "output_type": "execute_result"
    }
   ],
   "source": [
    "isa_total_df_compressed = isa_total_df.apply(dict, axis=1).to_frame('registrations')\n",
    "isa_total_df_compressed.head()"
   ]
  },
  {
   "cell_type": "code",
   "execution_count": 57,
   "metadata": {},
   "outputs": [],
   "source": [
    "courses_unique_df = courses_unique_df.join(isa_total_df_compressed, how='outer')"
   ]
  },
  {
   "cell_type": "markdown",
   "metadata": {},
   "source": [
    "Before moving on we remove certain columns from `course_unique_df` which contain raw info we will process later to extract links between courses. We store these in a new frame, `dependency_info_df`:"
   ]
  },
  {
   "cell_type": "code",
   "execution_count": 58,
   "metadata": {},
   "outputs": [],
   "source": [
    "dependency_info_cols = ['required', 'recommended', 'concepts', 'prerequisite_for']\n",
    "\n",
    "dependency_info_df = courses_unique_df[dependency_info_cols]\n",
    "courses_unique_df.drop(dependency_info_cols, axis=1, inplace=True)"
   ]
  },
  {
   "cell_type": "markdown",
   "metadata": {},
   "source": [
    "Now we can write the dataframes to json files."
   ]
  },
  {
   "cell_type": "code",
   "execution_count": 59,
   "metadata": {},
   "outputs": [],
   "source": [
    "isa_dict = isa_df.to_dict(orient='index')"
   ]
  },
  {
   "cell_type": "code",
   "execution_count": 60,
   "metadata": {},
   "outputs": [],
   "source": [
    "# create dictionary with NaNs removed\n",
    "isa_dict = {\n",
    "    code: {\n",
    "        year: info\n",
    "        for year, info in course.items()\n",
    "        if type(info) == dict  # skip NaN\n",
    "    }\n",
    "    for code, course in isa_dict.items()\n",
    "}"
   ]
  },
  {
   "cell_type": "code",
   "execution_count": 61,
   "metadata": {},
   "outputs": [],
   "source": [
    "write_processed_df('isa_all', isa_df)\n",
    "write_processed_dict('isa_all_notnan', isa_dict)\n",
    "\n",
    "write_processed_df('isa_total', isa_total_df)\n",
    "write_processed_df('epfl_courses', courses_unique_df)"
   ]
  },
  {
   "cell_type": "code",
   "execution_count": 62,
   "metadata": {},
   "outputs": [
    {
     "data": {
      "text/html": [
       "<div>\n",
       "<style scoped>\n",
       "    .dataframe tbody tr th:only-of-type {\n",
       "        vertical-align: middle;\n",
       "    }\n",
       "\n",
       "    .dataframe tbody tr th {\n",
       "        vertical-align: top;\n",
       "    }\n",
       "\n",
       "    .dataframe thead th {\n",
       "        text-align: right;\n",
       "    }\n",
       "</style>\n",
       "<table border=\"1\" class=\"dataframe\">\n",
       "  <thead>\n",
       "    <tr style=\"text-align: right;\">\n",
       "      <th></th>\n",
       "      <th>2004-2005</th>\n",
       "      <th>2005-2006</th>\n",
       "      <th>2006-2007</th>\n",
       "      <th>2007-2008</th>\n",
       "      <th>2008-2009</th>\n",
       "      <th>2009-2010</th>\n",
       "      <th>2010-2011</th>\n",
       "      <th>2011-2012</th>\n",
       "      <th>2012-2013</th>\n",
       "      <th>2013-2014</th>\n",
       "      <th>2014-2015</th>\n",
       "      <th>2015-2016</th>\n",
       "      <th>2016-2017</th>\n",
       "      <th>2017-2018</th>\n",
       "      <th>2018-2019</th>\n",
       "      <th>2019-2020</th>\n",
       "      <th>2020-2021</th>\n",
       "    </tr>\n",
       "  </thead>\n",
       "  <tbody>\n",
       "    <tr>\n",
       "      <th>AR-126</th>\n",
       "      <td>NaN</td>\n",
       "      <td>NaN</td>\n",
       "      <td>NaN</td>\n",
       "      <td>NaN</td>\n",
       "      <td>NaN</td>\n",
       "      <td>NaN</td>\n",
       "      <td>NaN</td>\n",
       "      <td>NaN</td>\n",
       "      <td>NaN</td>\n",
       "      <td>NaN</td>\n",
       "      <td>NaN</td>\n",
       "      <td>NaN</td>\n",
       "      <td>NaN</td>\n",
       "      <td>NaN</td>\n",
       "      <td>{'Architecture, Bachelor semester 2': 136, 'to...</td>\n",
       "      <td>{'Architecture, Bachelor semester 2': 147, 'to...</td>\n",
       "      <td>NaN</td>\n",
       "    </tr>\n",
       "    <tr>\n",
       "      <th>MATH-126</th>\n",
       "      <td>NaN</td>\n",
       "      <td>NaN</td>\n",
       "      <td>NaN</td>\n",
       "      <td>NaN</td>\n",
       "      <td>NaN</td>\n",
       "      <td>NaN</td>\n",
       "      <td>NaN</td>\n",
       "      <td>NaN</td>\n",
       "      <td>NaN</td>\n",
       "      <td>NaN</td>\n",
       "      <td>{'Passerelle HES - AR, Spring semester': 1, 'A...</td>\n",
       "      <td>{'Passerelle HES - AR, Spring semester': 2, 'A...</td>\n",
       "      <td>{'Architecture, Bachelor semester 2': 240, 'Pa...</td>\n",
       "      <td>{'Passerelle HES - AR, Spring semester': 5, 'A...</td>\n",
       "      <td>{'Passerelle HES - AR, Spring semester': 5, 'A...</td>\n",
       "      <td>{'Passerelle HES - AR, Spring semester': 3, 'A...</td>\n",
       "      <td>NaN</td>\n",
       "    </tr>\n",
       "    <tr>\n",
       "      <th>CIVIL-123</th>\n",
       "      <td>{'Environmental Sciences and Engineering, Bach...</td>\n",
       "      <td>{'Environmental Sciences and Engineering, Bach...</td>\n",
       "      <td>{'Civil Engineering, Bachelor semester 2': 75,...</td>\n",
       "      <td>{'Civil Engineering, Bachelor semester 2': 69,...</td>\n",
       "      <td>{'Civil Engineering, Bachelor semester 2': 77,...</td>\n",
       "      <td>{'Architecture, Bachelor semester 2': 265, 'Ci...</td>\n",
       "      <td>{'Environmental Sciences and Engineering, Bach...</td>\n",
       "      <td>{'Civil Engineering, Bachelor semester 2': 174...</td>\n",
       "      <td>{'Civil Engineering, Bachelor semester 2': 178...</td>\n",
       "      <td>{'Civil Engineering, Bachelor semester 2': 157...</td>\n",
       "      <td>{'Architecture, Bachelor semester 2': 207, 'Ci...</td>\n",
       "      <td>{'Architecture, Bachelor semester 2': 217, 'Ci...</td>\n",
       "      <td>{'Architecture, Bachelor semester 2': 176, 'Ci...</td>\n",
       "      <td>{'Architecture, Bachelor semester 2': 166, 'Ci...</td>\n",
       "      <td>{'Architecture, Bachelor semester 2': 137, 'Ci...</td>\n",
       "      <td>{'Civil Engineering, Bachelor semester 2': 59,...</td>\n",
       "      <td>NaN</td>\n",
       "    </tr>\n",
       "    <tr>\n",
       "      <th>PHYS-118</th>\n",
       "      <td>NaN</td>\n",
       "      <td>NaN</td>\n",
       "      <td>NaN</td>\n",
       "      <td>NaN</td>\n",
       "      <td>NaN</td>\n",
       "      <td>NaN</td>\n",
       "      <td>NaN</td>\n",
       "      <td>NaN</td>\n",
       "      <td>NaN</td>\n",
       "      <td>NaN</td>\n",
       "      <td>NaN</td>\n",
       "      <td>NaN</td>\n",
       "      <td>NaN</td>\n",
       "      <td>NaN</td>\n",
       "      <td>{'Architecture, Bachelor semester 1': 218, 'to...</td>\n",
       "      <td>{'Architecture, Bachelor semester 1': 234, 'to...</td>\n",
       "      <td>NaN</td>\n",
       "    </tr>\n",
       "    <tr>\n",
       "      <th>AR-125</th>\n",
       "      <td>NaN</td>\n",
       "      <td>NaN</td>\n",
       "      <td>NaN</td>\n",
       "      <td>NaN</td>\n",
       "      <td>NaN</td>\n",
       "      <td>NaN</td>\n",
       "      <td>NaN</td>\n",
       "      <td>NaN</td>\n",
       "      <td>NaN</td>\n",
       "      <td>NaN</td>\n",
       "      <td>NaN</td>\n",
       "      <td>NaN</td>\n",
       "      <td>NaN</td>\n",
       "      <td>NaN</td>\n",
       "      <td>{'Architecture, Bachelor semester 1': 202, 'to...</td>\n",
       "      <td>{'Architecture, Bachelor semester 1': 236, 'to...</td>\n",
       "      <td>NaN</td>\n",
       "    </tr>\n",
       "    <tr>\n",
       "      <th>...</th>\n",
       "      <td>...</td>\n",
       "      <td>...</td>\n",
       "      <td>...</td>\n",
       "      <td>...</td>\n",
       "      <td>...</td>\n",
       "      <td>...</td>\n",
       "      <td>...</td>\n",
       "      <td>...</td>\n",
       "      <td>...</td>\n",
       "      <td>...</td>\n",
       "      <td>...</td>\n",
       "      <td>...</td>\n",
       "      <td>...</td>\n",
       "      <td>...</td>\n",
       "      <td>...</td>\n",
       "      <td>...</td>\n",
       "      <td>...</td>\n",
       "    </tr>\n",
       "    <tr>\n",
       "      <th>PHYS-810</th>\n",
       "      <td>NaN</td>\n",
       "      <td>NaN</td>\n",
       "      <td>NaN</td>\n",
       "      <td>NaN</td>\n",
       "      <td>NaN</td>\n",
       "      <td>NaN</td>\n",
       "      <td>NaN</td>\n",
       "      <td>NaN</td>\n",
       "      <td>NaN</td>\n",
       "      <td>NaN</td>\n",
       "      <td>NaN</td>\n",
       "      <td>NaN</td>\n",
       "      <td>NaN</td>\n",
       "      <td>NaN</td>\n",
       "      <td>NaN</td>\n",
       "      <td>{'total': 24, 'Physics (edoc)': 24}</td>\n",
       "      <td>NaN</td>\n",
       "    </tr>\n",
       "    <tr>\n",
       "      <th>PHYS-812</th>\n",
       "      <td>NaN</td>\n",
       "      <td>NaN</td>\n",
       "      <td>NaN</td>\n",
       "      <td>NaN</td>\n",
       "      <td>NaN</td>\n",
       "      <td>NaN</td>\n",
       "      <td>NaN</td>\n",
       "      <td>NaN</td>\n",
       "      <td>NaN</td>\n",
       "      <td>NaN</td>\n",
       "      <td>NaN</td>\n",
       "      <td>NaN</td>\n",
       "      <td>NaN</td>\n",
       "      <td>NaN</td>\n",
       "      <td>NaN</td>\n",
       "      <td>{'total': 24, 'Physics (edoc)': 24}</td>\n",
       "      <td>NaN</td>\n",
       "    </tr>\n",
       "    <tr>\n",
       "      <th>PHYS-808</th>\n",
       "      <td>NaN</td>\n",
       "      <td>NaN</td>\n",
       "      <td>NaN</td>\n",
       "      <td>NaN</td>\n",
       "      <td>NaN</td>\n",
       "      <td>NaN</td>\n",
       "      <td>NaN</td>\n",
       "      <td>NaN</td>\n",
       "      <td>NaN</td>\n",
       "      <td>NaN</td>\n",
       "      <td>NaN</td>\n",
       "      <td>NaN</td>\n",
       "      <td>NaN</td>\n",
       "      <td>NaN</td>\n",
       "      <td>NaN</td>\n",
       "      <td>{'total': 95, 'Physics (edoc)': 95}</td>\n",
       "      <td>NaN</td>\n",
       "    </tr>\n",
       "    <tr>\n",
       "      <th>PHYS-809</th>\n",
       "      <td>NaN</td>\n",
       "      <td>NaN</td>\n",
       "      <td>NaN</td>\n",
       "      <td>NaN</td>\n",
       "      <td>NaN</td>\n",
       "      <td>NaN</td>\n",
       "      <td>NaN</td>\n",
       "      <td>NaN</td>\n",
       "      <td>NaN</td>\n",
       "      <td>NaN</td>\n",
       "      <td>NaN</td>\n",
       "      <td>NaN</td>\n",
       "      <td>NaN</td>\n",
       "      <td>NaN</td>\n",
       "      <td>NaN</td>\n",
       "      <td>{'total': 31, 'Physics (edoc)': 31}</td>\n",
       "      <td>NaN</td>\n",
       "    </tr>\n",
       "    <tr>\n",
       "      <th>ENG-615</th>\n",
       "      <td>NaN</td>\n",
       "      <td>NaN</td>\n",
       "      <td>NaN</td>\n",
       "      <td>NaN</td>\n",
       "      <td>NaN</td>\n",
       "      <td>NaN</td>\n",
       "      <td>NaN</td>\n",
       "      <td>NaN</td>\n",
       "      <td>NaN</td>\n",
       "      <td>{'Manufacturing Systems and Robotics (edoc)': ...</td>\n",
       "      <td>NaN</td>\n",
       "      <td>{'Manufacturing Systems and Robotics (edoc)': ...</td>\n",
       "      <td>NaN</td>\n",
       "      <td>NaN</td>\n",
       "      <td>{'Robotics, Control and Intelligent Systems (e...</td>\n",
       "      <td>NaN</td>\n",
       "      <td>NaN</td>\n",
       "    </tr>\n",
       "  </tbody>\n",
       "</table>\n",
       "<p>1842 rows × 17 columns</p>\n",
       "</div>"
      ],
      "text/plain": [
       "                                                   2004-2005  \\\n",
       "AR-126                                                   NaN   \n",
       "MATH-126                                                 NaN   \n",
       "CIVIL-123  {'Environmental Sciences and Engineering, Bach...   \n",
       "PHYS-118                                                 NaN   \n",
       "AR-125                                                   NaN   \n",
       "...                                                      ...   \n",
       "PHYS-810                                                 NaN   \n",
       "PHYS-812                                                 NaN   \n",
       "PHYS-808                                                 NaN   \n",
       "PHYS-809                                                 NaN   \n",
       "ENG-615                                                  NaN   \n",
       "\n",
       "                                                   2005-2006  \\\n",
       "AR-126                                                   NaN   \n",
       "MATH-126                                                 NaN   \n",
       "CIVIL-123  {'Environmental Sciences and Engineering, Bach...   \n",
       "PHYS-118                                                 NaN   \n",
       "AR-125                                                   NaN   \n",
       "...                                                      ...   \n",
       "PHYS-810                                                 NaN   \n",
       "PHYS-812                                                 NaN   \n",
       "PHYS-808                                                 NaN   \n",
       "PHYS-809                                                 NaN   \n",
       "ENG-615                                                  NaN   \n",
       "\n",
       "                                                   2006-2007  \\\n",
       "AR-126                                                   NaN   \n",
       "MATH-126                                                 NaN   \n",
       "CIVIL-123  {'Civil Engineering, Bachelor semester 2': 75,...   \n",
       "PHYS-118                                                 NaN   \n",
       "AR-125                                                   NaN   \n",
       "...                                                      ...   \n",
       "PHYS-810                                                 NaN   \n",
       "PHYS-812                                                 NaN   \n",
       "PHYS-808                                                 NaN   \n",
       "PHYS-809                                                 NaN   \n",
       "ENG-615                                                  NaN   \n",
       "\n",
       "                                                   2007-2008  \\\n",
       "AR-126                                                   NaN   \n",
       "MATH-126                                                 NaN   \n",
       "CIVIL-123  {'Civil Engineering, Bachelor semester 2': 69,...   \n",
       "PHYS-118                                                 NaN   \n",
       "AR-125                                                   NaN   \n",
       "...                                                      ...   \n",
       "PHYS-810                                                 NaN   \n",
       "PHYS-812                                                 NaN   \n",
       "PHYS-808                                                 NaN   \n",
       "PHYS-809                                                 NaN   \n",
       "ENG-615                                                  NaN   \n",
       "\n",
       "                                                   2008-2009  \\\n",
       "AR-126                                                   NaN   \n",
       "MATH-126                                                 NaN   \n",
       "CIVIL-123  {'Civil Engineering, Bachelor semester 2': 77,...   \n",
       "PHYS-118                                                 NaN   \n",
       "AR-125                                                   NaN   \n",
       "...                                                      ...   \n",
       "PHYS-810                                                 NaN   \n",
       "PHYS-812                                                 NaN   \n",
       "PHYS-808                                                 NaN   \n",
       "PHYS-809                                                 NaN   \n",
       "ENG-615                                                  NaN   \n",
       "\n",
       "                                                   2009-2010  \\\n",
       "AR-126                                                   NaN   \n",
       "MATH-126                                                 NaN   \n",
       "CIVIL-123  {'Architecture, Bachelor semester 2': 265, 'Ci...   \n",
       "PHYS-118                                                 NaN   \n",
       "AR-125                                                   NaN   \n",
       "...                                                      ...   \n",
       "PHYS-810                                                 NaN   \n",
       "PHYS-812                                                 NaN   \n",
       "PHYS-808                                                 NaN   \n",
       "PHYS-809                                                 NaN   \n",
       "ENG-615                                                  NaN   \n",
       "\n",
       "                                                   2010-2011  \\\n",
       "AR-126                                                   NaN   \n",
       "MATH-126                                                 NaN   \n",
       "CIVIL-123  {'Environmental Sciences and Engineering, Bach...   \n",
       "PHYS-118                                                 NaN   \n",
       "AR-125                                                   NaN   \n",
       "...                                                      ...   \n",
       "PHYS-810                                                 NaN   \n",
       "PHYS-812                                                 NaN   \n",
       "PHYS-808                                                 NaN   \n",
       "PHYS-809                                                 NaN   \n",
       "ENG-615                                                  NaN   \n",
       "\n",
       "                                                   2011-2012  \\\n",
       "AR-126                                                   NaN   \n",
       "MATH-126                                                 NaN   \n",
       "CIVIL-123  {'Civil Engineering, Bachelor semester 2': 174...   \n",
       "PHYS-118                                                 NaN   \n",
       "AR-125                                                   NaN   \n",
       "...                                                      ...   \n",
       "PHYS-810                                                 NaN   \n",
       "PHYS-812                                                 NaN   \n",
       "PHYS-808                                                 NaN   \n",
       "PHYS-809                                                 NaN   \n",
       "ENG-615                                                  NaN   \n",
       "\n",
       "                                                   2012-2013  \\\n",
       "AR-126                                                   NaN   \n",
       "MATH-126                                                 NaN   \n",
       "CIVIL-123  {'Civil Engineering, Bachelor semester 2': 178...   \n",
       "PHYS-118                                                 NaN   \n",
       "AR-125                                                   NaN   \n",
       "...                                                      ...   \n",
       "PHYS-810                                                 NaN   \n",
       "PHYS-812                                                 NaN   \n",
       "PHYS-808                                                 NaN   \n",
       "PHYS-809                                                 NaN   \n",
       "ENG-615                                                  NaN   \n",
       "\n",
       "                                                   2013-2014  \\\n",
       "AR-126                                                   NaN   \n",
       "MATH-126                                                 NaN   \n",
       "CIVIL-123  {'Civil Engineering, Bachelor semester 2': 157...   \n",
       "PHYS-118                                                 NaN   \n",
       "AR-125                                                   NaN   \n",
       "...                                                      ...   \n",
       "PHYS-810                                                 NaN   \n",
       "PHYS-812                                                 NaN   \n",
       "PHYS-808                                                 NaN   \n",
       "PHYS-809                                                 NaN   \n",
       "ENG-615    {'Manufacturing Systems and Robotics (edoc)': ...   \n",
       "\n",
       "                                                   2014-2015  \\\n",
       "AR-126                                                   NaN   \n",
       "MATH-126   {'Passerelle HES - AR, Spring semester': 1, 'A...   \n",
       "CIVIL-123  {'Architecture, Bachelor semester 2': 207, 'Ci...   \n",
       "PHYS-118                                                 NaN   \n",
       "AR-125                                                   NaN   \n",
       "...                                                      ...   \n",
       "PHYS-810                                                 NaN   \n",
       "PHYS-812                                                 NaN   \n",
       "PHYS-808                                                 NaN   \n",
       "PHYS-809                                                 NaN   \n",
       "ENG-615                                                  NaN   \n",
       "\n",
       "                                                   2015-2016  \\\n",
       "AR-126                                                   NaN   \n",
       "MATH-126   {'Passerelle HES - AR, Spring semester': 2, 'A...   \n",
       "CIVIL-123  {'Architecture, Bachelor semester 2': 217, 'Ci...   \n",
       "PHYS-118                                                 NaN   \n",
       "AR-125                                                   NaN   \n",
       "...                                                      ...   \n",
       "PHYS-810                                                 NaN   \n",
       "PHYS-812                                                 NaN   \n",
       "PHYS-808                                                 NaN   \n",
       "PHYS-809                                                 NaN   \n",
       "ENG-615    {'Manufacturing Systems and Robotics (edoc)': ...   \n",
       "\n",
       "                                                   2016-2017  \\\n",
       "AR-126                                                   NaN   \n",
       "MATH-126   {'Architecture, Bachelor semester 2': 240, 'Pa...   \n",
       "CIVIL-123  {'Architecture, Bachelor semester 2': 176, 'Ci...   \n",
       "PHYS-118                                                 NaN   \n",
       "AR-125                                                   NaN   \n",
       "...                                                      ...   \n",
       "PHYS-810                                                 NaN   \n",
       "PHYS-812                                                 NaN   \n",
       "PHYS-808                                                 NaN   \n",
       "PHYS-809                                                 NaN   \n",
       "ENG-615                                                  NaN   \n",
       "\n",
       "                                                   2017-2018  \\\n",
       "AR-126                                                   NaN   \n",
       "MATH-126   {'Passerelle HES - AR, Spring semester': 5, 'A...   \n",
       "CIVIL-123  {'Architecture, Bachelor semester 2': 166, 'Ci...   \n",
       "PHYS-118                                                 NaN   \n",
       "AR-125                                                   NaN   \n",
       "...                                                      ...   \n",
       "PHYS-810                                                 NaN   \n",
       "PHYS-812                                                 NaN   \n",
       "PHYS-808                                                 NaN   \n",
       "PHYS-809                                                 NaN   \n",
       "ENG-615                                                  NaN   \n",
       "\n",
       "                                                   2018-2019  \\\n",
       "AR-126     {'Architecture, Bachelor semester 2': 136, 'to...   \n",
       "MATH-126   {'Passerelle HES - AR, Spring semester': 5, 'A...   \n",
       "CIVIL-123  {'Architecture, Bachelor semester 2': 137, 'Ci...   \n",
       "PHYS-118   {'Architecture, Bachelor semester 1': 218, 'to...   \n",
       "AR-125     {'Architecture, Bachelor semester 1': 202, 'to...   \n",
       "...                                                      ...   \n",
       "PHYS-810                                                 NaN   \n",
       "PHYS-812                                                 NaN   \n",
       "PHYS-808                                                 NaN   \n",
       "PHYS-809                                                 NaN   \n",
       "ENG-615    {'Robotics, Control and Intelligent Systems (e...   \n",
       "\n",
       "                                                   2019-2020 2020-2021  \n",
       "AR-126     {'Architecture, Bachelor semester 2': 147, 'to...       NaN  \n",
       "MATH-126   {'Passerelle HES - AR, Spring semester': 3, 'A...       NaN  \n",
       "CIVIL-123  {'Civil Engineering, Bachelor semester 2': 59,...       NaN  \n",
       "PHYS-118   {'Architecture, Bachelor semester 1': 234, 'to...       NaN  \n",
       "AR-125     {'Architecture, Bachelor semester 1': 236, 'to...       NaN  \n",
       "...                                                      ...       ...  \n",
       "PHYS-810                 {'total': 24, 'Physics (edoc)': 24}       NaN  \n",
       "PHYS-812                 {'total': 24, 'Physics (edoc)': 24}       NaN  \n",
       "PHYS-808                 {'total': 95, 'Physics (edoc)': 95}       NaN  \n",
       "PHYS-809                 {'total': 31, 'Physics (edoc)': 31}       NaN  \n",
       "ENG-615                                                  NaN       NaN  \n",
       "\n",
       "[1842 rows x 17 columns]"
      ]
     },
     "execution_count": 62,
     "metadata": {},
     "output_type": "execute_result"
    }
   ],
   "source": [
    "isa_df"
   ]
  },
  {
   "cell_type": "markdown",
   "metadata": {},
   "source": [
    "Create `epfl_programs` dict and write to json file:"
   ]
  },
  {
   "cell_type": "code",
   "execution_count": 63,
   "metadata": {},
   "outputs": [],
   "source": [
    "# use dict comprehension to produce epfl_programs\n",
    "epfl_programs = {\n",
    "    level_name: {\n",
    "        program_name: list(program.keys())\n",
    "        for program_name, program in level.items()\n",
    "    }\n",
    "    for level_name, level in epfl.items()\n",
    "}\n",
    "\n",
    "write_processed_dict('epfl_programs', epfl_programs)"
   ]
  },
  {
   "cell_type": "code",
   "execution_count": 64,
   "metadata": {},
   "outputs": [
    {
     "data": {
      "text/plain": [
       "dict_keys(['Architecture', 'Chemistry and Chemical Engineering', 'Civil Engineering', 'Communication Systems', 'Computer Science', 'Design Together ENAC', 'Electrical and Electronics Engineering', 'Environmental Sciences and Engineering', 'Humanities and Social Sciences Program', 'Life Sciences Engineering', 'Materials Science and Engineering', 'Mathematics', 'Mechanical Engineering', 'Microengineering', 'Physics'])"
      ]
     },
     "execution_count": 64,
     "metadata": {},
     "output_type": "execute_result"
    }
   ],
   "source": [
    "epfl_programs['bachelor'].keys()"
   ]
  },
  {
   "cell_type": "code",
   "execution_count": 65,
   "metadata": {},
   "outputs": [
    {
     "data": {
      "text/plain": [
       "['MATH-203(a)',\n",
       " 'MATH-207(a)',\n",
       " 'PHYS-201(a)',\n",
       " 'PHYS-207(a)',\n",
       " 'MATH-251(c)',\n",
       " 'MATH-231',\n",
       " 'MATH-236',\n",
       " 'BIO-212',\n",
       " 'BIO-213',\n",
       " 'BIO-205']"
      ]
     },
     "execution_count": 65,
     "metadata": {},
     "output_type": "execute_result"
    }
   ],
   "source": [
    "epfl_programs['bachelor']['Life Sciences Engineering'][:10]"
   ]
  },
  {
   "cell_type": "markdown",
   "metadata": {},
   "source": [
    "***\n",
    "Now it's time to construct the adjacency list for the course links:"
   ]
  },
  {
   "cell_type": "code",
   "execution_count": 66,
   "metadata": {},
   "outputs": [
    {
     "data": {
      "text/html": [
       "<div>\n",
       "<style scoped>\n",
       "    .dataframe tbody tr th:only-of-type {\n",
       "        vertical-align: middle;\n",
       "    }\n",
       "\n",
       "    .dataframe tbody tr th {\n",
       "        vertical-align: top;\n",
       "    }\n",
       "\n",
       "    .dataframe thead th {\n",
       "        text-align: right;\n",
       "    }\n",
       "</style>\n",
       "<table border=\"1\" class=\"dataframe\">\n",
       "  <thead>\n",
       "    <tr style=\"text-align: right;\">\n",
       "      <th></th>\n",
       "      <th>required</th>\n",
       "      <th>recommended</th>\n",
       "      <th>concepts</th>\n",
       "      <th>prerequisite_for</th>\n",
       "    </tr>\n",
       "  </thead>\n",
       "  <tbody>\n",
       "    <tr>\n",
       "      <th>AR-101</th>\n",
       "      <td>()</td>\n",
       "      <td>()</td>\n",
       "      <td>()</td>\n",
       "      <td>()</td>\n",
       "    </tr>\n",
       "    <tr>\n",
       "      <th>AR-102</th>\n",
       "      <td>()</td>\n",
       "      <td>()</td>\n",
       "      <td>()</td>\n",
       "      <td>()</td>\n",
       "    </tr>\n",
       "    <tr>\n",
       "      <th>AR-113</th>\n",
       "      <td>(Aucun prérequis,)</td>\n",
       "      <td>()</td>\n",
       "      <td>()</td>\n",
       "      <td>()</td>\n",
       "    </tr>\n",
       "    <tr>\n",
       "      <th>AR-121</th>\n",
       "      <td>()</td>\n",
       "      <td>()</td>\n",
       "      <td>(Modernité architecturale, plasticité, structu...</td>\n",
       "      <td>()</td>\n",
       "    </tr>\n",
       "    <tr>\n",
       "      <th>AR-122</th>\n",
       "      <td>()</td>\n",
       "      <td>()</td>\n",
       "      <td>()</td>\n",
       "      <td>()</td>\n",
       "    </tr>\n",
       "    <tr>\n",
       "      <th>...</th>\n",
       "      <td>...</td>\n",
       "      <td>...</td>\n",
       "      <td>...</td>\n",
       "      <td>...</td>\n",
       "    </tr>\n",
       "    <tr>\n",
       "      <th>PHYS-808</th>\n",
       "      <td>()</td>\n",
       "      <td>()</td>\n",
       "      <td>()</td>\n",
       "      <td>()</td>\n",
       "    </tr>\n",
       "    <tr>\n",
       "      <th>PHYS-809</th>\n",
       "      <td>()</td>\n",
       "      <td>()</td>\n",
       "      <td>()</td>\n",
       "      <td>()</td>\n",
       "    </tr>\n",
       "    <tr>\n",
       "      <th>PHYS-810</th>\n",
       "      <td>()</td>\n",
       "      <td>()</td>\n",
       "      <td>()</td>\n",
       "      <td>()</td>\n",
       "    </tr>\n",
       "    <tr>\n",
       "      <th>PHYS-811</th>\n",
       "      <td>(Condensed matter physics, quantum physics,)</td>\n",
       "      <td>()</td>\n",
       "      <td>()</td>\n",
       "      <td>()</td>\n",
       "    </tr>\n",
       "    <tr>\n",
       "      <th>PHYS-812</th>\n",
       "      <td>()</td>\n",
       "      <td>()</td>\n",
       "      <td>()</td>\n",
       "      <td>()</td>\n",
       "    </tr>\n",
       "  </tbody>\n",
       "</table>\n",
       "<p>1886 rows × 4 columns</p>\n",
       "</div>"
      ],
      "text/plain": [
       "                                              required recommended  \\\n",
       "AR-101                                              ()          ()   \n",
       "AR-102                                              ()          ()   \n",
       "AR-113                              (Aucun prérequis,)          ()   \n",
       "AR-121                                              ()          ()   \n",
       "AR-122                                              ()          ()   \n",
       "...                                                ...         ...   \n",
       "PHYS-808                                            ()          ()   \n",
       "PHYS-809                                            ()          ()   \n",
       "PHYS-810                                            ()          ()   \n",
       "PHYS-811  (Condensed matter physics, quantum physics,)          ()   \n",
       "PHYS-812                                            ()          ()   \n",
       "\n",
       "                                                   concepts prerequisite_for  \n",
       "AR-101                                                   ()               ()  \n",
       "AR-102                                                   ()               ()  \n",
       "AR-113                                                   ()               ()  \n",
       "AR-121    (Modernité architecturale, plasticité, structu...               ()  \n",
       "AR-122                                                   ()               ()  \n",
       "...                                                     ...              ...  \n",
       "PHYS-808                                                 ()               ()  \n",
       "PHYS-809                                                 ()               ()  \n",
       "PHYS-810                                                 ()               ()  \n",
       "PHYS-811                                                 ()               ()  \n",
       "PHYS-812                                                 ()               ()  \n",
       "\n",
       "[1886 rows x 4 columns]"
      ]
     },
     "execution_count": 66,
     "metadata": {},
     "output_type": "execute_result"
    }
   ],
   "source": [
    "dependency_info_df"
   ]
  },
  {
   "cell_type": "code",
   "execution_count": 67,
   "metadata": {},
   "outputs": [],
   "source": [
    "# create a masterfile\n",
    "processed_programs = read_raw('epfl_programs', subdir='processed')\n",
    "processed_studyplans = read_raw('epfl_studyplans', subdir='processed')\n",
    "processed_courses = read_raw('epfl_courses', subdir='processed')\n",
    "processed_specs = read_raw('epfl_master_specs', subdir='processed')\n",
    "\n",
    "write_processed_dict('master', {\n",
    "    'programs': processed_programs,\n",
    "    'studyplans': processed_studyplans,\n",
    "    'courses': processed_courses,\n",
    "    'masterspecs': processed_specs\n",
    "})"
   ]
  }
 ],
 "metadata": {
  "kernelspec": {
   "display_name": "Python 3",
   "language": "python",
   "name": "python3"
  },
  "language_info": {
   "codemirror_mode": {
    "name": "ipython",
    "version": 3
   },
   "file_extension": ".py",
   "mimetype": "text/x-python",
   "name": "python",
   "nbconvert_exporter": "python",
   "pygments_lexer": "ipython3",
   "version": "3.7.3"
  }
 },
 "nbformat": 4,
 "nbformat_minor": 4
}
