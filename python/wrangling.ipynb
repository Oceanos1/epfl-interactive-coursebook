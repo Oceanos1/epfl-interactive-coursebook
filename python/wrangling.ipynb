{
 "cells": [
  {
   "cell_type": "code",
   "execution_count": 1,
   "metadata": {},
   "outputs": [],
   "source": [
    "import json\n",
    "import numpy as np\n",
    "import pandas as pd"
   ]
  },
  {
   "cell_type": "code",
   "execution_count": 2,
   "metadata": {},
   "outputs": [],
   "source": [
    "with open(\"../data/raw/epfl.json\") as file:\n",
    "    epfl = json.load(file)\n",
    "    \n",
    "with open(\"../data/raw/epfl_master_specs.json\") as file:\n",
    "    epfl_masterspecs = json.load(file)"
   ]
  },
  {
   "cell_type": "markdown",
   "metadata": {},
   "source": [
    "Snapshots from the json objects:"
   ]
  },
  {
   "cell_type": "code",
   "execution_count": 3,
   "metadata": {},
   "outputs": [
    {
     "data": {
      "text/plain": [
       "{'name': 'Systems for data science',\n",
       " 'section': 'IN',\n",
       " 'language': 'English',\n",
       " 'note': '',\n",
       " 'path': '/coursebook/en/systems-for-data-science-CS-449?cb_cycle=bama_cyclemaster&cb_section=sc_ds',\n",
       " 'semester': 'Spring',\n",
       " 'exam_form': 'During the semester',\n",
       " 'credits': '6',\n",
       " 'subject_examined': 'Systems for data science',\n",
       " 'lecture': '2 Hour(s) per week x 14 weeks',\n",
       " 'exercises': '2 Hour(s) per week x 14 weeks',\n",
       " 'project': '2 Hour(s) per week x 14 weeks',\n",
       " 'lecturers': [['Koch Christoph', 'http://people.epfl.ch/205917']],\n",
       " 'required': ['CS-322: Introduction to database systems'],\n",
       " 'recommended': ['CS-323: Introduction to operating systems',\n",
       "  'CS-206 Parallelism and concurrency'],\n",
       " 'concepts': ['Algorithms and data structures ¿ sorting algorithms, balanced trees, graph traversals.',\n",
       "  'The Scala programming language will be used throughout the course. Programming experience in this language is strongly recommended.',\n",
       "  'Basic knowledge or computer networking and distributed systems'],\n",
       " 'prereqisite_for': [],\n",
       " 'in_the_programs': [{'program': 'Data Science',\n",
       "   'semester': 'Master semester 2'},\n",
       "  {'program': 'Data Science', 'semester': 'Master semester 4'},\n",
       "  {'program': 'Computational science and Engineering',\n",
       "   'semester': 'Master semester 2'},\n",
       "  {'program': 'Computational science and Engineering',\n",
       "   'semester': 'Master semester 4'},\n",
       "  {'program': 'Data science minor', 'semester': 'Spring semester'}]}"
      ]
     },
     "execution_count": 3,
     "metadata": {},
     "output_type": "execute_result"
    }
   ],
   "source": [
    "epfl['master']['Data Science']['courses']['CS-449']"
   ]
  },
  {
   "cell_type": "code",
   "execution_count": 4,
   "metadata": {},
   "outputs": [
    {
     "data": {
      "text/plain": [
       "{'spec_key': {'b': 'Geotechnical Engineering',\n",
       "  'c': 'Transportation',\n",
       "  'd': 'Structural Engineering',\n",
       "  'e': 'Hydraulic Engineering and Energy'},\n",
       " 'courses': {'CIVIL-597': [],\n",
       "  'CIVIL-599': [],\n",
       "  'ENG-445': [],\n",
       "  'CIVIL-420': ['d'],\n",
       "  'CIVIL-457': ['c'],\n",
       "  'CIVIL-402': ['b'],\n",
       "  'CIVIL-412': ['e'],\n",
       "  'CIVIL-474': [],\n",
       "  'CIVIL-491': [],\n",
       "  'CIVIL-490': [],\n",
       "  'PENS-490': [],\n",
       "  'CIVIL-492': [],\n",
       "  'PENS-491': [],\n",
       "  'CIVIL-598': [],\n",
       "  'CIVIL-443': ['d'],\n",
       "  'CIVIL-422': ['b', 'd'],\n",
       "  'CIVIL-414': ['d'],\n",
       "  'CIVIL-435': ['d'],\n",
       "  'CIVIL-476': ['d'],\n",
       "  'ENV-508': [],\n",
       "  'AR-535': ['d'],\n",
       "  'CIVIL-423': ['b'],\n",
       "  'CIVIL-430': ['d'],\n",
       "  'CIVIL-525': ['d'],\n",
       "  'ENG-470': ['b', 'd', 'e'],\n",
       "  'ENG-471': ['b', 'd', 'e'],\n",
       "  'CIVIL-411': ['b', 'd', 'e'],\n",
       "  'CIVIL-557': ['c'],\n",
       "  'CIVIL-459': ['c'],\n",
       "  'ENG-466': [],\n",
       "  'CIVIL-444': ['b', 'd', 'e'],\n",
       "  'CIVIL-428': ['b'],\n",
       "  'CIVIL-436': ['b', 'd', 'e'],\n",
       "  'CIVIL-437': ['b', 'd', 'e'],\n",
       "  'CIVIL-515': ['e'],\n",
       "  'CIVIL-410': ['b', 'e'],\n",
       "  'CIVIL-403': ['b', 'e'],\n",
       "  'CIVIL-448': ['b'],\n",
       "  'ENG-474': ['b', 'e'],\n",
       "  'CIVIL-460': [],\n",
       "  'CIVIL-424': ['b', 'c', 'd', 'e'],\n",
       "  'CIVIL-442': ['e'],\n",
       "  'CIVIL-532': ['d'],\n",
       "  'CIVIL-447': ['c', 'e'],\n",
       "  'MGT-416': ['c'],\n",
       "  'CIVIL-449': ['d'],\n",
       "  'CIVIL-493': [],\n",
       "  'MATH-458': ['b'],\n",
       "  'MGT-427': ['c'],\n",
       "  'CIVIL-461': ['c'],\n",
       "  'CIVIL-438': ['b', 'd', 'e'],\n",
       "  'ENV-418': [],\n",
       "  'CIVIL-522': ['b', 'd', 'e'],\n",
       "  'CIVIL-527': ['b', 'd'],\n",
       "  'CIVIL-530': ['b'],\n",
       "  'CIVIL-526': ['d'],\n",
       "  'CIVIL-369': ['d'],\n",
       "  'CIVIL-434': ['d'],\n",
       "  'CIVIL-462': ['c'],\n",
       "  'CIVIL-450': ['e'],\n",
       "  'CIVIL-433': ['d'],\n",
       "  'CIVIL-451': ['b', 'c'],\n",
       "  'CIVIL-455': ['c'],\n",
       "  'CIVIL-463': ['b', 'c'],\n",
       "  'CIVIL-454': ['b', 'c'],\n",
       "  'CIVIL-404': ['b', 'e'],\n",
       "  'CIVIL-413': ['e'],\n",
       "  'CIVIL-441': ['e']}}"
      ]
     },
     "execution_count": 4,
     "metadata": {},
     "output_type": "execute_result"
    }
   ],
   "source": [
    "epfl_masterspecs['Civil Engineering']"
   ]
  },
  {
   "cell_type": "markdown",
   "metadata": {},
   "source": [
    "Let's start with noting that only 25 master's programs are currently offered at EPFL and only 13 bachelor programs. So, we have some outdated programs in our database. Let's remove them."
   ]
  },
  {
   "cell_type": "code",
   "execution_count": 5,
   "metadata": {},
   "outputs": [
    {
     "data": {
      "text/plain": [
       "{'propedeutics': 14,\n",
       " 'bachelor': 17,\n",
       " 'master': 29,\n",
       " 'minor': 20,\n",
       " 'doctoral_school': 22}"
      ]
     },
     "execution_count": 5,
     "metadata": {},
     "output_type": "execute_result"
    }
   ],
   "source": [
    "{level: len(programs) for level, programs in epfl.items()}"
   ]
  },
  {
   "cell_type": "code",
   "execution_count": 6,
   "metadata": {},
   "outputs": [],
   "source": [
    "# Only 13 bachelor programs are currently offered\n",
    "# + Humanities and Social Sciences Program\n",
    "# + Design Together ENAC\n",
    "# https://www.epfl.ch/education/bachelor/programs/\n",
    "bachelor_not_current = ['Chemistry', 'Chemical Engineering']\n",
    "\n",
    "# Only 25 master's programs are currently offered\n",
    "# + Humanities and Social Sciences Program\n",
    "# https://www.epfl.ch/education/master/programs/\n",
    "master_not_current = [\n",
    "    'Bioengineering',\n",
    "    'Life Sciences and Technologies - master program',\n",
    "    'Micro- and Nanotechnologies for Integrated Systems'\n",
    "]\n",
    "\n",
    "# The following minors are missing, among possibly others:\n",
    "#   Computational science and engineering\n",
    "#   Mechanical engineering\n",
    "# We do not take any action for now"
   ]
  },
  {
   "cell_type": "code",
   "execution_count": 7,
   "metadata": {},
   "outputs": [],
   "source": [
    "# remove programs not currently offered from the main json object\n",
    "for level_name in list(epfl.keys()):\n",
    "    for program_name in list(epfl[level_name].keys()):\n",
    "        if (\n",
    "            (level_name == 'bachelor' and program_name in bachelor_not_current) or \n",
    "            (level_name == 'master' and program_name in master_not_current)\n",
    "        ):\n",
    "            del epfl[level_name][program_name]\n",
    "            if level_name == 'master' and program_name in epfl_masterspecs:\n",
    "                # remove program from the list of programs with specializations\n",
    "                del epfl_masterspecs[program_name]"
   ]
  },
  {
   "cell_type": "markdown",
   "metadata": {},
   "source": [
    "Let's now analyze master's specializations (no specializations at other levels) and evaluate data accuracy. We compare the data source (studyplan pages) with the studyplan brochures. We have created a separate json object `epfl_master_specs` to store information about specializations."
   ]
  },
  {
   "cell_type": "code",
   "execution_count": 8,
   "metadata": {},
   "outputs": [],
   "source": [
    "\"\"\"\n",
    "The studyplan page sometimes differs greatly from the up-to-date studyplan brochure\n",
    "which might indicate that the studyplan page hasn't been updated.\n",
    "We skip these specializations for now (we would have to manually type them in):\n",
    "\n",
    "Architecture\n",
    "https://www.epfl.ch/education/master/wp-content/uploads/2018/08/ENAC_ARCHI_MA-1.pdf\n",
    "vs.\n",
    "https://edu.epfl.ch/studyplan/en/master/architecture\n",
    "\"\"\"\n",
    "specs_to_remove = ['Architecture']\n",
    "\n",
    "\"\"\"\n",
    "The specializations legend on studyplan pages is sometimes obsolete (hasn't been removed)\n",
    "We remove these programs from the list of specialization programs\n",
    "\n",
    "Materials Science and Engineering (only one specialization now)\n",
    "https://www.epfl.ch/education/master/wp-content/uploads/2018/08/STI_MX_MA-1.pdf\n",
    "vs.\n",
    "https://edu.epfl.ch/studyplan/en/master/materials-science-and-engineering\n",
    "\n",
    "Microengineering\n",
    "https://www.epfl.ch/education/master/wp-content/uploads/2018/08/STI_SMT_MA_RV-1.pdf\n",
    "vs.\n",
    "https://edu.epfl.ch/studyplan/en/master/microengineering\n",
    "\"\"\"\n",
    "specs_to_remove.extend(['Materials Science and Engineering', 'Microengineering'])\n",
    "\n",
    "\"\"\"\n",
    "The specializations legend on studyplan pages is sometimes obsolete, but the studyplan itself\n",
    "contains references to specializations that correctly correspond to the the studyplan brochure\n",
    "In this case, we update the legend manually and fix the data\n",
    "\n",
    "Electrical and Electronics Engineering\n",
    "https://www.epfl.ch/education/master/wp-content/uploads/2018/08/STI_EL_MA-1.pdf\n",
    "vs.\n",
    "https://edu.epfl.ch/studyplan/en/master/electrical-and-electronics-engineering\n",
    "\"\"\"\n",
    "electrical_electronics_eng_specs = {\n",
    "    \"a\": \"Microelectronics circuits and systems\",\n",
    "    \"b\": \"Electronic technologies and device-circuit interactions\",\n",
    "    \"c\": \"Bioelectronics\",\n",
    "    \"d\": \"Internet of Things (IoT)\",\n",
    "    \"e\": \"Data Science and Systems\",\n",
    "    \"f\": \"Signal, Image, Video and Communication\",\n",
    "    \"g\": \"Wireless and Photonics Circuits and Systems\",\n",
    "}"
   ]
  },
  {
   "cell_type": "markdown",
   "metadata": {},
   "source": [
    "We remove all programs in `specs_to_remove`:"
   ]
  },
  {
   "cell_type": "code",
   "execution_count": 9,
   "metadata": {},
   "outputs": [],
   "source": [
    "for program in specs_to_remove:\n",
    "    del epfl_masterspecs[program]"
   ]
  },
  {
   "cell_type": "markdown",
   "metadata": {},
   "source": [
    "... and fix \"Electrical and Electronics Engineering\" specializations key:"
   ]
  },
  {
   "cell_type": "code",
   "execution_count": 10,
   "metadata": {},
   "outputs": [],
   "source": [
    "epfl_masterspecs['Electrical and Electronics Engineering']['spec_key'] = electrical_electronics_eng_specs"
   ]
  },
  {
   "cell_type": "markdown",
   "metadata": {},
   "source": [
    "We observe that some courses have listed specializations not present in the `spec_key` for the given program. We remove these references:"
   ]
  },
  {
   "cell_type": "code",
   "execution_count": 11,
   "metadata": {},
   "outputs": [
    {
     "name": "stdout",
     "output_type": "stream",
     "text": [
      "Electrical and Electronics Engineering, spec key: ['a', 'b', 'c', 'd', 'e', 'f', 'g'], EE-588: ['h']\n",
      "Course spec changed from ['h'] to []\n",
      "Electrical and Electronics Engineering, spec key: ['a', 'b', 'c', 'd', 'e', 'f', 'g'], MATH-261: ['d', 'e', 'h']\n",
      "Course spec changed from ['d', 'e', 'h'] to ['d', 'e']\n",
      "Electrical and Electronics Engineering, spec key: ['a', 'b', 'c', 'd', 'e', 'f', 'g'], CS-423: ['d', 'f', 'h']\n",
      "Course spec changed from ['d', 'f', 'h'] to ['d', 'f']\n",
      "Electrical and Electronics Engineering, spec key: ['a', 'b', 'c', 'd', 'e', 'f', 'g'], EE-576: ['h']\n",
      "Course spec changed from ['h'] to []\n",
      "Electrical and Electronics Engineering, spec key: ['a', 'b', 'c', 'd', 'e', 'f', 'g'], ME-409: ['h']\n",
      "Course spec changed from ['h'] to []\n",
      "Electrical and Electronics Engineering, spec key: ['a', 'b', 'c', 'd', 'e', 'f', 'g'], EE-466: ['h']\n",
      "Course spec changed from ['h'] to []\n",
      "Electrical and Electronics Engineering, spec key: ['a', 'b', 'c', 'd', 'e', 'f', 'g'], MICRO-565: ['h']\n",
      "Course spec changed from ['h'] to []\n",
      "Electrical and Electronics Engineering, spec key: ['a', 'b', 'c', 'd', 'e', 'f', 'g'], EE-456: ['h']\n",
      "Course spec changed from ['h'] to []\n",
      "Electrical and Electronics Engineering, spec key: ['a', 'b', 'c', 'd', 'e', 'f', 'g'], CS-487: ['h']\n",
      "Course spec changed from ['h'] to []\n",
      "Electrical and Electronics Engineering, spec key: ['a', 'b', 'c', 'd', 'e', 'f', 'g'], EE-465: ['h']\n",
      "Course spec changed from ['h'] to []\n",
      "Electrical and Electronics Engineering, spec key: ['a', 'b', 'c', 'd', 'e', 'f', 'g'], EE-565: ['h']\n",
      "Course spec changed from ['h'] to []\n",
      "Electrical and Electronics Engineering, spec key: ['a', 'b', 'c', 'd', 'e', 'f', 'g'], ME-425: ['d', 'h']\n",
      "Course spec changed from ['d', 'h'] to ['d']\n",
      "Electrical and Electronics Engineering, spec key: ['a', 'b', 'c', 'd', 'e', 'f', 'g'], EE-477: ['h']\n",
      "Course spec changed from ['h'] to []\n",
      "Electrical and Electronics Engineering, spec key: ['a', 'b', 'c', 'd', 'e', 'f', 'g'], ME-427: ['d', 'h']\n",
      "Course spec changed from ['d', 'h'] to ['d']\n",
      "Electrical and Electronics Engineering, spec key: ['a', 'b', 'c', 'd', 'e', 'f', 'g'], MGT-483: ['d', 'h']\n",
      "Course spec changed from ['d', 'h'] to ['d']\n",
      "Electrical and Electronics Engineering, spec key: ['a', 'b', 'c', 'd', 'e', 'f', 'g'], EE-570: ['h']\n",
      "Course spec changed from ['h'] to []\n",
      "Electrical and Electronics Engineering, spec key: ['a', 'b', 'c', 'd', 'e', 'f', 'g'], EE-470: ['h']\n",
      "Course spec changed from ['h'] to []\n",
      "Electrical and Electronics Engineering, spec key: ['a', 'b', 'c', 'd', 'e', 'f', 'g'], EE-491: ['a', 'c', 'd', 'e', 'f', 'g', 'h']\n",
      "Course spec changed from ['a', 'c', 'd', 'e', 'f', 'g', 'h'] to ['a', 'c', 'd', 'e', 'f', 'g']\n",
      "Electrical and Electronics Engineering, spec key: ['a', 'b', 'c', 'd', 'e', 'f', 'g'], COM-407: ['h']\n",
      "Course spec changed from ['h'] to []\n",
      "Electrical and Electronics Engineering, spec key: ['a', 'b', 'c', 'd', 'e', 'f', 'g'], EE-575: ['f', 'h']\n",
      "Course spec changed from ['f', 'h'] to ['f']\n",
      "Electrical and Electronics Engineering, spec key: ['a', 'b', 'c', 'd', 'e', 'f', 'g'], EE-492(h): ['h']\n",
      "Course spec changed from ['h'] to []\n",
      "Management, Technology and Entrepreneurship, spec key: ['a', 'b', 'c'], MATH-413: ['c', 'd']\n",
      "Course spec changed from ['c', 'd'] to ['c']\n"
     ]
    }
   ],
   "source": [
    "for program_name, program_spec in epfl_masterspecs.items():\n",
    "    for code, course_spec in program_spec['courses'].items():\n",
    "        if (any(spec not in program_spec['spec_key'] for spec in course_spec)):\n",
    "            print(f\"{program_name}, spec key: {list(program_spec['spec_key'].keys())}, {code}: {course_spec}\")\n",
    "            \n",
    "            new_course_spec = [spec for spec in course_spec if spec in program_spec['spec_key']]\n",
    "            epfl_masterspecs[program_name]['courses'][code] = new_course_spec\n",
    "            \n",
    "            print(f\"Course spec changed from {course_spec} to {new_course_spec}\")"
   ]
  },
  {
   "cell_type": "markdown",
   "metadata": {},
   "source": [
    "Next, we add a `specs` dictionary to each program in `epfl_masterspecs` with keys and values switching roles compared to the `courses` property. This will make it easier to look up all courses with a given specialization."
   ]
  },
  {
   "cell_type": "code",
   "execution_count": 12,
   "metadata": {},
   "outputs": [
    {
     "data": {
      "text/plain": [
       "[('CS-595', []),\n",
       " ('CS-599', []),\n",
       " ('CS-450', ['b', 'c', 'd', 'e', 'i']),\n",
       " ('CS-470', ['a', 'd', 'g']),\n",
       " ('CS-442', ['f']),\n",
       " ('COM-401', ['d', 'e', 'g', 'j']),\n",
       " ('CS-422', ['b', 'c', 'g', 'j']),\n",
       " ('CS-438', ['g']),\n",
       " ('CS-451', ['c', 'g', 'i', 'j']),\n",
       " ('CS-452', ['c', 'g'])]"
      ]
     },
     "execution_count": 12,
     "metadata": {},
     "output_type": "execute_result"
    }
   ],
   "source": [
    "# courses property\n",
    "list(epfl_masterspecs['Computer Science']['courses'].items())[:10]"
   ]
  },
  {
   "cell_type": "code",
   "execution_count": 13,
   "metadata": {},
   "outputs": [],
   "source": [
    "for program_name, program_spec in epfl_masterspecs.items():\n",
    "    # initialize dictionary with empty list values\n",
    "    epfl_masterspecs[program_name]['specs'] = {k: [] for k in epfl_masterspecs[program_name]['spec_key']}\n",
    "    \n",
    "    for course_code, course_spec in program_spec['courses'].items():\n",
    "        # iterate over all specialization codes for each course, and add the course code to the specs dictionary\n",
    "        for k in course_spec:\n",
    "            epfl_masterspecs[program_name]['specs'][k].append(course_code)"
   ]
  },
  {
   "cell_type": "code",
   "execution_count": 14,
   "metadata": {},
   "outputs": [
    {
     "data": {
      "text/plain": [
       "['CS-470',\n",
       " 'COM-401',\n",
       " 'CS-422',\n",
       " 'CS-438',\n",
       " 'CS-451',\n",
       " 'CS-452',\n",
       " 'COM-407',\n",
       " 'CS-420',\n",
       " 'CS-471',\n",
       " 'CS-453',\n",
       " 'COM-405',\n",
       " 'COM-503',\n",
       " 'CS-522']"
      ]
     },
     "execution_count": 14,
     "metadata": {},
     "output_type": "execute_result"
    }
   ],
   "source": [
    "epfl_masterspecs['Computer Science']['specs']['g']"
   ]
  },
  {
   "cell_type": "markdown",
   "metadata": {},
   "source": [
    "Now, we have processed the specializations and can move on.\n",
    "\n",
    "Next step is to create two new json objects by transforming the `epfl` object. The goal will be to remove redundancies in the original object, since it has many courses occuring repeatedly, and not only enable easy access to programs, but also _individual courses_. The idea is to create one object `epfl_courses` with all course details and another object `epfl_programs` which will only includes course codes for each program."
   ]
  },
  {
   "cell_type": "code",
   "execution_count": 15,
   "metadata": {},
   "outputs": [],
   "source": [
    "epfl_courses = {}\n",
    "\n",
    "for level_name in list(epfl.keys()):\n",
    "    for program_name in list(epfl[level_name].keys()):\n",
    "        for course_name in list(epfl[level_name][program_name][\"courses\"].keys()):\n",
    "            epfl_courses[course_name] = epfl[level_name][program_name][\"courses\"][course_name]\n",
    "\n",
    "#storing the dict in a json file\n",
    "with open('../data/processed/epfl_courses.json', 'w') as json_file:\n",
    "    json.dump(epfl_courses, json_file, indent=4)"
   ]
  },
  {
   "cell_type": "code",
   "execution_count": 24,
   "metadata": {},
   "outputs": [
    {
     "data": {
      "text/plain": [
       "False"
      ]
     },
     "execution_count": 24,
     "metadata": {},
     "output_type": "execute_result"
    }
   ],
   "source": [
    "{'1': 1, '1': 2, '2': { '3': 3 }} == {'1': 1, '1': 2, '2': { '3': 3 }}"
   ]
  },
  {
   "cell_type": "markdown",
   "metadata": {},
   "source": [
    "TODO: check whether same courses in different sections ever have a different number of coefficients?"
   ]
  },
  {
   "cell_type": "markdown",
   "metadata": {},
   "source": [
    "should we add the url to the program description in epfl_programs too?"
   ]
  },
  {
   "cell_type": "code",
   "execution_count": 18,
   "metadata": {},
   "outputs": [],
   "source": [
    "epfl_programs = {}\n",
    "\n",
    "for level_name in list(epfl.keys()):\n",
    "    #initializing empty dicts for every eduacation level\n",
    "    epfl_programs[level_name] = {}\n",
    "    \n",
    "    for program_name in list(epfl[level_name].keys()):\n",
    "        courses = list(epfl[level_name][program_name][\"courses\"].keys())\n",
    "        \n",
    "        #adding the course list for a given program\n",
    "        epfl_programs[level_name].update({program_name : courses})\n",
    "\n",
    "#storing the dict in a json file\n",
    "with open('../data/processed/epfl_programs.json', 'w') as json_file:\n",
    "    json.dump(epfl_programs, json_file, indent=4)"
   ]
  },
  {
   "cell_type": "code",
   "execution_count": 20,
   "metadata": {},
   "outputs": [],
   "source": [
    "# epfl_programs"
   ]
  }
 ],
 "metadata": {
  "kernelspec": {
   "display_name": "Python 3",
   "language": "python",
   "name": "python3"
  },
  "language_info": {
   "codemirror_mode": {
    "name": "ipython",
    "version": 3
   },
   "file_extension": ".py",
   "mimetype": "text/x-python",
   "name": "python",
   "nbconvert_exporter": "python",
   "pygments_lexer": "ipython3",
   "version": "3.7.3"
  }
 },
 "nbformat": 4,
 "nbformat_minor": 4
}
