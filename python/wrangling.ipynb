{
 "cells": [
  {
   "cell_type": "code",
   "execution_count": null,
   "metadata": {},
   "outputs": [],
   "source": [
    "import json\n",
    "import numpy as np\n",
    "import pandas as pd"
   ]
  },
  {
   "cell_type": "code",
   "execution_count": null,
   "metadata": {},
   "outputs": [],
   "source": [
    "with open(\"../data/raw/epfl.json\") as file:\n",
    "    epfl = json.load(file)\n",
    "    \n",
    "with open(\"../data/raw/epfl_master_specs.json\") as file:\n",
    "    epfl_masterspecs = json.load(file)"
   ]
  },
  {
   "cell_type": "markdown",
   "metadata": {},
   "source": [
    "Snapshots from the json objects:"
   ]
  },
  {
   "cell_type": "code",
   "execution_count": null,
   "metadata": {},
   "outputs": [],
   "source": [
    "epfl['master']['Data Science']['COM-480']"
   ]
  },
  {
   "cell_type": "code",
   "execution_count": null,
   "metadata": {},
   "outputs": [],
   "source": [
    "epfl_masterspecs['Civil Engineering']"
   ]
  },
  {
   "cell_type": "markdown",
   "metadata": {},
   "source": [
    "Let's start with noting that only 25 master's programs are currently offered at EPFL and only 13 bachelor programs. So, we have some outdated programs in our database. Let's remove them."
   ]
  },
  {
   "cell_type": "code",
   "execution_count": null,
   "metadata": {},
   "outputs": [],
   "source": [
    "{level: len(programs) for level, programs in epfl.items()}"
   ]
  },
  {
   "cell_type": "code",
   "execution_count": null,
   "metadata": {},
   "outputs": [],
   "source": [
    "# Only 13 bachelor programs are currently offered\n",
    "# + Humanities and Social Sciences Program\n",
    "# + Design Together ENAC\n",
    "# https://www.epfl.ch/education/bachelor/programs/\n",
    "bachelor_not_current = ['Chemistry', 'Chemical Engineering']\n",
    "\n",
    "# Only 25 master's programs are currently offered\n",
    "# + Humanities and Social Sciences Program\n",
    "# https://www.epfl.ch/education/master/programs/\n",
    "master_not_current = [\n",
    "    'Bioengineering',\n",
    "    'Life Sciences and Technologies - master program',\n",
    "    'Micro- and Nanotechnologies for Integrated Systems'\n",
    "]\n",
    "\n",
    "# The following minors are missing, among possibly others:\n",
    "#   Computational science and engineering\n",
    "#   Mechanical engineering\n",
    "# We do not take any action for now"
   ]
  },
  {
   "cell_type": "code",
   "execution_count": null,
   "metadata": {},
   "outputs": [],
   "source": [
    "# remove programs not currently offered from the main json object\n",
    "for level_name in list(epfl.keys()):\n",
    "    for program_name in list(epfl[level_name].keys()):\n",
    "        if (\n",
    "            (level_name == 'bachelor' and program_name in bachelor_not_current) or \n",
    "            (level_name == 'master' and program_name in master_not_current)\n",
    "        ):\n",
    "            del epfl[level_name][program_name]\n",
    "            if level_name == 'master' and program_name in epfl_masterspecs:\n",
    "                # remove program from the list of programs with specializations\n",
    "                del epfl_masterspecs[program_name]"
   ]
  },
  {
   "cell_type": "markdown",
   "metadata": {},
   "source": [
    "Let's now analyze master's specializations (no specializations at other levels) and evaluate data accuracy. We compare the data source (studyplan pages) with the studyplan brochures. We have created a separate json object `epfl_master_specs` to store information about specializations."
   ]
  },
  {
   "cell_type": "code",
   "execution_count": null,
   "metadata": {},
   "outputs": [],
   "source": [
    "\"\"\"\n",
    "The studyplan page sometimes differs greatly from the up-to-date studyplan brochure\n",
    "which might indicate that the studyplan page hasn't been updated.\n",
    "We skip these specializations for now (we would have to manually type them in):\n",
    "\n",
    "Architecture\n",
    "https://www.epfl.ch/education/master/wp-content/uploads/2018/08/ENAC_ARCHI_MA-1.pdf\n",
    "vs.\n",
    "https://edu.epfl.ch/studyplan/en/master/architecture\n",
    "\"\"\"\n",
    "specs_to_remove = ['Architecture']\n",
    "\n",
    "\"\"\"\n",
    "The specializations legend on studyplan pages is sometimes obsolete (hasn't been removed)\n",
    "We remove these programs from the list of specialization programs\n",
    "\n",
    "Materials Science and Engineering (only one specialization now)\n",
    "https://www.epfl.ch/education/master/wp-content/uploads/2018/08/STI_MX_MA-1.pdf\n",
    "vs.\n",
    "https://edu.epfl.ch/studyplan/en/master/materials-science-and-engineering\n",
    "\n",
    "Microengineering\n",
    "https://www.epfl.ch/education/master/wp-content/uploads/2018/08/STI_SMT_MA_RV-1.pdf\n",
    "vs.\n",
    "https://edu.epfl.ch/studyplan/en/master/microengineering\n",
    "\"\"\"\n",
    "specs_to_remove.extend(['Materials Science and Engineering', 'Microengineering'])\n",
    "\n",
    "\"\"\"\n",
    "The specializations legend on studyplan pages is sometimes obsolete, but the studyplan itself\n",
    "contains references to specializations that correctly correspond to the the studyplan brochure\n",
    "In this case, we update the legend manually and fix the data\n",
    "\n",
    "Electrical and Electronics Engineering\n",
    "https://www.epfl.ch/education/master/wp-content/uploads/2018/08/STI_EL_MA-1.pdf\n",
    "vs.\n",
    "https://edu.epfl.ch/studyplan/en/master/electrical-and-electronics-engineering\n",
    "\"\"\"\n",
    "electrical_electronics_eng_specs = {\n",
    "    \"a\": \"Microelectronics circuits and systems\",\n",
    "    \"b\": \"Electronic technologies and device-circuit interactions\",\n",
    "    \"c\": \"Bioelectronics\",\n",
    "    \"d\": \"Internet of Things (IoT)\",\n",
    "    \"e\": \"Data Science and Systems\",\n",
    "    \"f\": \"Signal, Image, Video and Communication\",\n",
    "    \"g\": \"Wireless and Photonics Circuits and Systems\",\n",
    "}"
   ]
  },
  {
   "cell_type": "markdown",
   "metadata": {},
   "source": [
    "We remove all programs in `specs_to_remove`:"
   ]
  },
  {
   "cell_type": "code",
   "execution_count": null,
   "metadata": {},
   "outputs": [],
   "source": [
    "for program in specs_to_remove:\n",
    "    del epfl_masterspecs[program]"
   ]
  },
  {
   "cell_type": "markdown",
   "metadata": {},
   "source": [
    "... and fix \"Electrical and Electronics Engineering\" specializations key:"
   ]
  },
  {
   "cell_type": "code",
   "execution_count": null,
   "metadata": {},
   "outputs": [],
   "source": [
    "epfl_masterspecs['Electrical and Electronics Engineering']['spec_key'] = electrical_electronics_eng_specs"
   ]
  },
  {
   "cell_type": "markdown",
   "metadata": {},
   "source": [
    "We observe that some courses have listed specializations not present in the `spec_key` for the given program. We remove these references:"
   ]
  },
  {
   "cell_type": "code",
   "execution_count": null,
   "metadata": {},
   "outputs": [],
   "source": [
    "for program_name, program_spec in epfl_masterspecs.items():\n",
    "    for code, course_spec in program_spec['courses'].items():\n",
    "        if (any(spec not in program_spec['spec_key'] for spec in course_spec)):\n",
    "            print(f\"{program_name}, spec key: {list(program_spec['spec_key'].keys())}, {code}: {course_spec}\")\n",
    "            \n",
    "            new_course_spec = [spec for spec in course_spec if spec in program_spec['spec_key']]\n",
    "            epfl_masterspecs[program_name]['courses'][code] = new_course_spec\n",
    "            \n",
    "            print(f\"Course spec changed from {course_spec} to {new_course_spec}\")"
   ]
  },
  {
   "cell_type": "markdown",
   "metadata": {},
   "source": [
    "Next, we add a `specs` dictionary to each program in `epfl_masterspecs` with keys and values switching roles compared to the `courses` property. This will make it easier to look up all courses with a given specialization."
   ]
  },
  {
   "cell_type": "code",
   "execution_count": null,
   "metadata": {},
   "outputs": [],
   "source": [
    "# courses property\n",
    "list(epfl_masterspecs['Computer Science']['courses'].items())[:10]"
   ]
  },
  {
   "cell_type": "code",
   "execution_count": null,
   "metadata": {},
   "outputs": [],
   "source": [
    "for program_name, program_spec in epfl_masterspecs.items():\n",
    "    # initialize dictionary with empty list values\n",
    "    epfl_masterspecs[program_name]['specs'] = {k: [] for k in epfl_masterspecs[program_name]['spec_key']}\n",
    "    \n",
    "    for course_code, course_spec in program_spec['courses'].items():\n",
    "        # iterate over all specialization codes for each course, and add the course code to the specs dictionary\n",
    "        for k in course_spec:\n",
    "            epfl_masterspecs[program_name]['specs'][k].append(course_code)"
   ]
  },
  {
   "cell_type": "code",
   "execution_count": null,
   "metadata": {},
   "outputs": [],
   "source": [
    "{'g': epfl_masterspecs['Computer Science']['specs']['g']}"
   ]
  },
  {
   "cell_type": "markdown",
   "metadata": {},
   "source": [
    "Now, we have processed the specializations and can move on.\n",
    "\n",
    "Next step is to create two new json objects by transforming the `epfl` object. The goal will be to remove redundancies in the original object, since it has many courses occuring repeatedly, and not only enable easy access to programs, but also _individual courses_. The idea is to create one object `epfl_courses` with all course details and another object `epfl_programs` which will only include course codes for each program."
   ]
  },
  {
   "cell_type": "code",
   "execution_count": null,
   "metadata": {},
   "outputs": [],
   "source": [
    "epfl_courses = [\n",
    "    # for each program: ([code1, code2, ...], [course1, course2, ...])\n",
    "    ([*program.keys()], [*program.values()])\n",
    "    for level_name, level in epfl.items()\n",
    "    for program_name, program in level.items()\n",
    "]"
   ]
  },
  {
   "cell_type": "code",
   "execution_count": null,
   "metadata": {},
   "outputs": [],
   "source": [
    "# all courses: [[code1, code2, ...], [course1, course2, ...]]\n",
    "epfl_courses = list(\n",
    "    map(\n",
    "        lambda x: sum(x, []),\n",
    "        zip(*epfl_courses)\n",
    "    )\n",
    ")"
   ]
  },
  {
   "cell_type": "markdown",
   "metadata": {},
   "source": [
    "Let's analyze the list of courses for all programs. Let's use pandas to help us with that:"
   ]
  },
  {
   "cell_type": "code",
   "execution_count": null,
   "metadata": {},
   "outputs": [],
   "source": [
    "courses_df = pd.DataFrame(index=epfl_courses[0], data=epfl_courses[1])"
   ]
  },
  {
   "cell_type": "code",
   "execution_count": null,
   "metadata": {},
   "outputs": [],
   "source": [
    "courses_df.columns"
   ]
  },
  {
   "cell_type": "markdown",
   "metadata": {},
   "source": [
    "We observe there are a couple of fields we don't recognize, `coefficient` and `''`. Let's analyze those first."
   ]
  },
  {
   "cell_type": "code",
   "execution_count": null,
   "metadata": {},
   "outputs": [],
   "source": [
    "# the '' column has all values either as NaN or '', so we can safely delete the column\n",
    "courses_df[''].unique()"
   ]
  },
  {
   "cell_type": "code",
   "execution_count": null,
   "metadata": {},
   "outputs": [],
   "source": [
    "courses_df.drop('', axis=1, inplace=True)"
   ]
  },
  {
   "cell_type": "markdown",
   "metadata": {},
   "source": [
    "We observed that the _five_ rows having `''` field as the empty string are exactly the ones that don't have the number of credits listed, but we shall fix this soon (corresponding html element is empty)."
   ]
  },
  {
   "cell_type": "markdown",
   "metadata": {},
   "source": [
    "The `coefficient` column is an alias for `credits`"
   ]
  },
  {
   "cell_type": "code",
   "execution_count": null,
   "metadata": {},
   "outputs": [],
   "source": [
    "len(courses_df)"
   ]
  },
  {
   "cell_type": "code",
   "execution_count": null,
   "metadata": {},
   "outputs": [],
   "source": [
    "courses_df.coefficient.isna().sum()"
   ]
  },
  {
   "cell_type": "code",
   "execution_count": null,
   "metadata": {},
   "outputs": [],
   "source": [
    "courses_df.credits.isna().sum()"
   ]
  },
  {
   "cell_type": "code",
   "execution_count": null,
   "metadata": {},
   "outputs": [],
   "source": [
    "(courses_df.credits == courses_df.coefficient).any()"
   ]
  },
  {
   "cell_type": "markdown",
   "metadata": {},
   "source": [
    "No rows have both `credits` and `coefficient`, and there are 5 rows which have neither. Let's first merge the columns and then manually fill in the 5 gaps if possible"
   ]
  },
  {
   "cell_type": "code",
   "execution_count": null,
   "metadata": {},
   "outputs": [],
   "source": [
    "courses_df.credits.fillna(courses_df.coefficient, inplace=True)\n",
    "courses_df.drop('coefficient', axis=1, inplace=True)"
   ]
  },
  {
   "cell_type": "markdown",
   "metadata": {},
   "source": [
    "Let's now see the reason behind the 5 gaps:"
   ]
  },
  {
   "cell_type": "code",
   "execution_count": null,
   "metadata": {},
   "outputs": [],
   "source": [
    "courses_df[courses_df.credits.isna()].index"
   ]
  },
  {
   "cell_type": "markdown",
   "metadata": {},
   "source": [
    "* ENG-274 is without credits\n",
    "* CH-361 is an optional course, pointing to one of the advanced general chemistry courses\n",
    "* PENS-200 Ground control in Swiss law, credits are included in the ENAC week\n",
    "* PHYS-300(a) is also without credits"
   ]
  },
  {
   "cell_type": "markdown",
   "metadata": {},
   "source": [
    "We know that courses are repeated in the dataframe (row indices), but we need to check if the information is the same when course codes match. It is likely that they are the same, but we can't be sure because of the way the coursebooks were harvested (using program-specific query string parameters for fields in the right column of the page)."
   ]
  },
  {
   "cell_type": "code",
   "execution_count": null,
   "metadata": {},
   "outputs": [],
   "source": [
    "f\"{courses_df.index.nunique()} unique courses and {len(courses_df)} courses with duplicates\""
   ]
  },
  {
   "cell_type": "markdown",
   "metadata": {},
   "source": [
    "Let's see if we have a unique row count of 1 for each course code:"
   ]
  },
  {
   "cell_type": "code",
   "execution_count": null,
   "metadata": {},
   "outputs": [],
   "source": [
    "# Convert list columns to tuple to avoid this error when calling nunique():\n",
    "# TypeError: unhashable type: 'list'\n",
    "list_columns = ['lecturers', 'required', 'recommended', 'concepts', 'prerequisite_for', 'in_the_programs']"
   ]
  },
  {
   "cell_type": "code",
   "execution_count": null,
   "metadata": {},
   "outputs": [],
   "source": [
    "courses_df[list_columns] = courses_df[list_columns].applymap(tuple)\n",
    "# lecturers and in_the_programs field is a list of lists\n",
    "courses_df['lecturers'] = courses_df.lecturers.apply(lambda x: tuple(map(tuple, x)))\n",
    "courses_df['in_the_programs'] = courses_df.in_the_programs.apply(lambda x: tuple(map(tuple, x)))"
   ]
  },
  {
   "cell_type": "code",
   "execution_count": null,
   "metadata": {},
   "outputs": [],
   "source": [
    "# path is always different \n",
    "group = courses_df.drop('path', axis=1).groupby(courses_df.index)"
   ]
  },
  {
   "cell_type": "code",
   "execution_count": null,
   "metadata": {},
   "outputs": [],
   "source": [
    "group.nunique().loc[(group.nunique() > 1).any(axis=1)]"
   ]
  },
  {
   "cell_type": "markdown",
   "metadata": {},
   "source": [
    "There are very few exceptions that will require manual overview, and we will handle them later. Let's just get right into creating the processed `epfl_courses` dictionary and save it to a json file."
   ]
  },
  {
   "cell_type": "code",
   "execution_count": null,
   "metadata": {},
   "outputs": [],
   "source": [
    "courses_unique_df = courses_df.loc[~courses_df.index.duplicated()]"
   ]
  },
  {
   "cell_type": "code",
   "execution_count": null,
   "metadata": {},
   "outputs": [],
   "source": [
    "len(courses_unique_df)"
   ]
  },
  {
   "cell_type": "code",
   "execution_count": null,
   "metadata": {},
   "outputs": [],
   "source": [
    "epfl_courses = courses_unique_df.to_dict(orient='index')"
   ]
  },
  {
   "cell_type": "code",
   "execution_count": null,
   "metadata": {},
   "outputs": [],
   "source": [
    "epfl_courses[\"AR-126\"]"
   ]
  },
  {
   "cell_type": "code",
   "execution_count": null,
   "metadata": {},
   "outputs": [],
   "source": [
    "# storing the dict in a json file\n",
    "with open('../data/processed/epfl_courses.json', 'w') as json_file:\n",
    "    json.dump(epfl_courses, json_file, indent=4)"
   ]
  },
  {
   "cell_type": "markdown",
   "metadata": {},
   "source": [
    "Create `epfl_programs`"
   ]
  },
  {
   "cell_type": "code",
   "execution_count": null,
   "metadata": {},
   "outputs": [],
   "source": [
    "# use dict comprehension to produce epfl_programs\n",
    "epfl_programs = {\n",
    "    level_name: {\n",
    "        program_name: list(program.keys())\n",
    "        for program_name, program in level.items()\n",
    "    }\n",
    "    for level_name, level in epfl.items()\n",
    "}\n",
    "\n",
    "#storing the dict in a json file\n",
    "with open('../data/processed/epfl_programs.json', 'w') as json_file:\n",
    "    json.dump(epfl_programs, json_file, indent=4)"
   ]
  },
  {
   "cell_type": "code",
   "execution_count": null,
   "metadata": {},
   "outputs": [],
   "source": [
    "epfl_programs['bachelor'].keys()"
   ]
  },
  {
   "cell_type": "code",
   "execution_count": null,
   "metadata": {},
   "outputs": [],
   "source": [
    "epfl_programs['bachelor']['Life Sciences Engineering'][:10]"
   ]
  },
  {
   "cell_type": "markdown",
   "metadata": {},
   "source": [
    "Next step (goal for next milestone) is to process the registration data and integrate it with `epfl_courses`"
   ]
  },
  {
   "cell_type": "code",
   "execution_count": null,
   "metadata": {},
   "outputs": [],
   "source": [
    "import json\n",
    "with open(\"../data/raw/isa-registrations.json\") as file:\n",
    "    isa = json.load(file)"
   ]
  },
  {
   "cell_type": "code",
   "execution_count": null,
   "metadata": {},
   "outputs": [],
   "source": [
    "isa['Data visualization']"
   ]
  }
 ],
 "metadata": {
  "kernelspec": {
   "display_name": "Python 3",
   "language": "python",
   "name": "python3"
  },
  "language_info": {
   "codemirror_mode": {
    "name": "ipython",
    "version": 3
   },
   "file_extension": ".py",
   "mimetype": "text/x-python",
   "name": "python",
   "nbconvert_exporter": "python",
   "pygments_lexer": "ipython3",
   "version": "3.7.7"
  }
 },
 "nbformat": 4,
 "nbformat_minor": 4
}
