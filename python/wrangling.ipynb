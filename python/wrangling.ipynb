{
 "cells": [
  {
   "cell_type": "code",
   "execution_count": 1,
   "metadata": {},
   "outputs": [],
   "source": [
    "import json\n",
    "import numpy as np\n",
    "import pandas as pd"
   ]
  },
  {
   "cell_type": "code",
   "execution_count": 2,
   "metadata": {},
   "outputs": [],
   "source": [
    "with open(\"../data/raw/epfl.json\") as file:\n",
    "    epfl = json.load(file)\n",
    "    \n",
    "with open(\"../data/raw/epfl_master_specs.json\") as file:\n",
    "    epfl_masterspecs = json.load(file)"
   ]
  },
  {
   "cell_type": "markdown",
   "metadata": {},
   "source": [
    "Snapshots from the json objects:"
   ]
  },
  {
   "cell_type": "code",
   "execution_count": 3,
   "metadata": {},
   "outputs": [
    {
     "data": {
      "text/plain": [
       "{'name': 'Data visualization',\n",
       " 'section': 'SC',\n",
       " 'language': 'English',\n",
       " 'note': '',\n",
       " 'path': '/coursebook/en/data-visualization-COM-480?cb_cycle=bama_cyclemaster&cb_section=sc_ds',\n",
       " 'semester': 'Spring',\n",
       " 'exam_form': 'During the semester',\n",
       " 'credits': '4',\n",
       " 'subject_examined': 'Data visualization',\n",
       " 'lecture': '2 Hour(s) per week x 14 weeks',\n",
       " 'project': '2 Hour(s) per week x 14 weeks',\n",
       " 'lecturers': [['Vuillon Laurent Gilles Marie',\n",
       "   'http://people.epfl.ch/319954']],\n",
       " 'required': ['CS-305 Software engineering (BA)',\n",
       "  'CS-250 Algorithms (BA)',\n",
       "  'CS-401 Applied data analysis (MA)'],\n",
       " 'recommended': ['EE-558 A Network Tour of Data Science (MA)',\n",
       "  'CS-486 Human computer interaction (MA)',\n",
       "  'CS-210 Functional programming (BA)'],\n",
       " 'concepts': [\"Being autonomous is a prerequisite, we don't offer office hours and we won't have enough teaching assistants (you've been warned!).\",\n",
       "  'Knowledge of one of the following progrmaming language such as C++, Python, Scala.',\n",
       "  'Familiarity with web-development (you already have a blog, host a webiste). Experience with HTML5, Javascript is a strong plus for the course.'],\n",
       " 'in_the_programs': [['Communication Systems - master program',\n",
       "   'Master semester 2'],\n",
       "  ['Communication Systems - master program', 'Master semester 4'],\n",
       "  ['Computer Science - Cybersecurity', 'Master semester 2'],\n",
       "  ['Computer Science - Cybersecurity', 'Master semester 4'],\n",
       "  ['Computer Science', 'Master semester 2'],\n",
       "  ['Computer Science', 'Master semester 4'],\n",
       "  ['Data Science', 'Master semester 2'],\n",
       "  ['Data Science', 'Master semester 4'],\n",
       "  ['Digital Humanities', 'Master semester 2'],\n",
       "  ['Digital Humanities', 'Master semester 4'],\n",
       "  ['Electrical and Electronics Engineering', 'Master semester 2'],\n",
       "  ['Electrical and Electronics Engineering', 'Master semester 4'],\n",
       "  ['Data science minor', 'Spring semester'],\n",
       "  ['Electrical Engineering (edoc)', '']],\n",
       " 'prerequisite_for': []}"
      ]
     },
     "execution_count": 3,
     "metadata": {},
     "output_type": "execute_result"
    }
   ],
   "source": [
    "epfl['master']['Data Science']['COM-480']"
   ]
  },
  {
   "cell_type": "code",
   "execution_count": 4,
   "metadata": {},
   "outputs": [
    {
     "data": {
      "text/plain": [
       "{'spec_key': {'b': 'Geotechnical Engineering',\n",
       "  'c': 'Transportation',\n",
       "  'd': 'Structural Engineering',\n",
       "  'e': 'Hydraulic Engineering and Energy'},\n",
       " 'courses': {'CIVIL-597': [],\n",
       "  'CIVIL-599': [],\n",
       "  'ENG-445': [],\n",
       "  'CIVIL-420': ['d'],\n",
       "  'CIVIL-457': ['c'],\n",
       "  'CIVIL-402': ['b'],\n",
       "  'CIVIL-412': ['e'],\n",
       "  'CIVIL-474': [],\n",
       "  'CIVIL-491': [],\n",
       "  'CIVIL-490': [],\n",
       "  'PENS-490': [],\n",
       "  'CIVIL-492': [],\n",
       "  'PENS-491': [],\n",
       "  'CIVIL-598': [],\n",
       "  'CIVIL-443': ['d'],\n",
       "  'CIVIL-422': ['b', 'd'],\n",
       "  'CIVIL-414': ['d'],\n",
       "  'CIVIL-435': ['d'],\n",
       "  'CIVIL-476': ['d'],\n",
       "  'ENV-508': [],\n",
       "  'AR-535': ['d'],\n",
       "  'CIVIL-423': ['b'],\n",
       "  'CIVIL-430': ['d'],\n",
       "  'CIVIL-525': ['d'],\n",
       "  'ENG-470': ['b', 'd', 'e'],\n",
       "  'ENG-471': ['b', 'd', 'e'],\n",
       "  'CIVIL-411': ['b', 'd', 'e'],\n",
       "  'CIVIL-557': ['c'],\n",
       "  'CIVIL-459': ['c'],\n",
       "  'ENG-466': [],\n",
       "  'CIVIL-444': ['b', 'd', 'e'],\n",
       "  'CIVIL-428': ['b'],\n",
       "  'CIVIL-436': ['b', 'd', 'e'],\n",
       "  'CIVIL-437': ['b', 'd', 'e'],\n",
       "  'CIVIL-515': ['e'],\n",
       "  'CIVIL-410': ['b', 'e'],\n",
       "  'CIVIL-403': ['b', 'e'],\n",
       "  'CIVIL-448': ['b'],\n",
       "  'ENG-474': ['b', 'e'],\n",
       "  'CIVIL-460': [],\n",
       "  'CIVIL-424': ['b', 'c', 'd', 'e'],\n",
       "  'CIVIL-442': ['e'],\n",
       "  'CIVIL-532': ['d'],\n",
       "  'CIVIL-447': ['c', 'e'],\n",
       "  'MGT-416': ['c'],\n",
       "  'CIVIL-449': ['d'],\n",
       "  'CIVIL-493': [],\n",
       "  'MATH-458': ['b'],\n",
       "  'MGT-427': ['c'],\n",
       "  'CIVIL-461': ['c'],\n",
       "  'CIVIL-438': ['b', 'd', 'e'],\n",
       "  'ENV-418': [],\n",
       "  'CIVIL-522': ['b', 'd', 'e'],\n",
       "  'CIVIL-527': ['b', 'd'],\n",
       "  'CIVIL-530': ['b'],\n",
       "  'CIVIL-526': ['d'],\n",
       "  'CIVIL-369': ['d'],\n",
       "  'CIVIL-434': ['d'],\n",
       "  'CIVIL-462': ['c'],\n",
       "  'CIVIL-450': ['e'],\n",
       "  'CIVIL-433': ['d'],\n",
       "  'CIVIL-451': ['b', 'c'],\n",
       "  'CIVIL-455': ['c'],\n",
       "  'CIVIL-463': ['b', 'c'],\n",
       "  'CIVIL-454': ['b', 'c'],\n",
       "  'CIVIL-404': ['b', 'e'],\n",
       "  'CIVIL-413': ['e'],\n",
       "  'CIVIL-441': ['e']}}"
      ]
     },
     "execution_count": 4,
     "metadata": {},
     "output_type": "execute_result"
    }
   ],
   "source": [
    "epfl_masterspecs['Civil Engineering']"
   ]
  },
  {
   "cell_type": "markdown",
   "metadata": {},
   "source": [
    "Let's start with noting that only 25 master's programs are currently offered at EPFL and only 13 bachelor programs. So, we have some outdated programs in our database. Let's remove them."
   ]
  },
  {
   "cell_type": "code",
   "execution_count": 5,
   "metadata": {},
   "outputs": [
    {
     "data": {
      "text/plain": [
       "{'propedeutics': 14,\n",
       " 'bachelor': 17,\n",
       " 'master': 29,\n",
       " 'minor': 20,\n",
       " 'doctoral_school': 22}"
      ]
     },
     "execution_count": 5,
     "metadata": {},
     "output_type": "execute_result"
    }
   ],
   "source": [
    "{level: len(programs) for level, programs in epfl.items()}"
   ]
  },
  {
   "cell_type": "code",
   "execution_count": 6,
   "metadata": {},
   "outputs": [],
   "source": [
    "# Only 13 bachelor programs are currently offered\n",
    "# + Humanities and Social Sciences Program\n",
    "# + Design Together ENAC\n",
    "# https://www.epfl.ch/education/bachelor/programs/\n",
    "bachelor_not_current = ['Chemistry', 'Chemical Engineering']\n",
    "\n",
    "# Only 25 master's programs are currently offered\n",
    "# + Humanities and Social Sciences Program\n",
    "# https://www.epfl.ch/education/master/programs/\n",
    "master_not_current = [\n",
    "    'Bioengineering',\n",
    "    'Life Sciences and Technologies - master program',\n",
    "    'Micro- and Nanotechnologies for Integrated Systems'\n",
    "]\n",
    "\n",
    "# The following minors are missing, among possibly others:\n",
    "#   Computational science and engineering\n",
    "#   Mechanical engineering\n",
    "# We do not take any action for now"
   ]
  },
  {
   "cell_type": "code",
   "execution_count": 7,
   "metadata": {},
   "outputs": [],
   "source": [
    "# remove programs not currently offered from the main json object\n",
    "for level_name in list(epfl.keys()):\n",
    "    for program_name in list(epfl[level_name].keys()):\n",
    "        if (\n",
    "            (level_name == 'bachelor' and program_name in bachelor_not_current) or \n",
    "            (level_name == 'master' and program_name in master_not_current)\n",
    "        ):\n",
    "            del epfl[level_name][program_name]\n",
    "            if level_name == 'master' and program_name in epfl_masterspecs:\n",
    "                # remove program from the list of programs with specializations\n",
    "                del epfl_masterspecs[program_name]"
   ]
  },
  {
   "cell_type": "markdown",
   "metadata": {},
   "source": [
    "Let's now analyze master's specializations (no specializations at other levels) and evaluate data accuracy. We compare the data source (studyplan pages) with the studyplan brochures. We have created a separate json object `epfl_master_specs` to store information about specializations."
   ]
  },
  {
   "cell_type": "code",
   "execution_count": 8,
   "metadata": {},
   "outputs": [],
   "source": [
    "\"\"\"\n",
    "The studyplan page sometimes differs greatly from the up-to-date studyplan brochure\n",
    "which might indicate that the studyplan page hasn't been updated.\n",
    "We skip these specializations for now (we would have to manually type them in):\n",
    "\n",
    "Architecture\n",
    "https://www.epfl.ch/education/master/wp-content/uploads/2018/08/ENAC_ARCHI_MA-1.pdf\n",
    "vs.\n",
    "https://edu.epfl.ch/studyplan/en/master/architecture\n",
    "\"\"\"\n",
    "specs_to_remove = ['Architecture']\n",
    "\n",
    "\"\"\"\n",
    "The specializations legend on studyplan pages is sometimes obsolete (hasn't been removed)\n",
    "We remove these programs from the list of specialization programs\n",
    "\n",
    "Materials Science and Engineering (only one specialization now)\n",
    "https://www.epfl.ch/education/master/wp-content/uploads/2018/08/STI_MX_MA-1.pdf\n",
    "vs.\n",
    "https://edu.epfl.ch/studyplan/en/master/materials-science-and-engineering\n",
    "\n",
    "Microengineering\n",
    "https://www.epfl.ch/education/master/wp-content/uploads/2018/08/STI_SMT_MA_RV-1.pdf\n",
    "vs.\n",
    "https://edu.epfl.ch/studyplan/en/master/microengineering\n",
    "\"\"\"\n",
    "specs_to_remove.extend(['Materials Science and Engineering', 'Microengineering'])\n",
    "\n",
    "\"\"\"\n",
    "The specializations legend on studyplan pages is sometimes obsolete, but the studyplan itself\n",
    "contains references to specializations that correctly correspond to the the studyplan brochure\n",
    "In this case, we update the legend manually and fix the data\n",
    "\n",
    "Electrical and Electronics Engineering\n",
    "https://www.epfl.ch/education/master/wp-content/uploads/2018/08/STI_EL_MA-1.pdf\n",
    "vs.\n",
    "https://edu.epfl.ch/studyplan/en/master/electrical-and-electronics-engineering\n",
    "\"\"\"\n",
    "electrical_electronics_eng_specs = {\n",
    "    \"a\": \"Microelectronics circuits and systems\",\n",
    "    \"b\": \"Electronic technologies and device-circuit interactions\",\n",
    "    \"c\": \"Bioelectronics\",\n",
    "    \"d\": \"Internet of Things (IoT)\",\n",
    "    \"e\": \"Data Science and Systems\",\n",
    "    \"f\": \"Signal, Image, Video and Communication\",\n",
    "    \"g\": \"Wireless and Photonics Circuits and Systems\",\n",
    "}"
   ]
  },
  {
   "cell_type": "markdown",
   "metadata": {},
   "source": [
    "We remove all programs in `specs_to_remove`:"
   ]
  },
  {
   "cell_type": "code",
   "execution_count": 9,
   "metadata": {},
   "outputs": [],
   "source": [
    "for program in specs_to_remove:\n",
    "    del epfl_masterspecs[program]"
   ]
  },
  {
   "cell_type": "markdown",
   "metadata": {},
   "source": [
    "... and fix \"Electrical and Electronics Engineering\" specializations key:"
   ]
  },
  {
   "cell_type": "code",
   "execution_count": 10,
   "metadata": {},
   "outputs": [],
   "source": [
    "epfl_masterspecs['Electrical and Electronics Engineering']['spec_key'] = electrical_electronics_eng_specs"
   ]
  },
  {
   "cell_type": "markdown",
   "metadata": {},
   "source": [
    "We observe that some courses have listed specializations not present in the `spec_key` for the given program. We remove these references:"
   ]
  },
  {
   "cell_type": "code",
   "execution_count": 11,
   "metadata": {},
   "outputs": [
    {
     "name": "stdout",
     "output_type": "stream",
     "text": [
      "Electrical and Electronics Engineering, spec key: ['a', 'b', 'c', 'd', 'e', 'f', 'g'], EE-588: ['h']\n",
      "Course spec changed from ['h'] to []\n",
      "Electrical and Electronics Engineering, spec key: ['a', 'b', 'c', 'd', 'e', 'f', 'g'], MATH-261: ['d', 'e', 'h']\n",
      "Course spec changed from ['d', 'e', 'h'] to ['d', 'e']\n",
      "Electrical and Electronics Engineering, spec key: ['a', 'b', 'c', 'd', 'e', 'f', 'g'], CS-423: ['d', 'f', 'h']\n",
      "Course spec changed from ['d', 'f', 'h'] to ['d', 'f']\n",
      "Electrical and Electronics Engineering, spec key: ['a', 'b', 'c', 'd', 'e', 'f', 'g'], EE-576: ['h']\n",
      "Course spec changed from ['h'] to []\n",
      "Electrical and Electronics Engineering, spec key: ['a', 'b', 'c', 'd', 'e', 'f', 'g'], ME-409: ['h']\n",
      "Course spec changed from ['h'] to []\n",
      "Electrical and Electronics Engineering, spec key: ['a', 'b', 'c', 'd', 'e', 'f', 'g'], EE-466: ['h']\n",
      "Course spec changed from ['h'] to []\n",
      "Electrical and Electronics Engineering, spec key: ['a', 'b', 'c', 'd', 'e', 'f', 'g'], MICRO-565: ['h']\n",
      "Course spec changed from ['h'] to []\n",
      "Electrical and Electronics Engineering, spec key: ['a', 'b', 'c', 'd', 'e', 'f', 'g'], EE-456: ['h']\n",
      "Course spec changed from ['h'] to []\n",
      "Electrical and Electronics Engineering, spec key: ['a', 'b', 'c', 'd', 'e', 'f', 'g'], CS-487: ['h']\n",
      "Course spec changed from ['h'] to []\n",
      "Electrical and Electronics Engineering, spec key: ['a', 'b', 'c', 'd', 'e', 'f', 'g'], EE-465: ['h']\n",
      "Course spec changed from ['h'] to []\n",
      "Electrical and Electronics Engineering, spec key: ['a', 'b', 'c', 'd', 'e', 'f', 'g'], EE-565: ['h']\n",
      "Course spec changed from ['h'] to []\n",
      "Electrical and Electronics Engineering, spec key: ['a', 'b', 'c', 'd', 'e', 'f', 'g'], ME-425: ['d', 'h']\n",
      "Course spec changed from ['d', 'h'] to ['d']\n",
      "Electrical and Electronics Engineering, spec key: ['a', 'b', 'c', 'd', 'e', 'f', 'g'], EE-477: ['h']\n",
      "Course spec changed from ['h'] to []\n",
      "Electrical and Electronics Engineering, spec key: ['a', 'b', 'c', 'd', 'e', 'f', 'g'], ME-427: ['d', 'h']\n",
      "Course spec changed from ['d', 'h'] to ['d']\n",
      "Electrical and Electronics Engineering, spec key: ['a', 'b', 'c', 'd', 'e', 'f', 'g'], MGT-483: ['d', 'h']\n",
      "Course spec changed from ['d', 'h'] to ['d']\n",
      "Electrical and Electronics Engineering, spec key: ['a', 'b', 'c', 'd', 'e', 'f', 'g'], EE-570: ['h']\n",
      "Course spec changed from ['h'] to []\n",
      "Electrical and Electronics Engineering, spec key: ['a', 'b', 'c', 'd', 'e', 'f', 'g'], EE-470: ['h']\n",
      "Course spec changed from ['h'] to []\n",
      "Electrical and Electronics Engineering, spec key: ['a', 'b', 'c', 'd', 'e', 'f', 'g'], EE-491: ['a', 'c', 'd', 'e', 'f', 'g', 'h']\n",
      "Course spec changed from ['a', 'c', 'd', 'e', 'f', 'g', 'h'] to ['a', 'c', 'd', 'e', 'f', 'g']\n",
      "Electrical and Electronics Engineering, spec key: ['a', 'b', 'c', 'd', 'e', 'f', 'g'], COM-407: ['h']\n",
      "Course spec changed from ['h'] to []\n",
      "Electrical and Electronics Engineering, spec key: ['a', 'b', 'c', 'd', 'e', 'f', 'g'], EE-575: ['f', 'h']\n",
      "Course spec changed from ['f', 'h'] to ['f']\n",
      "Electrical and Electronics Engineering, spec key: ['a', 'b', 'c', 'd', 'e', 'f', 'g'], EE-492(h): ['h']\n",
      "Course spec changed from ['h'] to []\n",
      "Management, Technology and Entrepreneurship, spec key: ['a', 'b', 'c'], MATH-413: ['c', 'd']\n",
      "Course spec changed from ['c', 'd'] to ['c']\n"
     ]
    }
   ],
   "source": [
    "for program_name, program_spec in epfl_masterspecs.items():\n",
    "    for code, course_spec in program_spec['courses'].items():\n",
    "        if (any(spec not in program_spec['spec_key'] for spec in course_spec)):\n",
    "            print(f\"{program_name}, spec key: {list(program_spec['spec_key'].keys())}, {code}: {course_spec}\")\n",
    "            \n",
    "            new_course_spec = [spec for spec in course_spec if spec in program_spec['spec_key']]\n",
    "            epfl_masterspecs[program_name]['courses'][code] = new_course_spec\n",
    "            \n",
    "            print(f\"Course spec changed from {course_spec} to {new_course_spec}\")"
   ]
  },
  {
   "cell_type": "markdown",
   "metadata": {},
   "source": [
    "Next, we add a `specs` dictionary to each program in `epfl_masterspecs` with keys and values switching roles compared to the `courses` property. This will make it easier to look up all courses with a given specialization."
   ]
  },
  {
   "cell_type": "code",
   "execution_count": 12,
   "metadata": {},
   "outputs": [
    {
     "data": {
      "text/plain": [
       "[('CS-595', []),\n",
       " ('CS-599', []),\n",
       " ('CS-450', ['b', 'c', 'd', 'e', 'i']),\n",
       " ('CS-470', ['a', 'd', 'g']),\n",
       " ('CS-442', ['f']),\n",
       " ('COM-401', ['d', 'e', 'g', 'j']),\n",
       " ('CS-422', ['b', 'c', 'g', 'j']),\n",
       " ('CS-438', ['g']),\n",
       " ('CS-451', ['c', 'g', 'i', 'j']),\n",
       " ('CS-452', ['c', 'g'])]"
      ]
     },
     "execution_count": 12,
     "metadata": {},
     "output_type": "execute_result"
    }
   ],
   "source": [
    "# courses property\n",
    "list(epfl_masterspecs['Computer Science']['courses'].items())[:10]"
   ]
  },
  {
   "cell_type": "code",
   "execution_count": 13,
   "metadata": {},
   "outputs": [],
   "source": [
    "for program_name, program_spec in epfl_masterspecs.items():\n",
    "    # initialize dictionary with empty list values\n",
    "    epfl_masterspecs[program_name]['specs'] = {k: [] for k in epfl_masterspecs[program_name]['spec_key']}\n",
    "    \n",
    "    for course_code, course_spec in program_spec['courses'].items():\n",
    "        # iterate over all specialization codes for each course, and add the course code to the specs dictionary\n",
    "        for k in course_spec:\n",
    "            epfl_masterspecs[program_name]['specs'][k].append(course_code)"
   ]
  },
  {
   "cell_type": "code",
   "execution_count": 14,
   "metadata": {},
   "outputs": [
    {
     "data": {
      "text/plain": [
       "{'g': ['CS-470',\n",
       "  'COM-401',\n",
       "  'CS-422',\n",
       "  'CS-438',\n",
       "  'CS-451',\n",
       "  'CS-452',\n",
       "  'COM-407',\n",
       "  'CS-420',\n",
       "  'CS-471',\n",
       "  'CS-453',\n",
       "  'COM-405',\n",
       "  'COM-503',\n",
       "  'CS-522']}"
      ]
     },
     "execution_count": 14,
     "metadata": {},
     "output_type": "execute_result"
    }
   ],
   "source": [
    "{'g': epfl_masterspecs['Computer Science']['specs']['g']}"
   ]
  },
  {
   "cell_type": "markdown",
   "metadata": {},
   "source": [
    "Now, we have processed the specializations and can move on.\n",
    "\n",
    "Next step is to create two new json objects by transforming the `epfl` object. The goal will be to remove redundancies in the original object, since it has many courses occuring repeatedly, and not only enable easy access to programs, but also _individual courses_. The idea is to create one object `epfl_courses` with all course details and another object `epfl_programs` which will only include course codes for each program."
   ]
  },
  {
   "cell_type": "code",
   "execution_count": 15,
   "metadata": {},
   "outputs": [],
   "source": [
    "epfl_courses = [\n",
    "    # for each program: ([code1, code2, ...], [course1, course2, ...])\n",
    "    ([*program.keys()], [*program.values()])\n",
    "    for level_name, level in epfl.items()\n",
    "    for program_name, program in level.items()\n",
    "]"
   ]
  },
  {
   "cell_type": "code",
   "execution_count": 16,
   "metadata": {},
   "outputs": [],
   "source": [
    "# all courses: [[code1, code2, ...], [course1, course2, ...]]\n",
    "epfl_courses = list(\n",
    "    map(\n",
    "        lambda x: sum(x, []),\n",
    "        zip(*epfl_courses)\n",
    "    )\n",
    ")"
   ]
  },
  {
   "cell_type": "markdown",
   "metadata": {},
   "source": [
    "Let's analyze the list of courses for all programs. Let's use pandas to help us with that:"
   ]
  },
  {
   "cell_type": "code",
   "execution_count": 17,
   "metadata": {},
   "outputs": [],
   "source": [
    "courses_df = pd.DataFrame(index=epfl_courses[0], data=epfl_courses[1])"
   ]
  },
  {
   "cell_type": "code",
   "execution_count": 18,
   "metadata": {},
   "outputs": [
    {
     "data": {
      "text/plain": [
       "Index(['name', 'section', 'language', 'note', 'path', 'semester', 'exam_form',\n",
       "       'coefficient', 'subject_examined', 'lecture', 'exercises', 'lecturers',\n",
       "       'required', 'recommended', 'concepts', 'in_the_programs',\n",
       "       'prerequisite_for', 'project', 'number_of_places', 'practical_work',\n",
       "       'credits', '', 'labs'],\n",
       "      dtype='object')"
      ]
     },
     "execution_count": 18,
     "metadata": {},
     "output_type": "execute_result"
    }
   ],
   "source": [
    "courses_df.columns"
   ]
  },
  {
   "cell_type": "markdown",
   "metadata": {},
   "source": [
    "We observe there are a couple of fields we don't recognize, `coefficient` and `''`. Let's analyze those first."
   ]
  },
  {
   "cell_type": "code",
   "execution_count": 19,
   "metadata": {},
   "outputs": [
    {
     "data": {
      "text/plain": [
       "array([nan, ''], dtype=object)"
      ]
     },
     "execution_count": 19,
     "metadata": {},
     "output_type": "execute_result"
    }
   ],
   "source": [
    "# the '' column has all values either as NaN or '', so we can safely delete the column\n",
    "courses_df[''].unique()"
   ]
  },
  {
   "cell_type": "code",
   "execution_count": 20,
   "metadata": {},
   "outputs": [],
   "source": [
    "courses_df.drop('', axis=1, inplace=True)"
   ]
  },
  {
   "cell_type": "markdown",
   "metadata": {},
   "source": [
    "We observed that the _five_ rows having `''` field as the empty string are exactly the ones that don't have the number of credits listed, but we shall fix this soon (corresponding html element is empty)."
   ]
  },
  {
   "cell_type": "markdown",
   "metadata": {},
   "source": [
    "The `coefficient` column is an alias for `credits`"
   ]
  },
  {
   "cell_type": "code",
   "execution_count": 21,
   "metadata": {},
   "outputs": [
    {
     "data": {
      "text/plain": [
       "3442"
      ]
     },
     "execution_count": 21,
     "metadata": {},
     "output_type": "execute_result"
    }
   ],
   "source": [
    "len(courses_df)"
   ]
  },
  {
   "cell_type": "code",
   "execution_count": 22,
   "metadata": {},
   "outputs": [
    {
     "data": {
      "text/plain": [
       "3204"
      ]
     },
     "execution_count": 22,
     "metadata": {},
     "output_type": "execute_result"
    }
   ],
   "source": [
    "courses_df.coefficient.isna().sum()"
   ]
  },
  {
   "cell_type": "code",
   "execution_count": 23,
   "metadata": {},
   "outputs": [
    {
     "data": {
      "text/plain": [
       "243"
      ]
     },
     "execution_count": 23,
     "metadata": {},
     "output_type": "execute_result"
    }
   ],
   "source": [
    "courses_df.credits.isna().sum()"
   ]
  },
  {
   "cell_type": "code",
   "execution_count": 24,
   "metadata": {},
   "outputs": [
    {
     "data": {
      "text/plain": [
       "False"
      ]
     },
     "execution_count": 24,
     "metadata": {},
     "output_type": "execute_result"
    }
   ],
   "source": [
    "(courses_df.credits == courses_df.coefficient).any()"
   ]
  },
  {
   "cell_type": "markdown",
   "metadata": {},
   "source": [
    "No rows have both `credits` and `coefficient`, and there are 5 rows which have neither. Let's first merge the columns and then manually fill in the 5 gaps if possible"
   ]
  },
  {
   "cell_type": "code",
   "execution_count": 25,
   "metadata": {},
   "outputs": [],
   "source": [
    "courses_df.credits.fillna(courses_df.coefficient, inplace=True)\n",
    "courses_df.drop('coefficient', axis=1, inplace=True)"
   ]
  },
  {
   "cell_type": "markdown",
   "metadata": {},
   "source": [
    "Let's now see the reason behind the 5 gaps:"
   ]
  },
  {
   "cell_type": "code",
   "execution_count": 26,
   "metadata": {},
   "outputs": [
    {
     "data": {
      "text/plain": [
       "Index(['ENG-274', 'CH-361', 'CH-361', 'PENS-200', 'PHYS-300(a)'], dtype='object')"
      ]
     },
     "execution_count": 26,
     "metadata": {},
     "output_type": "execute_result"
    }
   ],
   "source": [
    "courses_df[courses_df.credits.isna()].index"
   ]
  },
  {
   "cell_type": "markdown",
   "metadata": {},
   "source": [
    "* ENG-274 is without credits\n",
    "* CH-361 is an optional course, pointing to one of the advanced general chemistry courses\n",
    "* PENS-200 Ground control in Swiss law, credits are included in the ENAC week\n",
    "* PHYS-300(a) is also without credits"
   ]
  },
  {
   "cell_type": "markdown",
   "metadata": {},
   "source": [
    "<a id='epfl-courses-discrepancies'></a>\n",
    "We know that courses are repeated in the dataframe (row indices), but we need to check if the information is the same when course codes match. It is likely that they are the same, but we can't be sure because of the way the coursebooks were harvested (using program-specific query string parameters for fields in the right column of the page)."
   ]
  },
  {
   "cell_type": "code",
   "execution_count": 27,
   "metadata": {},
   "outputs": [
    {
     "data": {
      "text/plain": [
       "'1885 unique courses and 3442 courses with duplicates'"
      ]
     },
     "execution_count": 27,
     "metadata": {},
     "output_type": "execute_result"
    }
   ],
   "source": [
    "f\"{courses_df.index.nunique()} unique courses and {len(courses_df)} courses with duplicates\""
   ]
  },
  {
   "cell_type": "markdown",
   "metadata": {},
   "source": [
    "Let's see if we have a unique row count of 1 for each course code:"
   ]
  },
  {
   "cell_type": "code",
   "execution_count": 28,
   "metadata": {},
   "outputs": [],
   "source": [
    "# Convert list columns to tuple to avoid this error when calling nunique():\n",
    "# TypeError: unhashable type: 'list'\n",
    "list_columns = ['lecturers', 'required', 'recommended', 'concepts', 'prerequisite_for', 'in_the_programs']"
   ]
  },
  {
   "cell_type": "code",
   "execution_count": 29,
   "metadata": {},
   "outputs": [],
   "source": [
    "courses_df[list_columns] = courses_df[list_columns].applymap(tuple)\n",
    "# lecturers and in_the_programs field is a list of lists\n",
    "courses_df['lecturers'] = courses_df.lecturers.apply(lambda x: tuple(map(tuple, x)))\n",
    "courses_df['in_the_programs'] = courses_df.in_the_programs.apply(lambda x: tuple(map(tuple, x)))"
   ]
  },
  {
   "cell_type": "code",
   "execution_count": 30,
   "metadata": {},
   "outputs": [],
   "source": [
    "# path is always different \n",
    "group = courses_df.drop('path', axis=1).groupby(courses_df.index)"
   ]
  },
  {
   "cell_type": "code",
   "execution_count": 31,
   "metadata": {},
   "outputs": [
    {
     "data": {
      "text/html": [
       "<div>\n",
       "<style scoped>\n",
       "    .dataframe tbody tr th:only-of-type {\n",
       "        vertical-align: middle;\n",
       "    }\n",
       "\n",
       "    .dataframe tbody tr th {\n",
       "        vertical-align: top;\n",
       "    }\n",
       "\n",
       "    .dataframe thead th {\n",
       "        text-align: right;\n",
       "    }\n",
       "</style>\n",
       "<table border=\"1\" class=\"dataframe\">\n",
       "  <thead>\n",
       "    <tr style=\"text-align: right;\">\n",
       "      <th></th>\n",
       "      <th>name</th>\n",
       "      <th>section</th>\n",
       "      <th>language</th>\n",
       "      <th>note</th>\n",
       "      <th>semester</th>\n",
       "      <th>exam_form</th>\n",
       "      <th>subject_examined</th>\n",
       "      <th>lecture</th>\n",
       "      <th>exercises</th>\n",
       "      <th>lecturers</th>\n",
       "      <th>required</th>\n",
       "      <th>recommended</th>\n",
       "      <th>concepts</th>\n",
       "      <th>in_the_programs</th>\n",
       "      <th>prerequisite_for</th>\n",
       "      <th>project</th>\n",
       "      <th>number_of_places</th>\n",
       "      <th>practical_work</th>\n",
       "      <th>credits</th>\n",
       "      <th>labs</th>\n",
       "    </tr>\n",
       "  </thead>\n",
       "  <tbody>\n",
       "    <tr>\n",
       "      <th>BIO-502</th>\n",
       "      <td>1</td>\n",
       "      <td>1</td>\n",
       "      <td>1</td>\n",
       "      <td>1</td>\n",
       "      <td>1</td>\n",
       "      <td>1</td>\n",
       "      <td>1</td>\n",
       "      <td>0</td>\n",
       "      <td>0</td>\n",
       "      <td>1</td>\n",
       "      <td>1</td>\n",
       "      <td>1</td>\n",
       "      <td>1</td>\n",
       "      <td>2</td>\n",
       "      <td>1</td>\n",
       "      <td>0</td>\n",
       "      <td>0</td>\n",
       "      <td>1</td>\n",
       "      <td>1</td>\n",
       "      <td>0</td>\n",
       "    </tr>\n",
       "    <tr>\n",
       "      <th>BIOENG-404</th>\n",
       "      <td>1</td>\n",
       "      <td>1</td>\n",
       "      <td>1</td>\n",
       "      <td>1</td>\n",
       "      <td>1</td>\n",
       "      <td>1</td>\n",
       "      <td>1</td>\n",
       "      <td>1</td>\n",
       "      <td>1</td>\n",
       "      <td>1</td>\n",
       "      <td>1</td>\n",
       "      <td>1</td>\n",
       "      <td>1</td>\n",
       "      <td>2</td>\n",
       "      <td>1</td>\n",
       "      <td>0</td>\n",
       "      <td>0</td>\n",
       "      <td>0</td>\n",
       "      <td>1</td>\n",
       "      <td>0</td>\n",
       "    </tr>\n",
       "    <tr>\n",
       "      <th>CH-361</th>\n",
       "      <td>1</td>\n",
       "      <td>1</td>\n",
       "      <td>1</td>\n",
       "      <td>2</td>\n",
       "      <td>1</td>\n",
       "      <td>1</td>\n",
       "      <td>2</td>\n",
       "      <td>1</td>\n",
       "      <td>1</td>\n",
       "      <td>1</td>\n",
       "      <td>1</td>\n",
       "      <td>1</td>\n",
       "      <td>1</td>\n",
       "      <td>2</td>\n",
       "      <td>1</td>\n",
       "      <td>0</td>\n",
       "      <td>0</td>\n",
       "      <td>0</td>\n",
       "      <td>0</td>\n",
       "      <td>0</td>\n",
       "    </tr>\n",
       "    <tr>\n",
       "      <th>COM-208</th>\n",
       "      <td>1</td>\n",
       "      <td>1</td>\n",
       "      <td>1</td>\n",
       "      <td>1</td>\n",
       "      <td>1</td>\n",
       "      <td>1</td>\n",
       "      <td>1</td>\n",
       "      <td>1</td>\n",
       "      <td>1</td>\n",
       "      <td>1</td>\n",
       "      <td>1</td>\n",
       "      <td>1</td>\n",
       "      <td>1</td>\n",
       "      <td>2</td>\n",
       "      <td>1</td>\n",
       "      <td>0</td>\n",
       "      <td>0</td>\n",
       "      <td>0</td>\n",
       "      <td>1</td>\n",
       "      <td>0</td>\n",
       "    </tr>\n",
       "    <tr>\n",
       "      <th>COM-480</th>\n",
       "      <td>1</td>\n",
       "      <td>1</td>\n",
       "      <td>1</td>\n",
       "      <td>1</td>\n",
       "      <td>2</td>\n",
       "      <td>1</td>\n",
       "      <td>1</td>\n",
       "      <td>1</td>\n",
       "      <td>0</td>\n",
       "      <td>1</td>\n",
       "      <td>1</td>\n",
       "      <td>1</td>\n",
       "      <td>1</td>\n",
       "      <td>1</td>\n",
       "      <td>1</td>\n",
       "      <td>1</td>\n",
       "      <td>0</td>\n",
       "      <td>0</td>\n",
       "      <td>1</td>\n",
       "      <td>0</td>\n",
       "    </tr>\n",
       "    <tr>\n",
       "      <th>CS-401</th>\n",
       "      <td>1</td>\n",
       "      <td>1</td>\n",
       "      <td>1</td>\n",
       "      <td>1</td>\n",
       "      <td>1</td>\n",
       "      <td>1</td>\n",
       "      <td>1</td>\n",
       "      <td>1</td>\n",
       "      <td>0</td>\n",
       "      <td>1</td>\n",
       "      <td>1</td>\n",
       "      <td>1</td>\n",
       "      <td>1</td>\n",
       "      <td>2</td>\n",
       "      <td>1</td>\n",
       "      <td>1</td>\n",
       "      <td>0</td>\n",
       "      <td>0</td>\n",
       "      <td>1</td>\n",
       "      <td>0</td>\n",
       "    </tr>\n",
       "    <tr>\n",
       "      <th>CS-433</th>\n",
       "      <td>1</td>\n",
       "      <td>1</td>\n",
       "      <td>1</td>\n",
       "      <td>2</td>\n",
       "      <td>1</td>\n",
       "      <td>1</td>\n",
       "      <td>1</td>\n",
       "      <td>1</td>\n",
       "      <td>1</td>\n",
       "      <td>1</td>\n",
       "      <td>1</td>\n",
       "      <td>1</td>\n",
       "      <td>1</td>\n",
       "      <td>1</td>\n",
       "      <td>1</td>\n",
       "      <td>0</td>\n",
       "      <td>0</td>\n",
       "      <td>0</td>\n",
       "      <td>1</td>\n",
       "      <td>0</td>\n",
       "    </tr>\n",
       "    <tr>\n",
       "      <th>EE-111</th>\n",
       "      <td>1</td>\n",
       "      <td>1</td>\n",
       "      <td>1</td>\n",
       "      <td>2</td>\n",
       "      <td>2</td>\n",
       "      <td>1</td>\n",
       "      <td>1</td>\n",
       "      <td>1</td>\n",
       "      <td>1</td>\n",
       "      <td>1</td>\n",
       "      <td>1</td>\n",
       "      <td>1</td>\n",
       "      <td>1</td>\n",
       "      <td>1</td>\n",
       "      <td>1</td>\n",
       "      <td>0</td>\n",
       "      <td>0</td>\n",
       "      <td>0</td>\n",
       "      <td>1</td>\n",
       "      <td>0</td>\n",
       "    </tr>\n",
       "    <tr>\n",
       "      <th>EE-492(d)</th>\n",
       "      <td>1</td>\n",
       "      <td>1</td>\n",
       "      <td>1</td>\n",
       "      <td>2</td>\n",
       "      <td>1</td>\n",
       "      <td>1</td>\n",
       "      <td>1</td>\n",
       "      <td>0</td>\n",
       "      <td>0</td>\n",
       "      <td>1</td>\n",
       "      <td>1</td>\n",
       "      <td>1</td>\n",
       "      <td>1</td>\n",
       "      <td>2</td>\n",
       "      <td>1</td>\n",
       "      <td>1</td>\n",
       "      <td>0</td>\n",
       "      <td>0</td>\n",
       "      <td>1</td>\n",
       "      <td>0</td>\n",
       "    </tr>\n",
       "    <tr>\n",
       "      <th>EE-727</th>\n",
       "      <td>1</td>\n",
       "      <td>1</td>\n",
       "      <td>1</td>\n",
       "      <td>1</td>\n",
       "      <td>2</td>\n",
       "      <td>1</td>\n",
       "      <td>1</td>\n",
       "      <td>1</td>\n",
       "      <td>0</td>\n",
       "      <td>1</td>\n",
       "      <td>1</td>\n",
       "      <td>1</td>\n",
       "      <td>1</td>\n",
       "      <td>1</td>\n",
       "      <td>1</td>\n",
       "      <td>0</td>\n",
       "      <td>1</td>\n",
       "      <td>1</td>\n",
       "      <td>1</td>\n",
       "      <td>0</td>\n",
       "    </tr>\n",
       "    <tr>\n",
       "      <th>ENG-704</th>\n",
       "      <td>1</td>\n",
       "      <td>1</td>\n",
       "      <td>1</td>\n",
       "      <td>2</td>\n",
       "      <td>1</td>\n",
       "      <td>1</td>\n",
       "      <td>1</td>\n",
       "      <td>1</td>\n",
       "      <td>0</td>\n",
       "      <td>1</td>\n",
       "      <td>1</td>\n",
       "      <td>1</td>\n",
       "      <td>1</td>\n",
       "      <td>1</td>\n",
       "      <td>1</td>\n",
       "      <td>0</td>\n",
       "      <td>0</td>\n",
       "      <td>0</td>\n",
       "      <td>1</td>\n",
       "      <td>0</td>\n",
       "    </tr>\n",
       "    <tr>\n",
       "      <th>ENV-342</th>\n",
       "      <td>1</td>\n",
       "      <td>1</td>\n",
       "      <td>1</td>\n",
       "      <td>1</td>\n",
       "      <td>1</td>\n",
       "      <td>1</td>\n",
       "      <td>1</td>\n",
       "      <td>1</td>\n",
       "      <td>1</td>\n",
       "      <td>2</td>\n",
       "      <td>1</td>\n",
       "      <td>1</td>\n",
       "      <td>1</td>\n",
       "      <td>2</td>\n",
       "      <td>1</td>\n",
       "      <td>0</td>\n",
       "      <td>0</td>\n",
       "      <td>1</td>\n",
       "      <td>1</td>\n",
       "      <td>0</td>\n",
       "    </tr>\n",
       "    <tr>\n",
       "      <th>ENV-510</th>\n",
       "      <td>1</td>\n",
       "      <td>1</td>\n",
       "      <td>1</td>\n",
       "      <td>1</td>\n",
       "      <td>2</td>\n",
       "      <td>1</td>\n",
       "      <td>1</td>\n",
       "      <td>1</td>\n",
       "      <td>1</td>\n",
       "      <td>1</td>\n",
       "      <td>1</td>\n",
       "      <td>1</td>\n",
       "      <td>1</td>\n",
       "      <td>1</td>\n",
       "      <td>1</td>\n",
       "      <td>0</td>\n",
       "      <td>0</td>\n",
       "      <td>0</td>\n",
       "      <td>1</td>\n",
       "      <td>0</td>\n",
       "    </tr>\n",
       "    <tr>\n",
       "      <th>MATH-498</th>\n",
       "      <td>1</td>\n",
       "      <td>1</td>\n",
       "      <td>1</td>\n",
       "      <td>1</td>\n",
       "      <td>1</td>\n",
       "      <td>1</td>\n",
       "      <td>1</td>\n",
       "      <td>0</td>\n",
       "      <td>0</td>\n",
       "      <td>1</td>\n",
       "      <td>1</td>\n",
       "      <td>1</td>\n",
       "      <td>1</td>\n",
       "      <td>2</td>\n",
       "      <td>1</td>\n",
       "      <td>1</td>\n",
       "      <td>0</td>\n",
       "      <td>0</td>\n",
       "      <td>1</td>\n",
       "      <td>0</td>\n",
       "    </tr>\n",
       "    <tr>\n",
       "      <th>MATH-599</th>\n",
       "      <td>1</td>\n",
       "      <td>1</td>\n",
       "      <td>1</td>\n",
       "      <td>1</td>\n",
       "      <td>1</td>\n",
       "      <td>1</td>\n",
       "      <td>1</td>\n",
       "      <td>0</td>\n",
       "      <td>0</td>\n",
       "      <td>1</td>\n",
       "      <td>1</td>\n",
       "      <td>1</td>\n",
       "      <td>1</td>\n",
       "      <td>2</td>\n",
       "      <td>1</td>\n",
       "      <td>1</td>\n",
       "      <td>0</td>\n",
       "      <td>0</td>\n",
       "      <td>1</td>\n",
       "      <td>0</td>\n",
       "    </tr>\n",
       "    <tr>\n",
       "      <th>ME-467</th>\n",
       "      <td>1</td>\n",
       "      <td>1</td>\n",
       "      <td>1</td>\n",
       "      <td>1</td>\n",
       "      <td>2</td>\n",
       "      <td>1</td>\n",
       "      <td>1</td>\n",
       "      <td>1</td>\n",
       "      <td>1</td>\n",
       "      <td>1</td>\n",
       "      <td>1</td>\n",
       "      <td>1</td>\n",
       "      <td>1</td>\n",
       "      <td>1</td>\n",
       "      <td>1</td>\n",
       "      <td>0</td>\n",
       "      <td>0</td>\n",
       "      <td>0</td>\n",
       "      <td>1</td>\n",
       "      <td>0</td>\n",
       "    </tr>\n",
       "    <tr>\n",
       "      <th>MGT-418</th>\n",
       "      <td>1</td>\n",
       "      <td>1</td>\n",
       "      <td>1</td>\n",
       "      <td>2</td>\n",
       "      <td>1</td>\n",
       "      <td>1</td>\n",
       "      <td>1</td>\n",
       "      <td>1</td>\n",
       "      <td>1</td>\n",
       "      <td>1</td>\n",
       "      <td>1</td>\n",
       "      <td>1</td>\n",
       "      <td>1</td>\n",
       "      <td>1</td>\n",
       "      <td>1</td>\n",
       "      <td>0</td>\n",
       "      <td>0</td>\n",
       "      <td>0</td>\n",
       "      <td>1</td>\n",
       "      <td>0</td>\n",
       "    </tr>\n",
       "    <tr>\n",
       "      <th>MICRO-452</th>\n",
       "      <td>1</td>\n",
       "      <td>1</td>\n",
       "      <td>1</td>\n",
       "      <td>1</td>\n",
       "      <td>1</td>\n",
       "      <td>1</td>\n",
       "      <td>1</td>\n",
       "      <td>1</td>\n",
       "      <td>1</td>\n",
       "      <td>1</td>\n",
       "      <td>1</td>\n",
       "      <td>1</td>\n",
       "      <td>1</td>\n",
       "      <td>2</td>\n",
       "      <td>1</td>\n",
       "      <td>0</td>\n",
       "      <td>0</td>\n",
       "      <td>0</td>\n",
       "      <td>1</td>\n",
       "      <td>0</td>\n",
       "    </tr>\n",
       "    <tr>\n",
       "      <th>MICRO-455</th>\n",
       "      <td>1</td>\n",
       "      <td>1</td>\n",
       "      <td>1</td>\n",
       "      <td>1</td>\n",
       "      <td>1</td>\n",
       "      <td>1</td>\n",
       "      <td>1</td>\n",
       "      <td>1</td>\n",
       "      <td>0</td>\n",
       "      <td>2</td>\n",
       "      <td>1</td>\n",
       "      <td>1</td>\n",
       "      <td>1</td>\n",
       "      <td>3</td>\n",
       "      <td>1</td>\n",
       "      <td>0</td>\n",
       "      <td>0</td>\n",
       "      <td>0</td>\n",
       "      <td>1</td>\n",
       "      <td>0</td>\n",
       "    </tr>\n",
       "    <tr>\n",
       "      <th>MICRO-513</th>\n",
       "      <td>1</td>\n",
       "      <td>1</td>\n",
       "      <td>1</td>\n",
       "      <td>1</td>\n",
       "      <td>1</td>\n",
       "      <td>1</td>\n",
       "      <td>1</td>\n",
       "      <td>1</td>\n",
       "      <td>1</td>\n",
       "      <td>1</td>\n",
       "      <td>1</td>\n",
       "      <td>1</td>\n",
       "      <td>1</td>\n",
       "      <td>2</td>\n",
       "      <td>1</td>\n",
       "      <td>0</td>\n",
       "      <td>0</td>\n",
       "      <td>0</td>\n",
       "      <td>1</td>\n",
       "      <td>0</td>\n",
       "    </tr>\n",
       "    <tr>\n",
       "      <th>MICRO-561</th>\n",
       "      <td>1</td>\n",
       "      <td>1</td>\n",
       "      <td>1</td>\n",
       "      <td>1</td>\n",
       "      <td>1</td>\n",
       "      <td>1</td>\n",
       "      <td>1</td>\n",
       "      <td>1</td>\n",
       "      <td>0</td>\n",
       "      <td>1</td>\n",
       "      <td>1</td>\n",
       "      <td>1</td>\n",
       "      <td>1</td>\n",
       "      <td>2</td>\n",
       "      <td>1</td>\n",
       "      <td>0</td>\n",
       "      <td>0</td>\n",
       "      <td>0</td>\n",
       "      <td>1</td>\n",
       "      <td>0</td>\n",
       "    </tr>\n",
       "    <tr>\n",
       "      <th>MICRO-597</th>\n",
       "      <td>1</td>\n",
       "      <td>1</td>\n",
       "      <td>1</td>\n",
       "      <td>1</td>\n",
       "      <td>2</td>\n",
       "      <td>1</td>\n",
       "      <td>1</td>\n",
       "      <td>0</td>\n",
       "      <td>0</td>\n",
       "      <td>1</td>\n",
       "      <td>1</td>\n",
       "      <td>1</td>\n",
       "      <td>1</td>\n",
       "      <td>2</td>\n",
       "      <td>1</td>\n",
       "      <td>0</td>\n",
       "      <td>0</td>\n",
       "      <td>1</td>\n",
       "      <td>1</td>\n",
       "      <td>0</td>\n",
       "    </tr>\n",
       "    <tr>\n",
       "      <th>MICRO-723</th>\n",
       "      <td>1</td>\n",
       "      <td>1</td>\n",
       "      <td>1</td>\n",
       "      <td>1</td>\n",
       "      <td>2</td>\n",
       "      <td>1</td>\n",
       "      <td>1</td>\n",
       "      <td>1</td>\n",
       "      <td>1</td>\n",
       "      <td>1</td>\n",
       "      <td>1</td>\n",
       "      <td>1</td>\n",
       "      <td>1</td>\n",
       "      <td>1</td>\n",
       "      <td>1</td>\n",
       "      <td>0</td>\n",
       "      <td>0</td>\n",
       "      <td>1</td>\n",
       "      <td>1</td>\n",
       "      <td>0</td>\n",
       "    </tr>\n",
       "    <tr>\n",
       "      <th>PENS-491</th>\n",
       "      <td>1</td>\n",
       "      <td>1</td>\n",
       "      <td>1</td>\n",
       "      <td>1</td>\n",
       "      <td>1</td>\n",
       "      <td>1</td>\n",
       "      <td>1</td>\n",
       "      <td>0</td>\n",
       "      <td>0</td>\n",
       "      <td>1</td>\n",
       "      <td>1</td>\n",
       "      <td>1</td>\n",
       "      <td>1</td>\n",
       "      <td>2</td>\n",
       "      <td>1</td>\n",
       "      <td>1</td>\n",
       "      <td>0</td>\n",
       "      <td>0</td>\n",
       "      <td>1</td>\n",
       "      <td>0</td>\n",
       "    </tr>\n",
       "    <tr>\n",
       "      <th>PHYS-201(e)</th>\n",
       "      <td>1</td>\n",
       "      <td>1</td>\n",
       "      <td>1</td>\n",
       "      <td>1</td>\n",
       "      <td>1</td>\n",
       "      <td>1</td>\n",
       "      <td>1</td>\n",
       "      <td>1</td>\n",
       "      <td>1</td>\n",
       "      <td>1</td>\n",
       "      <td>1</td>\n",
       "      <td>1</td>\n",
       "      <td>1</td>\n",
       "      <td>2</td>\n",
       "      <td>1</td>\n",
       "      <td>0</td>\n",
       "      <td>0</td>\n",
       "      <td>0</td>\n",
       "      <td>1</td>\n",
       "      <td>0</td>\n",
       "    </tr>\n",
       "  </tbody>\n",
       "</table>\n",
       "</div>"
      ],
      "text/plain": [
       "             name  section  language  note  semester  exam_form  \\\n",
       "BIO-502         1        1         1     1         1          1   \n",
       "BIOENG-404      1        1         1     1         1          1   \n",
       "CH-361          1        1         1     2         1          1   \n",
       "COM-208         1        1         1     1         1          1   \n",
       "COM-480         1        1         1     1         2          1   \n",
       "CS-401          1        1         1     1         1          1   \n",
       "CS-433          1        1         1     2         1          1   \n",
       "EE-111          1        1         1     2         2          1   \n",
       "EE-492(d)       1        1         1     2         1          1   \n",
       "EE-727          1        1         1     1         2          1   \n",
       "ENG-704         1        1         1     2         1          1   \n",
       "ENV-342         1        1         1     1         1          1   \n",
       "ENV-510         1        1         1     1         2          1   \n",
       "MATH-498        1        1         1     1         1          1   \n",
       "MATH-599        1        1         1     1         1          1   \n",
       "ME-467          1        1         1     1         2          1   \n",
       "MGT-418         1        1         1     2         1          1   \n",
       "MICRO-452       1        1         1     1         1          1   \n",
       "MICRO-455       1        1         1     1         1          1   \n",
       "MICRO-513       1        1         1     1         1          1   \n",
       "MICRO-561       1        1         1     1         1          1   \n",
       "MICRO-597       1        1         1     1         2          1   \n",
       "MICRO-723       1        1         1     1         2          1   \n",
       "PENS-491        1        1         1     1         1          1   \n",
       "PHYS-201(e)     1        1         1     1         1          1   \n",
       "\n",
       "             subject_examined  lecture  exercises  lecturers  required  \\\n",
       "BIO-502                     1        0          0          1         1   \n",
       "BIOENG-404                  1        1          1          1         1   \n",
       "CH-361                      2        1          1          1         1   \n",
       "COM-208                     1        1          1          1         1   \n",
       "COM-480                     1        1          0          1         1   \n",
       "CS-401                      1        1          0          1         1   \n",
       "CS-433                      1        1          1          1         1   \n",
       "EE-111                      1        1          1          1         1   \n",
       "EE-492(d)                   1        0          0          1         1   \n",
       "EE-727                      1        1          0          1         1   \n",
       "ENG-704                     1        1          0          1         1   \n",
       "ENV-342                     1        1          1          2         1   \n",
       "ENV-510                     1        1          1          1         1   \n",
       "MATH-498                    1        0          0          1         1   \n",
       "MATH-599                    1        0          0          1         1   \n",
       "ME-467                      1        1          1          1         1   \n",
       "MGT-418                     1        1          1          1         1   \n",
       "MICRO-452                   1        1          1          1         1   \n",
       "MICRO-455                   1        1          0          2         1   \n",
       "MICRO-513                   1        1          1          1         1   \n",
       "MICRO-561                   1        1          0          1         1   \n",
       "MICRO-597                   1        0          0          1         1   \n",
       "MICRO-723                   1        1          1          1         1   \n",
       "PENS-491                    1        0          0          1         1   \n",
       "PHYS-201(e)                 1        1          1          1         1   \n",
       "\n",
       "             recommended  concepts  in_the_programs  prerequisite_for  \\\n",
       "BIO-502                1         1                2                 1   \n",
       "BIOENG-404             1         1                2                 1   \n",
       "CH-361                 1         1                2                 1   \n",
       "COM-208                1         1                2                 1   \n",
       "COM-480                1         1                1                 1   \n",
       "CS-401                 1         1                2                 1   \n",
       "CS-433                 1         1                1                 1   \n",
       "EE-111                 1         1                1                 1   \n",
       "EE-492(d)              1         1                2                 1   \n",
       "EE-727                 1         1                1                 1   \n",
       "ENG-704                1         1                1                 1   \n",
       "ENV-342                1         1                2                 1   \n",
       "ENV-510                1         1                1                 1   \n",
       "MATH-498               1         1                2                 1   \n",
       "MATH-599               1         1                2                 1   \n",
       "ME-467                 1         1                1                 1   \n",
       "MGT-418                1         1                1                 1   \n",
       "MICRO-452              1         1                2                 1   \n",
       "MICRO-455              1         1                3                 1   \n",
       "MICRO-513              1         1                2                 1   \n",
       "MICRO-561              1         1                2                 1   \n",
       "MICRO-597              1         1                2                 1   \n",
       "MICRO-723              1         1                1                 1   \n",
       "PENS-491               1         1                2                 1   \n",
       "PHYS-201(e)            1         1                2                 1   \n",
       "\n",
       "             project  number_of_places  practical_work  credits  labs  \n",
       "BIO-502            0                 0               1        1     0  \n",
       "BIOENG-404         0                 0               0        1     0  \n",
       "CH-361             0                 0               0        0     0  \n",
       "COM-208            0                 0               0        1     0  \n",
       "COM-480            1                 0               0        1     0  \n",
       "CS-401             1                 0               0        1     0  \n",
       "CS-433             0                 0               0        1     0  \n",
       "EE-111             0                 0               0        1     0  \n",
       "EE-492(d)          1                 0               0        1     0  \n",
       "EE-727             0                 1               1        1     0  \n",
       "ENG-704            0                 0               0        1     0  \n",
       "ENV-342            0                 0               1        1     0  \n",
       "ENV-510            0                 0               0        1     0  \n",
       "MATH-498           1                 0               0        1     0  \n",
       "MATH-599           1                 0               0        1     0  \n",
       "ME-467             0                 0               0        1     0  \n",
       "MGT-418            0                 0               0        1     0  \n",
       "MICRO-452          0                 0               0        1     0  \n",
       "MICRO-455          0                 0               0        1     0  \n",
       "MICRO-513          0                 0               0        1     0  \n",
       "MICRO-561          0                 0               0        1     0  \n",
       "MICRO-597          0                 0               1        1     0  \n",
       "MICRO-723          0                 0               1        1     0  \n",
       "PENS-491           1                 0               0        1     0  \n",
       "PHYS-201(e)        0                 0               0        1     0  "
      ]
     },
     "execution_count": 31,
     "metadata": {},
     "output_type": "execute_result"
    }
   ],
   "source": [
    "group.nunique().loc[(group.nunique() > 1).any(axis=1)]"
   ]
  },
  {
   "cell_type": "markdown",
   "metadata": {},
   "source": [
    "There are very few exceptions that will require manual overview, and we will handle them later. Let's just get right into creating the processed `epfl_courses` dictionary and save it to a json file."
   ]
  },
  {
   "cell_type": "code",
   "execution_count": 32,
   "metadata": {},
   "outputs": [],
   "source": [
    "courses_unique_df = courses_df.loc[~courses_df.index.duplicated()]"
   ]
  },
  {
   "cell_type": "code",
   "execution_count": 33,
   "metadata": {},
   "outputs": [
    {
     "data": {
      "text/plain": [
       "1885"
      ]
     },
     "execution_count": 33,
     "metadata": {},
     "output_type": "execute_result"
    }
   ],
   "source": [
    "len(courses_unique_df)"
   ]
  },
  {
   "cell_type": "code",
   "execution_count": 34,
   "metadata": {},
   "outputs": [],
   "source": [
    "epfl_courses = courses_unique_df.to_dict(orient='index')"
   ]
  },
  {
   "cell_type": "code",
   "execution_count": 35,
   "metadata": {},
   "outputs": [
    {
     "data": {
      "text/plain": [
       "{'name': 'Building technology II',\n",
       " 'section': 'AR',\n",
       " 'language': 'French',\n",
       " 'note': '',\n",
       " 'path': '/coursebook/en/building-technology-ii-AR-126?cb_cycle=bama_prop&cb_section=ar',\n",
       " 'semester': 'Spring',\n",
       " 'exam_form': 'Oral',\n",
       " 'subject_examined': 'Building technology II',\n",
       " 'lecture': '3 Hour(s) per week x 12 weeks',\n",
       " 'exercises': '2 Hour(s) per week x 12 weeks',\n",
       " 'lecturers': (('Tombesi Paolo', 'http://people.epfl.ch/223776'),\n",
       "  ('Zurbrügg Peter', 'http://people.epfl.ch/104348')),\n",
       " 'required': ('Technologie du bâti I (AR-125)Physique du bâtiment (PHYS-118)Structures I (CIVIL-122)',),\n",
       " 'recommended': (),\n",
       " 'concepts': (),\n",
       " 'in_the_programs': (('Architecture', 'Bachelor semester 2'),),\n",
       " 'prerequisite_for': ('Technologie du bâti III',),\n",
       " 'project': nan,\n",
       " 'number_of_places': nan,\n",
       " 'practical_work': nan,\n",
       " 'credits': '5',\n",
       " 'labs': nan}"
      ]
     },
     "execution_count": 35,
     "metadata": {},
     "output_type": "execute_result"
    }
   ],
   "source": [
    "epfl_courses[\"AR-126\"]"
   ]
  },
  {
   "cell_type": "code",
   "execution_count": 36,
   "metadata": {},
   "outputs": [],
   "source": [
    "# storing the dict in a json file\n",
    "with open('../data/processed/epfl_courses.json', 'w') as json_file:\n",
    "    json.dump(epfl_courses, json_file, indent=4)"
   ]
  },
  {
   "cell_type": "markdown",
   "metadata": {},
   "source": [
    "Create `epfl_programs`"
   ]
  },
  {
   "cell_type": "code",
   "execution_count": 37,
   "metadata": {},
   "outputs": [],
   "source": [
    "# use dict comprehension to produce epfl_programs\n",
    "epfl_programs = {\n",
    "    level_name: {\n",
    "        program_name: list(program.keys())\n",
    "        for program_name, program in level.items()\n",
    "    }\n",
    "    for level_name, level in epfl.items()\n",
    "}\n",
    "\n",
    "#storing the dict in a json file\n",
    "with open('../data/processed/epfl_programs.json', 'w') as json_file:\n",
    "    json.dump(epfl_programs, json_file, indent=4)"
   ]
  },
  {
   "cell_type": "code",
   "execution_count": 38,
   "metadata": {},
   "outputs": [
    {
     "data": {
      "text/plain": [
       "dict_keys(['Architecture', 'Chemistry and Chemical Engineering', 'Civil Engineering', 'Communication Systems', 'Computer Science', 'Design Together ENAC', 'Electrical and Electronics Engineering', 'Environmental Sciences and Engineering', 'Humanities and Social Sciences Program', 'Life Sciences Engineering', 'Materials Science and Engineering', 'Mathematics', 'Mechanical Engineering', 'Microengineering', 'Physics'])"
      ]
     },
     "execution_count": 38,
     "metadata": {},
     "output_type": "execute_result"
    }
   ],
   "source": [
    "epfl_programs['bachelor'].keys()"
   ]
  },
  {
   "cell_type": "code",
   "execution_count": 39,
   "metadata": {},
   "outputs": [
    {
     "data": {
      "text/plain": [
       "['MATH-203(a)',\n",
       " 'MATH-207(a)',\n",
       " 'PHYS-201(a)',\n",
       " 'PHYS-207(a)',\n",
       " 'MATH-251(c)',\n",
       " 'MATH-231',\n",
       " 'MATH-236',\n",
       " 'BIO-212',\n",
       " 'BIO-213',\n",
       " 'BIO-205']"
      ]
     },
     "execution_count": 39,
     "metadata": {},
     "output_type": "execute_result"
    }
   ],
   "source": [
    "epfl_programs['bachelor']['Life Sciences Engineering'][:10]"
   ]
  },
  {
   "cell_type": "markdown",
   "metadata": {},
   "source": [
    "Next step (goal for next milestone) is to process the registration data and integrate it with `epfl_courses`"
   ]
  },
  {
   "cell_type": "code",
   "execution_count": 40,
   "metadata": {},
   "outputs": [],
   "source": [
    "import json\n",
    "with open(\"../data/raw/isa-registrations.json\") as file:\n",
    "    isa = json.load(file)"
   ]
  },
  {
   "cell_type": "code",
   "execution_count": 41,
   "metadata": {},
   "outputs": [
    {
     "data": {
      "text/plain": [
       "{'2019-2020': {'Digital Humanities': {'count': '6', 'level': 'master'},\n",
       "  'Electrical and Electronics Engineering': {'count': '9', 'level': 'master'},\n",
       "  'Computer Science': {'count': '66', 'level': 'master'},\n",
       "  'Computer Science - Cybersecurity': {'count': '4', 'level': 'master'},\n",
       "  'Data science minor': {'count': '14', 'level': 'minor'},\n",
       "  'Data Science': {'count': '49', 'level': 'master'},\n",
       "  'Communication Systems - master program': {'count': '6', 'level': 'master'}},\n",
       " '2018-2019': {'Data science minor': {'count': '2', 'level': 'minor'},\n",
       "  'Computer Science': {'count': '66', 'level': 'master'},\n",
       "  'Digital Humanities': {'count': '1', 'level': 'master'},\n",
       "  'Electrical Engineering (edoc)': {'count': '4', 'level': 'doctoral_school'},\n",
       "  'Data Science': {'count': '26', 'level': 'master'},\n",
       "  'Communication Systems - master program': {'count': '11', 'level': 'master'},\n",
       "  'Electrical and Electronics Engineering': {'count': '2', 'level': 'master'}},\n",
       " '2017-2018': {'Communication Systems - master program': {'count': '30',\n",
       "   'level': 'master'},\n",
       "  'Data Science': {'count': '34', 'level': 'master'},\n",
       "  'Computer Science': {'count': '94', 'level': 'master'}}}"
      ]
     },
     "execution_count": 41,
     "metadata": {},
     "output_type": "execute_result"
    }
   ],
   "source": [
    "isa['Data visualization']"
   ]
  }
 ],
 "metadata": {
  "kernelspec": {
   "display_name": "Python 3",
   "language": "python",
   "name": "python3"
  },
  "language_info": {
   "codemirror_mode": {
    "name": "ipython",
    "version": 3
   },
   "file_extension": ".py",
   "mimetype": "text/x-python",
   "name": "python",
   "nbconvert_exporter": "python",
   "pygments_lexer": "ipython3",
   "version": "3.7.3"
  }
 },
 "nbformat": 4,
 "nbformat_minor": 4
}
