{
 "cells": [
  {
   "cell_type": "code",
   "execution_count": null,
   "metadata": {},
   "outputs": [],
   "source": [
    "import json\n",
    "import numpy as np\n",
    "import pandas as pd\n",
    "import matplotlib.pyplot as plt"
   ]
  },
  {
   "cell_type": "code",
   "execution_count": null,
   "metadata": {},
   "outputs": [],
   "source": [
    "with open(\"../data/processed/epfl_programs.json\") as file:\n",
    "     epfl_programs = json.load(file)\n",
    "with open(\"../data/processed/epfl_courses.json\") as file:\n",
    "    epfl_courses = json.load(file)\n",
    "with open(\"../data/processed/epfl_studyplans.json\") as file:\n",
    "     epfl_studyplans = json.load(file)"
   ]
  },
  {
   "cell_type": "code",
   "execution_count": null,
   "metadata": {},
   "outputs": [],
   "source": [
    "programs = pd.DataFrame.from_dict(epfl_programs, orient='index')\n",
    "courses = pd.DataFrame.from_dict(epfl_courses, orient='index')\n",
    "studyplans = pd.DataFrame.from_dict(epfl_studyplans, orient='index')"
   ]
  },
  {
   "cell_type": "markdown",
   "metadata": {},
   "source": [
    "## Programs"
   ]
  },
  {
   "cell_type": "code",
   "execution_count": null,
   "metadata": {},
   "outputs": [],
   "source": [
    "programs.T.head(5)"
   ]
  },
  {
   "cell_type": "markdown",
   "metadata": {},
   "source": [
    "#### Calculating the number of courses available per education level and program"
   ]
  },
  {
   "cell_type": "code",
   "execution_count": null,
   "metadata": {},
   "outputs": [],
   "source": [
    "program_counts = programs.fillna(0).applymap(lambda a: a if a == 0 else len(a)).T\n",
    "program_counts.head(10)"
   ]
  },
  {
   "cell_type": "code",
   "execution_count": null,
   "metadata": {},
   "outputs": [],
   "source": [
    "levels = programs.index\n",
    "level_dict = {\n",
    "    level: program_counts[level][program_counts[level]!=0]\n",
    "    for level in levels\n",
    "}"
   ]
  },
  {
   "cell_type": "markdown",
   "metadata": {},
   "source": [
    "#### Plotting the distribution of programs with a given number of courses, per education level"
   ]
  },
  {
   "cell_type": "code",
   "execution_count": null,
   "metadata": {},
   "outputs": [],
   "source": [
    "fig = plt.figure(figsize=(20, 15))\n",
    "\n",
    "fig.suptitle('Number of programs with a given number of courses, per education level')\n",
    "\n",
    "rows = 3\n",
    "columns = 2\n",
    "\n",
    "for i, level in enumerate(levels):\n",
    "    ax = fig.add_subplot(rows, columns, i+1)\n",
    "    ax.hist(level_dict[level], bins=range(0,140,10))\n",
    "    ax.set_title(level)\n",
    "        \n",
    "    ax.set_xticks(range(0,140,10))\n",
    "    ax.set_yticks(range(12))\n",
    "        \n",
    "    ax.set_xlabel('# of courses')\n",
    "    ax.set_ylabel('# of programs')\n",
    "fig.tight_layout(pad=5.0)\n",
    "plt.show()"
   ]
  },
  {
   "cell_type": "markdown",
   "metadata": {},
   "source": [
    "There seems to be only two programs with >100 courses available - one in bachelor and one in master level. Let's check what they are!"
   ]
  },
  {
   "cell_type": "code",
   "execution_count": null,
   "metadata": {},
   "outputs": [],
   "source": [
    "program_counts['bachelor'][program_counts['bachelor']>90]"
   ]
  },
  {
   "cell_type": "code",
   "execution_count": null,
   "metadata": {},
   "outputs": [],
   "source": [
    "program_counts['master'][program_counts['master']>120]"
   ]
  },
  {
   "cell_type": "markdown",
   "metadata": {},
   "source": [
    "## Courses"
   ]
  },
  {
   "cell_type": "code",
   "execution_count": null,
   "metadata": {},
   "outputs": [],
   "source": [
    "courses.head(5)"
   ]
  },
  {
   "cell_type": "markdown",
   "metadata": {},
   "source": [
    "#### Distribution of exam forms:"
   ]
  },
  {
   "cell_type": "code",
   "execution_count": null,
   "metadata": {},
   "outputs": [],
   "source": [
    "courses['exam_form'].value_counts().to_frame().rename(columns={'exam_form':'course_count'}).T.rename(columns={'':'None'})"
   ]
  },
  {
   "cell_type": "markdown",
   "metadata": {},
   "source": [
    "#### Number of courses with a given number of credits:"
   ]
  },
  {
   "cell_type": "code",
   "execution_count": null,
   "metadata": {},
   "outputs": [],
   "source": [
    "courses['credits'].fillna(0).astype(int).value_counts().sort_index().to_frame().rename(columns={'credits':'count'}).T"
   ]
  },
  {
   "cell_type": "markdown",
   "metadata": {},
   "source": [
    "#### Distribution of the number of required courses per course \n",
    "(before preprocessing the 'required' column (which will mostly make the low counts higher due to non-separated lists of courses, as well as make the high counts lower due to descriptional requirements treated as required courses)"
   ]
  },
  {
   "cell_type": "code",
   "execution_count": null,
   "metadata": {},
   "outputs": [],
   "source": [
    "courses['required_count'] = courses['required'].map(lambda a: len(a))\n",
    "courses['required_count'].value_counts().sort_index().to_frame().T"
   ]
  },
  {
   "cell_type": "markdown",
   "metadata": {},
   "source": [
    "The courses with more than 4 prerequisites:"
   ]
  },
  {
   "cell_type": "code",
   "execution_count": null,
   "metadata": {},
   "outputs": [],
   "source": [
    "pd.set_option('display.max_colwidth', -1)\n",
    "courses[courses['required_count']>4][['required_count','required']].sort_values(by=['required_count'], ascending=False)"
   ]
  },
  {
   "cell_type": "markdown",
   "metadata": {},
   "source": [
    "As we can see, MICRO-424 has the only properly formatted list of required courses. The other entries contain descriptional requirements or the mix of both. This it to be cleaned by us for the Milestone 2."
   ]
  },
  {
   "cell_type": "markdown",
   "metadata": {},
   "source": [
    "## Studyplans"
   ]
  },
  {
   "cell_type": "code",
   "execution_count": null,
   "metadata": {},
   "outputs": [],
   "source": [
    "pd.reset_option('display.max_colwidth')\n",
    "studyplans"
   ]
  },
  {
   "cell_type": "markdown",
   "metadata": {},
   "source": [
    "#### Distribution of programs available at a given level"
   ]
  },
  {
   "cell_type": "code",
   "execution_count": null,
   "metadata": {},
   "outputs": [],
   "source": [
    "(~studyplans.T.isnull()).sum().to_frame().rename(columns={0:'count'}).T"
   ]
  }
 ],
 "metadata": {
  "kernelspec": {
   "display_name": "Python 3",
   "language": "python",
   "name": "python3"
  },
  "language_info": {
   "codemirror_mode": {
    "name": "ipython",
    "version": 3
   },
   "file_extension": ".py",
   "mimetype": "text/x-python",
   "name": "python",
   "nbconvert_exporter": "python",
   "pygments_lexer": "ipython3",
   "version": "3.7.7"
  }
 },
 "nbformat": 4,
 "nbformat_minor": 2
}
