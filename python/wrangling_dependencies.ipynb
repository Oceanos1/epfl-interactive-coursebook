{
 "cells": [
  {
   "cell_type": "code",
   "execution_count": null,
   "metadata": {},
   "outputs": [],
   "source": [
    "import pandas as pd\n",
    "import json\n",
    "import numpy as np"
   ]
  },
  {
   "cell_type": "code",
   "execution_count": null,
   "metadata": {},
   "outputs": [],
   "source": [
    "df = pd.read_pickle('../data/pickle/dep.pickle')"
   ]
  },
  {
   "cell_type": "code",
   "execution_count": null,
   "metadata": {},
   "outputs": [],
   "source": [
    "prereq_for = df.prerequisite_for.apply(lambda x: \" \".join(list(x)))"
   ]
  },
  {
   "cell_type": "code",
   "execution_count": null,
   "metadata": {},
   "outputs": [],
   "source": [
    "import re\n",
    "regex = re.compile(\"([A-Za-z]{2,6}[-\\s]*\\d{3}(?:\\s*\\([A-Za-z0-9]+\\))?)\")"
   ]
  },
  {
   "cell_type": "code",
   "execution_count": null,
   "metadata": {},
   "outputs": [],
   "source": [
    "prereq_matches = prereq_for.apply(lambda x: regex.findall(x))\n",
    "prereq = prereq_matches[prereq_matches.apply(lambda x: len(x) > 0)]\n",
    "prereq"
   ]
  },
  {
   "cell_type": "code",
   "execution_count": null,
   "metadata": {},
   "outputs": [],
   "source": [
    "required = df.required.apply(lambda x: \" \".join(list(x)))\n",
    "\n",
    "req_matches = required.apply(lambda x: regex.findall(x))\n",
    "req = req_matches[req_matches.apply(lambda x: len(x) > 0)]\n",
    "req"
   ]
  },
  {
   "cell_type": "code",
   "execution_count": null,
   "metadata": {},
   "outputs": [],
   "source": [
    "recommended = df.recommended.apply(lambda x: \" \".join(list(x)))\n",
    "\n",
    "rec_matches = recommended.apply(lambda x: regex.findall(x))\n",
    "rec_matches[rec_matches.apply(lambda x: len(x) > 0)]"
   ]
  },
  {
   "cell_type": "code",
   "execution_count": null,
   "metadata": {},
   "outputs": [],
   "source": [
    "#Idea : concat together required and prereq_for\n",
    "#first, inverse the required into prerequisite\n",
    "inv_req = {}\n",
    "for k, v in req.items():\n",
    "    for e in v:\n",
    "        _e = e.upper()\n",
    "        inv_req[_e] = inv_req.get(_e, [])\n",
    "        inv_req[_e].append(k.upper())\n",
    "\n",
    "        \n",
    "print(len(inv_req))\n",
    "inv_req"
   ]
  },
  {
   "cell_type": "code",
   "execution_count": null,
   "metadata": {},
   "outputs": [],
   "source": [
    "for k,v in prereq.items():\n",
    "    _k = k.upper()\n",
    "    inv_req[_k] = inv_req.get(_k,[])\n",
    "    for elem in v:\n",
    "        inv_req[_k].append(elem.upper())"
   ]
  },
  {
   "cell_type": "code",
   "execution_count": null,
   "metadata": {},
   "outputs": [],
   "source": [
    "#merged version\n",
    "print(len(inv_req))\n",
    "inv_req"
   ]
  },
  {
   "cell_type": "code",
   "execution_count": null,
   "metadata": {},
   "outputs": [],
   "source": [
    "for key, value in inv_req.items():\n",
    "     inv_req[key] = set(inv_req[key])"
   ]
  },
  {
   "cell_type": "code",
   "execution_count": null,
   "metadata": {
    "scrolled": false
   },
   "outputs": [],
   "source": [
    "print(len(inv_req))\n",
    "inv_req"
   ]
  },
  {
   "cell_type": "code",
   "execution_count": null,
   "metadata": {},
   "outputs": [],
   "source": [
    "def dict_to_df(x):\n",
    "    res = pd.DataFrame.from_dict(x, orient='index')\n",
    "    res['prerequisite_for'] = res.apply(list, axis=1)\n",
    "    res = res['prerequisite_for'].map(lambda x: list(filter(lambda a: a!= None, x))).reset_index().rename(columns={'index':'course_code'})\n",
    "    return res"
   ]
  },
  {
   "cell_type": "code",
   "execution_count": null,
   "metadata": {},
   "outputs": [],
   "source": [
    "inv_df = dict_to_df(inv_req)\n",
    "inv_df.tail()"
   ]
  },
  {
   "cell_type": "code",
   "execution_count": null,
   "metadata": {},
   "outputs": [],
   "source": [
    "with open(f'../data/epfl_prereq_byhand.json') as file:\n",
    "        by_hand = json.load(file)\n",
    "by_hand = dict_to_df(by_hand)\n",
    "by_hand.head()"
   ]
  },
  {
   "cell_type": "code",
   "execution_count": null,
   "metadata": {},
   "outputs": [],
   "source": [
    "print(inv_df['course_code'].size)\n",
    "print(by_hand['course_code'].size)"
   ]
  },
  {
   "cell_type": "code",
   "execution_count": null,
   "metadata": {},
   "outputs": [],
   "source": [
    "def merge(df1, df2):\n",
    "    merged = df1.merge(df2, on='course_code', how='outer')\n",
    "    merged = merged.apply(lambda x: x.apply(lambda x: [] if x is np.nan else x))\n",
    "    merged['prerequisite_for'] = merged['prerequisite_for_x'] + merged['prerequisite_for_y']\n",
    "    merged = merged[['course_code','prerequisite_for']]\n",
    "    merged['prerequisite_for'] = merged['prerequisite_for'].apply(lambda x: sorted(list(set(x))))\n",
    "    return merged.set_index('course_code')"
   ]
  },
  {
   "cell_type": "code",
   "execution_count": null,
   "metadata": {},
   "outputs": [],
   "source": [
    "merged = merge(inv_df, by_hand)\n",
    "merged.head()"
   ]
  },
  {
   "cell_type": "code",
   "execution_count": null,
   "metadata": {},
   "outputs": [],
   "source": [
    "merged = merged.sort_index()\n",
    "merged.head()"
   ]
  },
  {
   "cell_type": "code",
   "execution_count": null,
   "metadata": {},
   "outputs": [],
   "source": [
    "merged['prerequisite_for'].to_json(path_or_buf='../data/merged_prerequisites.json', orient='index')"
   ]
  }
 ],
 "metadata": {
  "kernelspec": {
   "display_name": "Python 3",
   "language": "python",
   "name": "python3"
  },
  "language_info": {
   "codemirror_mode": {
    "name": "ipython",
    "version": 3
   },
   "file_extension": ".py",
   "mimetype": "text/x-python",
   "name": "python",
   "nbconvert_exporter": "python",
   "pygments_lexer": "ipython3",
   "version": "3.7.1"
  }
 },
 "nbformat": 4,
 "nbformat_minor": 4
}
