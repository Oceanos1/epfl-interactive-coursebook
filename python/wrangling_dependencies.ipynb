{
 "cells": [
  {
   "cell_type": "code",
   "execution_count": 118,
   "metadata": {},
   "outputs": [],
   "source": [
    "import pandas as pd"
   ]
  },
  {
   "cell_type": "code",
   "execution_count": 174,
   "metadata": {},
   "outputs": [],
   "source": [
    "df = pd.read_pickle('../data/pickle/dep.pickle')"
   ]
  },
  {
   "cell_type": "code",
   "execution_count": 175,
   "metadata": {},
   "outputs": [],
   "source": [
    "prereq_for = df.prerequisite_for.apply(lambda x: \" \".join(list(x)))"
   ]
  },
  {
   "cell_type": "code",
   "execution_count": 176,
   "metadata": {},
   "outputs": [],
   "source": [
    "import re\n",
    "regex = re.compile(\"([A-Za-z]{2,6}-\\d{3}(?:\\([A-Za-z0-9]+\\))?)\")"
   ]
  },
  {
   "cell_type": "code",
   "execution_count": 177,
   "metadata": {},
   "outputs": [
    {
     "data": {
      "text/plain": [
       "AR-219                                              [PENS-303]\n",
       "BIO-203                [BIOENG-390, BIO-501, BIO-503, BIO-504]\n",
       "BIO-204                [BIOENG-390, BIO-501, BIO-503, BIO-504]\n",
       "BIOENG-315                                        [BIOENG-442]\n",
       "CH-110                                        [CH-108, CH-109]\n",
       "CIVIL-308                                          [CIVIL-404]\n",
       "CIVIL-532                               [CIVIL-436, CIVIL-437]\n",
       "COM-301                                      [COM-402, CS-523]\n",
       "COM-401                                     [COM-401, COM-408]\n",
       "COM-516                                              [COM-512]\n",
       "CS-107                                                [CS-108]\n",
       "CS-119(c)                                         [COM-112(a)]\n",
       "CS-173                                        [CS-208, CS-209]\n",
       "CS-207                        [CS-322, CS-206, CS-323, CS-305]\n",
       "CS-212                                                [CS-323]\n",
       "CS-308                                               [COM-611]\n",
       "CS-309                                        [CS-473, CS-476]\n",
       "CS-328        [CS-341, CS-440, CS-442, CS-413, CS-444, CS-445]\n",
       "CS-473                                                [CS-476]\n",
       "EE-110                                             [MICRO-210]\n",
       "EE-208                                                [EE-310]\n",
       "EE-295                                [EE-296, EE-295, EE-296]\n",
       "EE-310                                        [EE-334, EE-397]\n",
       "EE-330                                             [EE-490(b)]\n",
       "EE-365                                        [EE-465, EE-565]\n",
       "EE-465                                                [EE-565]\n",
       "ENV-221                                              [ENV-424]\n",
       "HUM-114                                     [HUM-353, HUM-428]\n",
       "HUM-432                                              [HUM-432]\n",
       "HUM-440                                              [HUM-460]\n",
       "HUM-471                                              [HUM-470]\n",
       "HUM-498(a)                                        [HUM-498(b)]\n",
       "HUM-498(b)                                        [HUM-498(c)]\n",
       "HUM-499(a)                                           [HUM-499]\n",
       "MATH-313                                            [MATH-417]\n",
       "ME-221                [ME-321, ME-332, ME-324, ME-301, ME-311]\n",
       "ME-331                                        [ME-473, ME-432]\n",
       "MGT-414                                              [MGT-411]\n",
       "MICRO-210                                          [MICRO-315]\n",
       "MICRO-423                                          [MICRO-425]\n",
       "MICRO-570                          [MICRO-455, CS-433, EE-516]\n",
       "MSE-443(a)                                        [MSE-443(b)]\n",
       "PHYS-311                                            [PHYS-312]\n",
       "Name: prerequisite_for, dtype: object"
      ]
     },
     "execution_count": 177,
     "metadata": {},
     "output_type": "execute_result"
    }
   ],
   "source": [
    "prereq_matches = prereq_for.apply(lambda x: regex.findall(x))\n",
    "prereq_matches[prereq_matches.apply(lambda x: len(x) > 0)]"
   ]
  },
  {
   "cell_type": "code",
   "execution_count": 178,
   "metadata": {},
   "outputs": [
    {
     "data": {
      "text/plain": [
       "AR-126                             [AR-125, PHYS-118, CIVIL-122]\n",
       "AR-219                                      [MATH-124, MATH-126]\n",
       "AR-366                                                  [AR-365]\n",
       "AR-435                                                  [AR-484]\n",
       "BIO-603(MS)                               [MICRO-561, MICRO-562]\n",
       "                                     ...                        \n",
       "MICRO-424      [MICRO-420, MICRO-421, MICRO-422, MICRO-522, M...\n",
       "MICRO-504                                            [Micro-331]\n",
       "MICRO-507                                    [Micro-454, ME-425]\n",
       "MSE-424                              [MSE-203, MSE-205, MSE-310]\n",
       "MSE-715                                                [MSE-637]\n",
       "Name: required, Length: 110, dtype: object"
      ]
     },
     "execution_count": 178,
     "metadata": {},
     "output_type": "execute_result"
    }
   ],
   "source": [
    "required = df.required.apply(lambda x: \" \".join(list(x)))\n",
    "\n",
    "req_matches = required.apply(lambda x: regex.findall(x))\n",
    "req_matches[req_matches.apply(lambda x: len(x) > 0)]"
   ]
  },
  {
   "cell_type": "code",
   "execution_count": 179,
   "metadata": {},
   "outputs": [
    {
     "data": {
      "text/plain": [
       "AR-402(a)                                [AR-402]\n",
       "AR-402(y)                             [AR-401(Y)]\n",
       "AR-485                        [AR-487, AR-402(n)]\n",
       "AR-487                                [AR-401(n)]\n",
       "BIO-203                        [BIO-103, BIO-104]\n",
       "                             ...                 \n",
       "MSE-464      [MSE-230, MSE-205, MSE-310, MSE-304]\n",
       "PENS-303                        [AR-219, ENV-140]\n",
       "PHYS-313                                [HUM-315]\n",
       "PHYS-314                                [HUM-315]\n",
       "PHYS-750                               [PHYS-448]\n",
       "Name: recommended, Length: 99, dtype: object"
      ]
     },
     "execution_count": 179,
     "metadata": {},
     "output_type": "execute_result"
    }
   ],
   "source": [
    "recommended = df.recommended.apply(lambda x: \" \".join(list(x)))\n",
    "\n",
    "rec_matches = recommended.apply(lambda x: regex.findall(x))\n",
    "rec_matches[rec_matches.apply(lambda x: len(x) > 0)]"
   ]
  },
  {
   "cell_type": "code",
   "execution_count": null,
   "metadata": {},
   "outputs": [],
   "source": []
  }
 ],
 "metadata": {
  "kernelspec": {
   "display_name": "Python 3",
   "language": "python",
   "name": "python3"
  },
  "language_info": {
   "codemirror_mode": {
    "name": "ipython",
    "version": 3
   },
   "file_extension": ".py",
   "mimetype": "text/x-python",
   "name": "python",
   "nbconvert_exporter": "python",
   "pygments_lexer": "ipython3",
   "version": "3.7.3"
  }
 },
 "nbformat": 4,
 "nbformat_minor": 4
}
