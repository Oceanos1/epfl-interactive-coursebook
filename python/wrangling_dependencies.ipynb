{
 "cells": [
  {
   "cell_type": "code",
   "execution_count": 2,
   "metadata": {},
   "outputs": [],
   "source": [
    "import pandas as pd"
   ]
  },
  {
   "cell_type": "code",
   "execution_count": 3,
   "metadata": {},
   "outputs": [],
   "source": [
    "df = pd.read_pickle('../data/pickle/dep.pickle')"
   ]
  },
  {
   "cell_type": "code",
   "execution_count": 5,
   "metadata": {},
   "outputs": [],
   "source": [
    "df.prerequisite_for = df.prerequisite_for.apply(lambda x: \" \".join(list(x)))"
   ]
  },
  {
   "cell_type": "code",
   "execution_count": 9,
   "metadata": {},
   "outputs": [
    {
     "data": {
      "text/plain": [
       "AR-123                          Histoire de l'architecture II\n",
       "AR-126                                Technologie du bâti III\n",
       "AR-211      Figuration numérique. Figuration expressive. C...\n",
       "AR-219      Du relevé numérique à la mesure du changement ...\n",
       "AR-241      Théorie et critique du projet. Science et Tech...\n",
       "                                  ...                        \n",
       "PHYS-419                               Solid state physics IV\n",
       "PHYS-425                                   Quantum Physics IV\n",
       "PHYS-431    Recommended for Theoretical Physics and for Pa...\n",
       "PHYS-432                 Prerequisite for Theoretical Physics\n",
       "PHYS-442               les stages et les projets de recherche\n",
       "Name: prerequisite_for, Length: 381, dtype: object"
      ]
     },
     "execution_count": 9,
     "metadata": {},
     "output_type": "execute_result"
    }
   ],
   "source": [
    "df.prerequisite_for[df.prerequisite_for != '']"
   ]
  }
 ],
 "metadata": {
  "kernelspec": {
   "display_name": "Python 3",
   "language": "python",
   "name": "python3"
  },
  "language_info": {
   "codemirror_mode": {
    "name": "ipython",
    "version": 3
   },
   "file_extension": ".py",
   "mimetype": "text/x-python",
   "name": "python",
   "nbconvert_exporter": "python",
   "pygments_lexer": "ipython3",
   "version": "3.7.3"
  }
 },
 "nbformat": 4,
 "nbformat_minor": 4
}
