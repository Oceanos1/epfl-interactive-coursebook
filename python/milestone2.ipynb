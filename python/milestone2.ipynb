{
 "cells": [
  {
   "cell_type": "markdown",
   "metadata": {},
   "source": [
    "Two A4 pages describing the **project goal**.\n",
    "\n",
    "Include sketches of the vizualiation you want to make in your final product.\n",
    "**List the tools** that you will use for each visualization and which (past or future) lectures you will need.\n",
    "**Break down your goal into independent pieces to implement**. \n",
    "Try to design **a core visualization** (minimal viable product) that will be required at the end.\n",
    "Then **list extra ideas** (more creative or challenging) that will enhance the visualization but could be dropped without endangering the meaning of the project.\n",
    "\n",
    "Functional project prototype review.\n",
    "\n",
    "You should have an initial website running with the basic skeleton of the visualization/widgets."
   ]
  },
  {
   "cell_type": "markdown",
   "metadata": {},
   "source": [
    "<header style=\"text-align: center\">\n",
    "    <h1>EPFL Interactive Coursebook</h1>\n",
    "    <h2>Project in Data Visualization</h2>\n",
    "    <p style=\"text-align: center\">EPFL Spring 2020</p>\n",
    "    <p style=\"text-align: center\">Group name: Vizcachas</p><br>\n",
    "    <p style=\"text-align: center\"><strong><a href=\"http://epfl.space\">Take a look at the App!</a></strong></p><br>\n",
    "</header>"
   ]
  },
  {
   "cell_type": "markdown",
   "metadata": {},
   "source": [
    "# Project Goal\n",
    "\n",
    "As briefly described in the first milestone, the goal of this project is threefold:\n",
    "\n",
    "1. Visualize the network of courses currently offered at EPFL and their dependencies on a directed graph\n",
    "2. Create an interactive, user-friendly tool for filtering courses by various parameters and viewing course information\n",
    "3. Present a data story to summarize interesting insights about the data"
   ]
  },
  {
   "cell_type": "markdown",
   "metadata": {},
   "source": [
    "The main product of the project, incorporating all three goals, is a web application publicly accessible at [**http://epfl.space**](http://epfl.space). The application is a work in progress."
   ]
  },
  {
   "cell_type": "markdown",
   "metadata": {},
   "source": [
    "<!-- Another aim is to provide We have at our disposal the set of all EPFL programs, courses and course registrations.\n",
    "\n",
    "If you are a student at EPFL, you know that sometimes it can be hard to pick suitable courses for the upcoming semester. If you are a teacher at EPFL, you might be familiar with the challenge of understanding what other teachers are teaching your students and how it relates to the content in your course or which courses teach similar or related concepts. You might have browsed through the different study plans and course books and opened multiple tabs on your web browser in order to make sense of the highly interconnected system of knowledge that is being presented in a fragmented way.\n",
    "\n",
    "The courses themselves will be represented by the nodes of the graph and dependencies between courses as (directed) edges. Different node colors, shapes and sizes will be used to distinguish nodes. For instance, the number of registered students could determine the node size. We envision both an impressive visualization and a rich interactive tool with options for searching and filtering. The user should be able to filter by level, section, program, specialization, course name or code. This can come in handy in many instances, for example when students want to see only the courses of their own program. When filters are applied, nodes in the immediate neighbourhood that don't fulfill the filter condition are displayed in a neutral color. When hovering over or selecting a node, information is displayed about the course.\n",
    "\n",
    "We also aim to provide a complementary data analysis summary on a separate page in the form of a data story, with plots and textual descriptions.\n",
    " -->"
   ]
  },
  {
   "cell_type": "markdown",
   "metadata": {},
   "source": [
    "# Tools and Design\n",
    "\n",
    "One can think of the project in terms of two related components; one relates to the user interface (UI) and the other to the data visualization. In this section we discuss the design of both parts and the tools used for implementing them.\n",
    "\n",
    "## User Interface\n",
    "\n",
    "We have already deployed a [single-page application](https://en.wikipedia.org/wiki/Single-page_application) using [Vue.js](http://vuejs.org/). Most of the UI is implemented with [Vuetify](https://vuetifyjs.com/en/), a Vue UI library. \n",
    "\n",
    "The design of the main/home view can be seen in [Figure 1](#fig1). The filter sidebar will be expandable to enable more space for the main content (especially important when viewing on mobile). The home view navigation is a tabbed interface for pseudo-navigation in the home view, enabling the user to switch between network and list views of the current filter parameters. The network and list views are synchronized and \"kept alive\" so that they are not loaded again when the user switches between them. When the user enters the page, no filters are applied by default and all courses are visible. The list view has a simple paging functionality and is provided as an alternative which we will not discuss in detail here."
   ]
  },
  {
   "cell_type": "markdown",
   "metadata": {},
   "source": [
    "<figure id=\"fig1\" style=\"height: 500px; width: 500px\">\n",
    "    <img src=\"../sketches/sketch-ui.jpg\">\n",
    "    <figcaption>Figure 1: Desktop UI for the main view</figcaption>\n",
    "</figure>"
   ]
  },
  {
   "cell_type": "markdown",
   "metadata": {},
   "source": [
    "## Visualizations\n",
    "\n",
    "Now, let's consider the design of the visualizations.\n",
    "\n",
    "### Dependency graph\n",
    "The visual component is the graph view/visualization (see [Figure 2](#fig2)). The courses themselves are represented by the nodes and dependencies between courses as (directed) edges, where the source is a prerequisite for the target. The graph is implemented using [d3-force](https://github.com/d3/d3-force). A simulation is created using `d3.forceSimulation()` and it is restarted when filters are changed. The [concrete implementation](https://github.com/com-480-data-visualization/com-480-project-vizcachas/blob/master/src/d3/graph.js) can be viewed on GitHub.\n",
    "\n",
    "Here is a list of features that will be included in the final product. First we list core features for the minimal viable product and then extra features that will enhance the visualization but could be dropped without endangering the meaning of the project:\n",
    "\n",
    "**Core features**\n",
    "- :white_check_mark: Enable filtering of courses by level, program, specialization, credits, section, and semester\n",
    "- :white_check_mark: Update graph dynamically when filter is changed\n",
    "- :white_check_mark: Color entering nodes in green, updated nodes in orange and exiting in red (by default)\n",
    "- :white_check_mark: Determine node size from the number of credits (by default)\n",
    "- :black_square_button: Make edges appear as directed (with arrow tips)\n",
    "- :black_square_button: Render ingoing and outgoing neighbours of the current set of nodes in a passive color (like gray), with lower opacity. This is for the user to also see all courses which are not part of the current selection, for instance to see requirements which are outside of a selected study program.\n",
    "- :black_square_button: Enable the user to travel around and zoom\n",
    "- :black_square_button: Display minimal meta information about a course when hovering over it (id, name, credits, in-/out-degree)\n",
    "- :black_square_button: Display page with detailed info about a course when selecting it on the graph (as in the list view)\n",
    "\n",
    "\n",
    "**Extra features**\n",
    "- :black_square_button: Enable user to toggle the display of neighbourhood of the current selection (on by default)\n",
    "- :black_square_button: Enable user to toggle the edges on/off\n",
    "- :black_square_button: Display meta info about the graph, such as total counts of nodes and edges, node degree or centrality summaries\n",
    "- :black_square_button: Enable user to select how node sizes are determined: number of credits (default), popularity, in-degree, out-degree, etc.\n",
    "- :black_square_button: Enable the user to move nodes around (CTRL + CLICK)"
   ]
  },
  {
   "cell_type": "markdown",
   "metadata": {},
   "source": [
    "<figure id=\"fig2\" style=\"height: 500px; width: 500px\">\n",
    "    <img src=\"../sketches/sketch-d3-graph.jpg\">\n",
    "    <figcaption>Figure 2: Draft sketch of the graph visualization. The filter sidebar is on the left, and the main graph SVG element on the right. Green nodes are new compared to last selection and orange are those that remained unchanged. The black/gray nodes are nearest neighbours to the current selection. When hovering over a node, a tooltip appears displaying meta info about the course.</figcaption>\n",
    "</figure>"
   ]
  },
  {
   "cell_type": "markdown",
   "metadata": {},
   "source": [
    "### Line Plot of Course Registrations"
   ]
  },
  {
   "cell_type": "markdown",
   "metadata": {},
   "source": [
    "<figure id=\"fig3\" style=\"height: 500px; width: 500px\">\n",
    "    <img src=\"../sketches/sketch-course-details.jpg\">\n",
    "    <figcaption>Figure 3: The course details component</figcaption>\n",
    "</figure>"
   ]
  },
  {
   "cell_type": "markdown",
   "metadata": {},
   "source": [
    "Other features:\n",
    "\n",
    "- :black_square_button: Enable user to pick which courses he/she wants to see (autocomplete search box) "
   ]
  },
  {
   "cell_type": "markdown",
   "metadata": {},
   "source": [
    "We will mainly use the D3.js library and the Vue.js framework for our visualisations. We are going to take inspiration from the following lectures in particular:\n",
    " - **Lecture 10 (graphs)** for our main feature, which is the prerequisite graph\n",
    " - **Lecture 11 (tabular data)** for the registrations per year\n",
    " - **Lecture 7.1 (designing viz)** and **7.2 (do and dont)** for the general design approaches\n",
    "\n",
    "To be considered:\n",
    "- **Lecture 9 (text)** wordmap of the course codes that show up the most often in the prerequisites?"
   ]
  }
 ],
 "metadata": {
  "kernelspec": {
   "display_name": "Python 3",
   "language": "python",
   "name": "python3"
  },
  "language_info": {
   "codemirror_mode": {
    "name": "ipython",
    "version": 3
   },
   "file_extension": ".py",
   "mimetype": "text/x-python",
   "name": "python",
   "nbconvert_exporter": "python",
   "pygments_lexer": "ipython3",
   "version": "3.7.3"
  }
 },
 "nbformat": 4,
 "nbformat_minor": 4
}
