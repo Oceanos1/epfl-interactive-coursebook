{
 "cells": [
  {
   "cell_type": "markdown",
   "metadata": {},
   "source": [
    "# Notebook"
   ]
  },
  {
   "cell_type": "markdown",
   "metadata": {},
   "source": [
    "<figure>\n",
    "  <img src=\"../src/assets/valentin.png\">\n",
    "  <figcaption>This is Valentin</figcaption>\n",
    "</figure>"
   ]
  },
  {
   "cell_type": "markdown",
   "metadata": {},
   "source": [
    "## The Project Goal"
   ]
  },
  {
   "cell_type": "code",
   "execution_count": null,
   "metadata": {},
   "outputs": [],
   "source": []
  },
  {
   "cell_type": "markdown",
   "metadata": {},
   "source": [
    "## Pieces to implement/ideas"
   ]
  },
  {
   "cell_type": "markdown",
   "metadata": {},
   "source": [
    "Three main components:\n",
    "- **Prerequisite graph (add description)**\n",
    "    - arrows on the links from the required course to the target course\n",
    "    - dynamic updates to the graph when user uses the filter\n",
    "    - basic info about a course appearing on a mouse hover\n",
    "    - detailed info about a course on click\n",
    "    - count of filtered courses\n",
    "    - node size dependent on the number of courses that a given course is a prerequisite for OR number of credits\n",
    "- **List of courses (add description)**\n",
    "    - pieces to implement?\n",
    "- **Individual course information (add description)**\n",
    "    - the detailed info from the online coursebook\n",
    "    - visualisation of the number of registrations during the previous years"
   ]
  },
  {
   "cell_type": "markdown",
   "metadata": {},
   "source": [
    "## Tools and lectures (\"for each visualisation\")"
   ]
  },
  {
   "cell_type": "markdown",
   "metadata": {},
   "source": [
    "We will mainly use the D3.js library and the Vue.js framework for our visualisations. We are going to take inspiration from the following lectures in particular:\n",
    " - **Lecture 10 (graphs)** for our main feature, which is the prerequisite graph\n",
    " - **Lecture 11 (tabular data)** for the registrations per year\n",
    " - **Lecture 7.1 (designing viz)** and **7.2 (do and dont)** for the general design approaches\n",
    "\n",
    "To be considered:\n",
    "- **Lecture 9 (text)**"
   ]
  }
 ],
 "metadata": {
  "kernelspec": {
   "display_name": "Python 3",
   "language": "python",
   "name": "python3"
  },
  "language_info": {
   "codemirror_mode": {
    "name": "ipython",
    "version": 3
   },
   "file_extension": ".py",
   "mimetype": "text/x-python",
   "name": "python",
   "nbconvert_exporter": "python",
   "pygments_lexer": "ipython3",
   "version": "3.7.1"
  }
 },
 "nbformat": 4,
 "nbformat_minor": 4
}
