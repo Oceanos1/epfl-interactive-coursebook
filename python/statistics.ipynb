{
 "cells": [
  {
   "cell_type": "code",
   "execution_count": null,
   "metadata": {},
   "outputs": [],
   "source": [
    "import json\n",
    "import numpy as np\n",
    "import pandas as pd\n",
    "import matplotlib.pyplot as plt"
   ]
  },
  {
   "cell_type": "code",
   "execution_count": null,
   "metadata": {},
   "outputs": [],
   "source": [
    "with open(\"../data/processed/epfl_courses.json\") as file:\n",
    "    epfl_courses = json.load(file)\n",
    "with open(\"../data/processed/epfl_programs.json\") as file:\n",
    "     epfl_programs = json.load(file)\n",
    "with open(\"../data/processed/epfl_studyplans.json\") as file:\n",
    "     epfl_studyplans = json.load(file)"
   ]
  },
  {
   "cell_type": "code",
   "execution_count": null,
   "metadata": {},
   "outputs": [],
   "source": [
    "programs = pd.DataFrame.from_dict(epfl_programs, orient='index')\n",
    "courses = pd.DataFrame.from_dict(epfl_courses, orient='index')\n",
    "studyplans = pd.DataFrame.from_dict(epfl_studyplans, orient='index')"
   ]
  },
  {
   "cell_type": "markdown",
   "metadata": {},
   "source": [
    "## Programs"
   ]
  },
  {
   "cell_type": "code",
   "execution_count": null,
   "metadata": {},
   "outputs": [],
   "source": [
    "program_counts = programs.fillna(0).applymap(lambda a: a if a == 0 else len(a)).T\n",
    "program_counts.head(5)"
   ]
  },
  {
   "cell_type": "code",
   "execution_count": null,
   "metadata": {},
   "outputs": [],
   "source": [
    "levels = programs.index\n",
    "level_dict = {}\n",
    "\n",
    "for level in levels:\n",
    "    level_dict[level] = program_counts[level][program_counts[level]!=0]"
   ]
  },
  {
   "cell_type": "code",
   "execution_count": null,
   "metadata": {},
   "outputs": [],
   "source": [
    "#Plotting the histograms of number of courses available per program on a given level\n",
    "fig, axs = plt.subplots(3,2, figsize=(20, 20))\n",
    "fig.tight_layout(pad=5.0)\n",
    "fig.suptitle('Number of courses per program on a given level')\n",
    "for x in range(3):\n",
    "    for y in range(2):\n",
    "        level_name = levels[2*y + x]\n",
    "        axs[x,y].hist(level_dict[level_name], bins=range(0,140,10))\n",
    "        axs[x,y].set_title(level_name)\n",
    "        \n",
    "        axs[x,y].set_xticks(range(0,140,10))\n",
    "        axs[x,y].set_yticks(range(12))\n",
    "        \n",
    "        axs[x,y].set_xlabel('Number of courses')"
   ]
  }
 ],
 "metadata": {
  "kernelspec": {
   "display_name": "Python 3",
   "language": "python",
   "name": "python3"
  },
  "language_info": {
   "codemirror_mode": {
    "name": "ipython",
    "version": 3
   },
   "file_extension": ".py",
   "mimetype": "text/x-python",
   "name": "python",
   "nbconvert_exporter": "python",
   "pygments_lexer": "ipython3",
   "version": "3.7.7"
  }
 },
 "nbformat": 4,
 "nbformat_minor": 2
}
