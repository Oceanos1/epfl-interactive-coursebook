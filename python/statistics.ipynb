{
 "cells": [
  {
   "cell_type": "code",
   "execution_count": null,
   "metadata": {},
   "outputs": [],
   "source": [
    "import json\n",
    "import numpy as np\n",
    "import pandas as pd\n",
    "import matplotlib.pyplot as plt"
   ]
  },
  {
   "cell_type": "code",
   "execution_count": null,
   "metadata": {},
   "outputs": [],
   "source": [
    "with open(\"../data/processed/epfl_courses.json\") as file:\n",
    "    epfl_courses = json.load(file)\n",
    "with open(\"../data/processed/epfl_programs.json\") as file:\n",
    "     epfl_programs = json.load(file)\n",
    "with open(\"../data/processed/epfl_studyplans.json\") as file:\n",
    "     epfl_studyplans = json.load(file)"
   ]
  },
  {
   "cell_type": "code",
   "execution_count": null,
   "metadata": {},
   "outputs": [],
   "source": [
    "programs = pd.DataFrame.from_dict(epfl_programs, orient='index')\n",
    "courses = pd.DataFrame.from_dict(epfl_courses, orient='index')\n",
    "studyplans = pd.DataFrame.from_dict(epfl_studyplans, orient='index')"
   ]
  },
  {
   "cell_type": "markdown",
   "metadata": {},
   "source": [
    "## Programs"
   ]
  },
  {
   "cell_type": "code",
   "execution_count": null,
   "metadata": {},
   "outputs": [],
   "source": [
    "program_counts = programs.fillna(0).applymap(lambda a: a if a == 0 else len(a)).T\n",
    "program_counts.head(5)"
   ]
  },
  {
   "cell_type": "code",
   "execution_count": null,
   "metadata": {},
   "outputs": [],
   "source": [
    "level_dict = {\n",
    "    level: program_counts[level][program_counts[level]!=0]\n",
    "    for level in programs.index\n",
    "}"
   ]
  },
  {
   "cell_type": "code",
   "execution_count": null,
   "metadata": {},
   "outputs": [],
   "source": [
    "#Plotting the histograms of number of courses available per program on a given level\n",
    "fig = plt.figure(figsize=(20, 15))\n",
    "\n",
    "fig.suptitle('Number of programs with a given number of courses, per education level')\n",
    "\n",
    "rows = 3\n",
    "columns = 2\n",
    "\n",
    "for i, level in enumerate(levels):\n",
    "    ax = fig.add_subplot(rows, columns, i+1)\n",
    "    ax.hist(level_dict[level], bins=range(0,140,10))\n",
    "    ax.set_title(level_name)\n",
    "        \n",
    "    ax.set_xticks(range(0,140,10))\n",
    "    ax.set_yticks(range(12))\n",
    "        \n",
    "    ax.set_xlabel('# of courses')\n",
    "    ax.set_ylabel('# of programs')\n",
    "fig.tight_layout(pad=5.0)\n",
    "plt.show()"
   ]
  },
  {
   "cell_type": "code",
   "execution_count": null,
   "metadata": {},
   "outputs": [],
   "source": [
    "master = level_dict['master']\n",
    "master[master>120]"
   ]
  },
  {
   "cell_type": "code",
   "execution_count": null,
   "metadata": {},
   "outputs": [],
   "source": [
    "bachelor = level_dict['bachelor']\n",
    "bachelor[bachelor>90]"
   ]
  }
 ],
 "metadata": {
  "kernelspec": {
   "display_name": "Python 3",
   "language": "python",
   "name": "python3"
  },
  "language_info": {
   "codemirror_mode": {
    "name": "ipython",
    "version": 3
   },
   "file_extension": ".py",
   "mimetype": "text/x-python",
   "name": "python",
   "nbconvert_exporter": "python",
   "pygments_lexer": "ipython3",
   "version": "3.7.7"
  }
 },
 "nbformat": 4,
 "nbformat_minor": 2
}
